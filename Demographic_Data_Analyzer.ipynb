{
  "nbformat": 4,
  "nbformat_minor": 0,
  "metadata": {
    "colab": {
      "name": "Demographic Data Analyzer.ipynb",
      "provenance": [],
      "collapsed_sections": [
        "ktJEq-gnqX8l"
      ],
      "mount_file_id": "1sGyA4vC3_4Wi3bHTRG54Wjwx6BhmSH8r",
      "authorship_tag": "ABX9TyPF25EjHLWKXeal5kVnFPlL",
      "include_colab_link": true
    },
    "kernelspec": {
      "display_name": "Python 3",
      "name": "python3"
    },
    "language_info": {
      "name": "python"
    }
  },
  "cells": [
    {
      "cell_type": "markdown",
      "metadata": {
        "id": "view-in-github",
        "colab_type": "text"
      },
      "source": [
        "<a href=\"https://colab.research.google.com/github/JakubPyt/Demographic_Data_Analyzer/blob/main/Demographic_Data_Analyzer.ipynb\" target=\"_parent\"><img src=\"https://colab.research.google.com/assets/colab-badge.svg\" alt=\"Open In Colab\"/></a>"
      ]
    },
    {
      "cell_type": "markdown",
      "metadata": {
        "id": "UBy--U4TQ3sS"
      },
      "source": [
        "# Demographic Data Analyzer"
      ]
    },
    {
      "cell_type": "markdown",
      "metadata": {
        "id": "kIimCE9-cbpm"
      },
      "source": [
        "This project was created as part of the course on the free Code Camp website:\n",
        "\n",
        "https://www.freecodecamp.org/learn/data-analysis-with-python/data-analysis-with-python-projects/demographic-data-analyzer \n",
        "\n",
        "On this project I had to analyze demographic data using pandas. I got a dataset of demographic data, that was extracted from the 1994 Census database.\n",
        "\n",
        "But also I challenged myself to visualise answers. "
      ]
    },
    {
      "cell_type": "code",
      "metadata": {
        "colab": {
          "base_uri": "https://localhost:8080/",
          "height": 344
        },
        "id": "k_N5RjZsqljN",
        "outputId": "f464aeeb-8cfe-4e14-f8f1-d03fd2ed07b4"
      },
      "source": [
        "# Import of needed library\n",
        "import pandas as pd\n",
        "import numpy as np\n",
        "import matplotlib.pyplot as plt\n",
        "import seaborn as sns\n",
        "import plotly.express as px\n",
        "\n",
        "# Import the data \n",
        "url = 'https://raw.githubusercontent.com/JakubPyt/Demographic_Data_Analyzer/main/adult.data.csv'\n",
        "data = pd.read_csv(url, sep=\";\")\n",
        "\n",
        "# Display first five rows of dataset\n",
        "data.head()"
      ],
      "execution_count": 223,
      "outputs": [
        {
          "output_type": "display_data",
          "data": {
            "application/javascript": [
              "\n",
              "  for (rule of document.styleSheets[0].cssRules){\n",
              "    if (rule.selectorText=='body') {\n",
              "      rule.style.fontSize = '30px'\n",
              "      break\n",
              "    }\n",
              "  }\n",
              "  "
            ],
            "text/plain": [
              "<IPython.core.display.Javascript object>"
            ]
          },
          "metadata": {
            "tags": []
          }
        },
        {
          "output_type": "display_data",
          "data": {
            "application/javascript": [
              "\n",
              "  for (rule of document.styleSheets[0].cssRules){\n",
              "    if (rule.selectorText=='body') {\n",
              "      rule.style.fontSize = '30px'\n",
              "      break\n",
              "    }\n",
              "  }\n",
              "  "
            ],
            "text/plain": [
              "<IPython.core.display.Javascript object>"
            ]
          },
          "metadata": {
            "tags": []
          }
        },
        {
          "output_type": "display_data",
          "data": {
            "application/javascript": [
              "\n",
              "  for (rule of document.styleSheets[0].cssRules){\n",
              "    if (rule.selectorText=='body') {\n",
              "      rule.style.fontSize = '18px'\n",
              "      break\n",
              "    }\n",
              "  }\n",
              "  "
            ],
            "text/plain": [
              "<IPython.core.display.Javascript object>"
            ]
          },
          "metadata": {
            "tags": []
          }
        },
        {
          "output_type": "display_data",
          "data": {
            "application/javascript": [
              "\n",
              "  for (rule of document.styleSheets[0].cssRules){\n",
              "    if (rule.selectorText=='body') {\n",
              "      rule.style.fontSize = '16px'\n",
              "      break\n",
              "    }\n",
              "  }\n",
              "  "
            ],
            "text/plain": [
              "<IPython.core.display.Javascript object>"
            ]
          },
          "metadata": {
            "tags": []
          }
        },
        {
          "output_type": "display_data",
          "data": {
            "application/javascript": [
              "\n",
              "  for (rule of document.styleSheets[0].cssRules){\n",
              "    if (rule.selectorText=='body') {\n",
              "      rule.style.fontSize = '16px'\n",
              "      break\n",
              "    }\n",
              "  }\n",
              "  "
            ],
            "text/plain": [
              "<IPython.core.display.Javascript object>"
            ]
          },
          "metadata": {
            "tags": []
          }
        },
        {
          "output_type": "execute_result",
          "data": {
            "text/html": [
              "<div>\n",
              "<style scoped>\n",
              "    .dataframe tbody tr th:only-of-type {\n",
              "        vertical-align: middle;\n",
              "    }\n",
              "\n",
              "    .dataframe tbody tr th {\n",
              "        vertical-align: top;\n",
              "    }\n",
              "\n",
              "    .dataframe thead th {\n",
              "        text-align: right;\n",
              "    }\n",
              "</style>\n",
              "<table border=\"1\" class=\"dataframe\">\n",
              "  <thead>\n",
              "    <tr style=\"text-align: right;\">\n",
              "      <th></th>\n",
              "      <th>age</th>\n",
              "      <th>workclass</th>\n",
              "      <th>fnlwgt</th>\n",
              "      <th>education</th>\n",
              "      <th>education-num</th>\n",
              "      <th>marital-status</th>\n",
              "      <th>occupation</th>\n",
              "      <th>relationship</th>\n",
              "      <th>race</th>\n",
              "      <th>sex</th>\n",
              "      <th>capital-gain</th>\n",
              "      <th>capital-loss</th>\n",
              "      <th>hours-per-week</th>\n",
              "      <th>native-country</th>\n",
              "      <th>salary</th>\n",
              "    </tr>\n",
              "  </thead>\n",
              "  <tbody>\n",
              "    <tr>\n",
              "      <th>0</th>\n",
              "      <td>39</td>\n",
              "      <td>State-gov</td>\n",
              "      <td>77516</td>\n",
              "      <td>Bachelors</td>\n",
              "      <td>13</td>\n",
              "      <td>Never-married</td>\n",
              "      <td>Adm-clerical</td>\n",
              "      <td>Not-in-family</td>\n",
              "      <td>White</td>\n",
              "      <td>Male</td>\n",
              "      <td>2174</td>\n",
              "      <td>0</td>\n",
              "      <td>40</td>\n",
              "      <td>United-States</td>\n",
              "      <td>&lt;=50K</td>\n",
              "    </tr>\n",
              "    <tr>\n",
              "      <th>1</th>\n",
              "      <td>50</td>\n",
              "      <td>Self-emp-not-inc</td>\n",
              "      <td>83311</td>\n",
              "      <td>Bachelors</td>\n",
              "      <td>13</td>\n",
              "      <td>Married-civ-spouse</td>\n",
              "      <td>Exec-managerial</td>\n",
              "      <td>Husband</td>\n",
              "      <td>White</td>\n",
              "      <td>Male</td>\n",
              "      <td>0</td>\n",
              "      <td>0</td>\n",
              "      <td>13</td>\n",
              "      <td>United-States</td>\n",
              "      <td>&lt;=50K</td>\n",
              "    </tr>\n",
              "    <tr>\n",
              "      <th>2</th>\n",
              "      <td>38</td>\n",
              "      <td>Private</td>\n",
              "      <td>215646</td>\n",
              "      <td>HS-grad</td>\n",
              "      <td>9</td>\n",
              "      <td>Divorced</td>\n",
              "      <td>Handlers-cleaners</td>\n",
              "      <td>Not-in-family</td>\n",
              "      <td>White</td>\n",
              "      <td>Male</td>\n",
              "      <td>0</td>\n",
              "      <td>0</td>\n",
              "      <td>40</td>\n",
              "      <td>United-States</td>\n",
              "      <td>&lt;=50K</td>\n",
              "    </tr>\n",
              "    <tr>\n",
              "      <th>3</th>\n",
              "      <td>53</td>\n",
              "      <td>Private</td>\n",
              "      <td>234721</td>\n",
              "      <td>11th</td>\n",
              "      <td>7</td>\n",
              "      <td>Married-civ-spouse</td>\n",
              "      <td>Handlers-cleaners</td>\n",
              "      <td>Husband</td>\n",
              "      <td>Black</td>\n",
              "      <td>Male</td>\n",
              "      <td>0</td>\n",
              "      <td>0</td>\n",
              "      <td>40</td>\n",
              "      <td>United-States</td>\n",
              "      <td>&lt;=50K</td>\n",
              "    </tr>\n",
              "    <tr>\n",
              "      <th>4</th>\n",
              "      <td>28</td>\n",
              "      <td>Private</td>\n",
              "      <td>338409</td>\n",
              "      <td>Bachelors</td>\n",
              "      <td>13</td>\n",
              "      <td>Married-civ-spouse</td>\n",
              "      <td>Prof-specialty</td>\n",
              "      <td>Wife</td>\n",
              "      <td>Black</td>\n",
              "      <td>Female</td>\n",
              "      <td>0</td>\n",
              "      <td>0</td>\n",
              "      <td>40</td>\n",
              "      <td>Cuba</td>\n",
              "      <td>&lt;=50K</td>\n",
              "    </tr>\n",
              "  </tbody>\n",
              "</table>\n",
              "</div>"
            ],
            "text/plain": [
              "   age         workclass  fnlwgt  ... hours-per-week  native-country salary\n",
              "0   39         State-gov   77516  ...             40   United-States  <=50K\n",
              "1   50  Self-emp-not-inc   83311  ...             13   United-States  <=50K\n",
              "2   38           Private  215646  ...             40   United-States  <=50K\n",
              "3   53           Private  234721  ...             40   United-States  <=50K\n",
              "4   28           Private  338409  ...             40            Cuba  <=50K\n",
              "\n",
              "[5 rows x 15 columns]"
            ]
          },
          "metadata": {
            "tags": []
          },
          "execution_count": 223
        }
      ]
    },
    {
      "cell_type": "markdown",
      "metadata": {
        "id": "ktJEq-gnqX8l"
      },
      "source": [
        "### Changing the font size"
      ]
    },
    {
      "cell_type": "markdown",
      "metadata": {
        "id": "XwDu5gSDqj3P"
      },
      "source": [
        "I changed the outputs font size for clearer analysis."
      ]
    },
    {
      "cell_type": "code",
      "metadata": {
        "colab": {
          "base_uri": "https://localhost:8080/",
          "height": 0
        },
        "id": "RhbB4L8pm0yh",
        "outputId": "5ca68dc1-df6c-4fe2-f7b2-b9fd7ee2ad1a"
      },
      "source": [
        "def increase_font():\n",
        "  from IPython.display import Javascript\n",
        "  display(Javascript('''\n",
        "  for (rule of document.styleSheets[0].cssRules){\n",
        "    if (rule.selectorText=='body') {\n",
        "      rule.style.fontSize = '16px'\n",
        "      break\n",
        "    }\n",
        "  }\n",
        "  '''))\n",
        "\n",
        "get_ipython().events.register('pre_run_cell', increase_font)"
      ],
      "execution_count": 224,
      "outputs": [
        {
          "output_type": "display_data",
          "data": {
            "application/javascript": [
              "\n",
              "  for (rule of document.styleSheets[0].cssRules){\n",
              "    if (rule.selectorText=='body') {\n",
              "      rule.style.fontSize = '30px'\n",
              "      break\n",
              "    }\n",
              "  }\n",
              "  "
            ],
            "text/plain": [
              "<IPython.core.display.Javascript object>"
            ]
          },
          "metadata": {
            "tags": []
          }
        },
        {
          "output_type": "display_data",
          "data": {
            "application/javascript": [
              "\n",
              "  for (rule of document.styleSheets[0].cssRules){\n",
              "    if (rule.selectorText=='body') {\n",
              "      rule.style.fontSize = '30px'\n",
              "      break\n",
              "    }\n",
              "  }\n",
              "  "
            ],
            "text/plain": [
              "<IPython.core.display.Javascript object>"
            ]
          },
          "metadata": {
            "tags": []
          }
        },
        {
          "output_type": "display_data",
          "data": {
            "application/javascript": [
              "\n",
              "  for (rule of document.styleSheets[0].cssRules){\n",
              "    if (rule.selectorText=='body') {\n",
              "      rule.style.fontSize = '18px'\n",
              "      break\n",
              "    }\n",
              "  }\n",
              "  "
            ],
            "text/plain": [
              "<IPython.core.display.Javascript object>"
            ]
          },
          "metadata": {
            "tags": []
          }
        },
        {
          "output_type": "display_data",
          "data": {
            "application/javascript": [
              "\n",
              "  for (rule of document.styleSheets[0].cssRules){\n",
              "    if (rule.selectorText=='body') {\n",
              "      rule.style.fontSize = '16px'\n",
              "      break\n",
              "    }\n",
              "  }\n",
              "  "
            ],
            "text/plain": [
              "<IPython.core.display.Javascript object>"
            ]
          },
          "metadata": {
            "tags": []
          }
        },
        {
          "output_type": "display_data",
          "data": {
            "application/javascript": [
              "\n",
              "  for (rule of document.styleSheets[0].cssRules){\n",
              "    if (rule.selectorText=='body') {\n",
              "      rule.style.fontSize = '16px'\n",
              "      break\n",
              "    }\n",
              "  }\n",
              "  "
            ],
            "text/plain": [
              "<IPython.core.display.Javascript object>"
            ]
          },
          "metadata": {
            "tags": []
          }
        }
      ]
    },
    {
      "cell_type": "markdown",
      "metadata": {
        "id": "a4y7BPH-gbCt"
      },
      "source": [
        "## How many of each race are represented in this dataset? "
      ]
    },
    {
      "cell_type": "code",
      "metadata": {
        "colab": {
          "base_uri": "https://localhost:8080/",
          "height": 137
        },
        "id": "skq4DChxgXUx",
        "outputId": "1ec6111c-55b5-402f-88eb-f026a1eec927"
      },
      "source": [
        "# Simply value_counts for column 'race'\n",
        "race_count = data.race.value_counts()\n",
        "print(race_count) "
      ],
      "execution_count": 225,
      "outputs": [
        {
          "output_type": "display_data",
          "data": {
            "application/javascript": [
              "\n",
              "  for (rule of document.styleSheets[0].cssRules){\n",
              "    if (rule.selectorText=='body') {\n",
              "      rule.style.fontSize = '30px'\n",
              "      break\n",
              "    }\n",
              "  }\n",
              "  "
            ],
            "text/plain": [
              "<IPython.core.display.Javascript object>"
            ]
          },
          "metadata": {
            "tags": []
          }
        },
        {
          "output_type": "display_data",
          "data": {
            "application/javascript": [
              "\n",
              "  for (rule of document.styleSheets[0].cssRules){\n",
              "    if (rule.selectorText=='body') {\n",
              "      rule.style.fontSize = '30px'\n",
              "      break\n",
              "    }\n",
              "  }\n",
              "  "
            ],
            "text/plain": [
              "<IPython.core.display.Javascript object>"
            ]
          },
          "metadata": {
            "tags": []
          }
        },
        {
          "output_type": "display_data",
          "data": {
            "application/javascript": [
              "\n",
              "  for (rule of document.styleSheets[0].cssRules){\n",
              "    if (rule.selectorText=='body') {\n",
              "      rule.style.fontSize = '18px'\n",
              "      break\n",
              "    }\n",
              "  }\n",
              "  "
            ],
            "text/plain": [
              "<IPython.core.display.Javascript object>"
            ]
          },
          "metadata": {
            "tags": []
          }
        },
        {
          "output_type": "display_data",
          "data": {
            "application/javascript": [
              "\n",
              "  for (rule of document.styleSheets[0].cssRules){\n",
              "    if (rule.selectorText=='body') {\n",
              "      rule.style.fontSize = '16px'\n",
              "      break\n",
              "    }\n",
              "  }\n",
              "  "
            ],
            "text/plain": [
              "<IPython.core.display.Javascript object>"
            ]
          },
          "metadata": {
            "tags": []
          }
        },
        {
          "output_type": "display_data",
          "data": {
            "application/javascript": [
              "\n",
              "  for (rule of document.styleSheets[0].cssRules){\n",
              "    if (rule.selectorText=='body') {\n",
              "      rule.style.fontSize = '16px'\n",
              "      break\n",
              "    }\n",
              "  }\n",
              "  "
            ],
            "text/plain": [
              "<IPython.core.display.Javascript object>"
            ]
          },
          "metadata": {
            "tags": []
          }
        },
        {
          "output_type": "display_data",
          "data": {
            "application/javascript": [
              "\n",
              "  for (rule of document.styleSheets[0].cssRules){\n",
              "    if (rule.selectorText=='body') {\n",
              "      rule.style.fontSize = '16px'\n",
              "      break\n",
              "    }\n",
              "  }\n",
              "  "
            ],
            "text/plain": [
              "<IPython.core.display.Javascript object>"
            ]
          },
          "metadata": {
            "tags": []
          }
        },
        {
          "output_type": "stream",
          "text": [
            "White                 27816\n",
            "Black                  3124\n",
            "Asian-Pac-Islander     1039\n",
            "Amer-Indian-Eskimo      311\n",
            "Other                   271\n",
            "Name: race, dtype: int64\n"
          ],
          "name": "stdout"
        }
      ]
    },
    {
      "cell_type": "code",
      "metadata": {
        "colab": {
          "base_uri": "https://localhost:8080/",
          "height": 526
        },
        "id": "aphLdwUrhHIc",
        "outputId": "6a2fc74e-beae-4e5c-8a4a-655ed2c8fff4"
      },
      "source": [
        "# Matplotlib\n",
        "\n",
        "# Size of figure\n",
        "plt.figure(figsize=(18,8))\n",
        "\n",
        "# Create plot\n",
        "data['race'].value_counts().plot(\n",
        "    kind='bar',\n",
        "    color='darkblue'\n",
        ")\n",
        "\n",
        "# Chart settings\n",
        "plt.grid(True)\n",
        "plt.title('How many of each race are represented in this dataset?', fontsize=18)\n",
        "plt.xticks(rotation = 0, fontsize=12)\n",
        "plt.xlabel('Race', fontsize=14)\n",
        "plt.ylabel('Count', fontsize=14)\n",
        "\n",
        "plt.show()"
      ],
      "execution_count": 226,
      "outputs": [
        {
          "output_type": "display_data",
          "data": {
            "application/javascript": [
              "\n",
              "  for (rule of document.styleSheets[0].cssRules){\n",
              "    if (rule.selectorText=='body') {\n",
              "      rule.style.fontSize = '30px'\n",
              "      break\n",
              "    }\n",
              "  }\n",
              "  "
            ],
            "text/plain": [
              "<IPython.core.display.Javascript object>"
            ]
          },
          "metadata": {
            "tags": []
          }
        },
        {
          "output_type": "display_data",
          "data": {
            "application/javascript": [
              "\n",
              "  for (rule of document.styleSheets[0].cssRules){\n",
              "    if (rule.selectorText=='body') {\n",
              "      rule.style.fontSize = '30px'\n",
              "      break\n",
              "    }\n",
              "  }\n",
              "  "
            ],
            "text/plain": [
              "<IPython.core.display.Javascript object>"
            ]
          },
          "metadata": {
            "tags": []
          }
        },
        {
          "output_type": "display_data",
          "data": {
            "application/javascript": [
              "\n",
              "  for (rule of document.styleSheets[0].cssRules){\n",
              "    if (rule.selectorText=='body') {\n",
              "      rule.style.fontSize = '18px'\n",
              "      break\n",
              "    }\n",
              "  }\n",
              "  "
            ],
            "text/plain": [
              "<IPython.core.display.Javascript object>"
            ]
          },
          "metadata": {
            "tags": []
          }
        },
        {
          "output_type": "display_data",
          "data": {
            "application/javascript": [
              "\n",
              "  for (rule of document.styleSheets[0].cssRules){\n",
              "    if (rule.selectorText=='body') {\n",
              "      rule.style.fontSize = '16px'\n",
              "      break\n",
              "    }\n",
              "  }\n",
              "  "
            ],
            "text/plain": [
              "<IPython.core.display.Javascript object>"
            ]
          },
          "metadata": {
            "tags": []
          }
        },
        {
          "output_type": "display_data",
          "data": {
            "application/javascript": [
              "\n",
              "  for (rule of document.styleSheets[0].cssRules){\n",
              "    if (rule.selectorText=='body') {\n",
              "      rule.style.fontSize = '16px'\n",
              "      break\n",
              "    }\n",
              "  }\n",
              "  "
            ],
            "text/plain": [
              "<IPython.core.display.Javascript object>"
            ]
          },
          "metadata": {
            "tags": []
          }
        },
        {
          "output_type": "display_data",
          "data": {
            "application/javascript": [
              "\n",
              "  for (rule of document.styleSheets[0].cssRules){\n",
              "    if (rule.selectorText=='body') {\n",
              "      rule.style.fontSize = '16px'\n",
              "      break\n",
              "    }\n",
              "  }\n",
              "  "
            ],
            "text/plain": [
              "<IPython.core.display.Javascript object>"
            ]
          },
          "metadata": {
            "tags": []
          }
        },
        {
          "output_type": "display_data",
          "data": {
            "image/png": "[encoded data removed]",
            "text/plain": [
              "<Figure size 1296x576 with 1 Axes>"
            ]
          },
          "metadata": {
            "tags": []
          }
        }
      ]
    },
    {
      "cell_type": "markdown",
      "metadata": {
        "id": "S9o9IJ69hOps"
      },
      "source": [
        "## What is the average age of men?"
      ]
    },
    {
      "cell_type": "code",
      "metadata": {
        "colab": {
          "base_uri": "https://localhost:8080/",
          "height": 37
        },
        "id": "aYLJIPH5hTA9",
        "outputId": "0619e94c-35c2-40bd-c444-f5c19733a899"
      },
      "source": [
        "# First I chose only rows with sex \"Male\"\n",
        "# Next I caluculated mean of column age\n",
        "# And I rounded it to second place\n",
        "average_age_men = round(data[data.sex == 'Male'].age.mean(),2)\n",
        "\n",
        "print(\"Average age of men:\", average_age_men)"
      ],
      "execution_count": 227,
      "outputs": [
        {
          "output_type": "display_data",
          "data": {
            "application/javascript": [
              "\n",
              "  for (rule of document.styleSheets[0].cssRules){\n",
              "    if (rule.selectorText=='body') {\n",
              "      rule.style.fontSize = '30px'\n",
              "      break\n",
              "    }\n",
              "  }\n",
              "  "
            ],
            "text/plain": [
              "<IPython.core.display.Javascript object>"
            ]
          },
          "metadata": {
            "tags": []
          }
        },
        {
          "output_type": "display_data",
          "data": {
            "application/javascript": [
              "\n",
              "  for (rule of document.styleSheets[0].cssRules){\n",
              "    if (rule.selectorText=='body') {\n",
              "      rule.style.fontSize = '30px'\n",
              "      break\n",
              "    }\n",
              "  }\n",
              "  "
            ],
            "text/plain": [
              "<IPython.core.display.Javascript object>"
            ]
          },
          "metadata": {
            "tags": []
          }
        },
        {
          "output_type": "display_data",
          "data": {
            "application/javascript": [
              "\n",
              "  for (rule of document.styleSheets[0].cssRules){\n",
              "    if (rule.selectorText=='body') {\n",
              "      rule.style.fontSize = '18px'\n",
              "      break\n",
              "    }\n",
              "  }\n",
              "  "
            ],
            "text/plain": [
              "<IPython.core.display.Javascript object>"
            ]
          },
          "metadata": {
            "tags": []
          }
        },
        {
          "output_type": "display_data",
          "data": {
            "application/javascript": [
              "\n",
              "  for (rule of document.styleSheets[0].cssRules){\n",
              "    if (rule.selectorText=='body') {\n",
              "      rule.style.fontSize = '16px'\n",
              "      break\n",
              "    }\n",
              "  }\n",
              "  "
            ],
            "text/plain": [
              "<IPython.core.display.Javascript object>"
            ]
          },
          "metadata": {
            "tags": []
          }
        },
        {
          "output_type": "display_data",
          "data": {
            "application/javascript": [
              "\n",
              "  for (rule of document.styleSheets[0].cssRules){\n",
              "    if (rule.selectorText=='body') {\n",
              "      rule.style.fontSize = '16px'\n",
              "      break\n",
              "    }\n",
              "  }\n",
              "  "
            ],
            "text/plain": [
              "<IPython.core.display.Javascript object>"
            ]
          },
          "metadata": {
            "tags": []
          }
        },
        {
          "output_type": "display_data",
          "data": {
            "application/javascript": [
              "\n",
              "  for (rule of document.styleSheets[0].cssRules){\n",
              "    if (rule.selectorText=='body') {\n",
              "      rule.style.fontSize = '16px'\n",
              "      break\n",
              "    }\n",
              "  }\n",
              "  "
            ],
            "text/plain": [
              "<IPython.core.display.Javascript object>"
            ]
          },
          "metadata": {
            "tags": []
          }
        },
        {
          "output_type": "stream",
          "text": [
            "Average age of men: 39.43\n"
          ],
          "name": "stdout"
        }
      ]
    },
    {
      "cell_type": "code",
      "metadata": {
        "colab": {
          "base_uri": "https://localhost:8080/",
          "height": 317
        },
        "id": "-tjRPXeyhXOP",
        "outputId": "166c3760-b453-4feb-abe4-5486c2d75f68"
      },
      "source": [
        "# Plotly \n",
        "\n",
        "fig = px.box(\n",
        "    data[data.sex == 'Male'],\n",
        "    x='age',\n",
        "    orientation='h', \n",
        "    height=300,\n",
        "    title=\"Age analysis of men\", \n",
        ")\n",
        "\n",
        "fig.show()"
      ],
      "execution_count": 228,
      "outputs": [
        {
          "output_type": "display_data",
          "data": {
            "application/javascript": [
              "\n",
              "  for (rule of document.styleSheets[0].cssRules){\n",
              "    if (rule.selectorText=='body') {\n",
              "      rule.style.fontSize = '30px'\n",
              "      break\n",
              "    }\n",
              "  }\n",
              "  "
            ],
            "text/plain": [
              "<IPython.core.display.Javascript object>"
            ]
          },
          "metadata": {
            "tags": []
          }
        },
        {
          "output_type": "display_data",
          "data": {
            "application/javascript": [
              "\n",
              "  for (rule of document.styleSheets[0].cssRules){\n",
              "    if (rule.selectorText=='body') {\n",
              "      rule.style.fontSize = '30px'\n",
              "      break\n",
              "    }\n",
              "  }\n",
              "  "
            ],
            "text/plain": [
              "<IPython.core.display.Javascript object>"
            ]
          },
          "metadata": {
            "tags": []
          }
        },
        {
          "output_type": "display_data",
          "data": {
            "application/javascript": [
              "\n",
              "  for (rule of document.styleSheets[0].cssRules){\n",
              "    if (rule.selectorText=='body') {\n",
              "      rule.style.fontSize = '18px'\n",
              "      break\n",
              "    }\n",
              "  }\n",
              "  "
            ],
            "text/plain": [
              "<IPython.core.display.Javascript object>"
            ]
          },
          "metadata": {
            "tags": []
          }
        },
        {
          "output_type": "display_data",
          "data": {
            "application/javascript": [
              "\n",
              "  for (rule of document.styleSheets[0].cssRules){\n",
              "    if (rule.selectorText=='body') {\n",
              "      rule.style.fontSize = '16px'\n",
              "      break\n",
              "    }\n",
              "  }\n",
              "  "
            ],
            "text/plain": [
              "<IPython.core.display.Javascript object>"
            ]
          },
          "metadata": {
            "tags": []
          }
        },
        {
          "output_type": "display_data",
          "data": {
            "application/javascript": [
              "\n",
              "  for (rule of document.styleSheets[0].cssRules){\n",
              "    if (rule.selectorText=='body') {\n",
              "      rule.style.fontSize = '16px'\n",
              "      break\n",
              "    }\n",
              "  }\n",
              "  "
            ],
            "text/plain": [
              "<IPython.core.display.Javascript object>"
            ]
          },
          "metadata": {
            "tags": []
          }
        },
        {
          "output_type": "display_data",
          "data": {
            "application/javascript": [
              "\n",
              "  for (rule of document.styleSheets[0].cssRules){\n",
              "    if (rule.selectorText=='body') {\n",
              "      rule.style.fontSize = '16px'\n",
              "      break\n",
              "    }\n",
              "  }\n",
              "  "
            ],
            "text/plain": [
              "<IPython.core.display.Javascript object>"
            ]
          },
          "metadata": {
            "tags": []
          }
        },
        {
          "output_type": "display_data",
          "data": {
            "text/html": [
              "<html>\n",
              "<head><meta charset=\"utf-8\" /></head>\n",
              "<body>\n",
              "    <div>\n",
              "            <script src=\"https://cdnjs.cloudflare.com/ajax/libs/mathjax/2.7.5/MathJax.js?config=TeX-AMS-MML_SVG\"></script><script type=\"text/javascript\">if (window.MathJax) {MathJax.Hub.Config({SVG: {font: \"STIX-Web\"}});}</script>\n",
              "                <script type=\"text/javascript\">window.PlotlyConfig = {MathJaxConfig: 'local'};</script>\n",
              "        <script src=\"https://cdn.plot.ly/plotly-latest.min.js\"></script>    \n",
              "            <div id=\"15de6fe9-d4b9-4230-85b1-0b040a5d6497\" class=\"plotly-graph-div\" style=\"height:300px; width:100%;\"></div>\n",
              "            <script type=\"text/javascript\">\n",
              "                \n",
              "                    window.PLOTLYENV=window.PLOTLYENV || {};\n",
              "                    \n",
              "                if (document.getElementById(\"15de6fe9-d4b9-4230-85b1-0b040a5d6497\")) {\n",
              "                    Plotly.newPlot(\n",
              "                        '15de6fe9-d4b9-4230-85b1-0b040a5d6497',\n",
              "                        [{\"alignmentgroup\": \"True\", \"hoverlabel\": {\"namelength\": 0}, \"hovertemplate\": \"age=%{x}\", \"legendgroup\": \"\", \"marker\": {\"color\": \"#636efa\"}, \"name\": \"\", \"notched\": false, \"offsetgroup\": \"\", \"orientation\": \"h\", \"showlegend\": false, \"type\": \"box\", \"x\": [39, 50, 38, 53, 52, 42, 37, 30, 32, 40, 34, 25, 32, 38, 40, 35, 43, 56, 19, 54, 39, 49, 23, 20, 45, 30, 22, 48, 21, 31, 48, 31, 53, 24, 25, 57, 53, 41, 29, 50, 47, 43, 46, 35, 41, 30, 30, 32, 48, 42, 29, 36, 49, 25, 19, 29, 23, 79, 27, 40, 67, 31, 18, 52, 59, 49, 33, 30, 57, 34, 29, 48, 37, 32, 76, 44, 29, 32, 30, 42, 24, 38, 56, 53, 56, 49, 55, 22, 40, 30, 29, 19, 31, 35, 39, 38, 37, 38, 43, 20, 49, 61, 19, 70, 22, 64, 21, 52, 48, 23, 71, 29, 42, 45, 39, 46, 18, 27, 28, 51, 27, 28, 21, 34, 18, 33, 44, 30, 40, 37, 34, 58, 24, 41, 47, 41, 23, 36, 35, 24, 19, 51, 36, 35, 44, 37, 60, 54, 37, 38, 45, 25, 31, 64, 90, 54, 66, 35, 25, 28, 59, 41, 38, 23, 40, 24, 20, 38, 56, 58, 40, 45, 19, 58, 42, 50, 45, 17, 59, 26, 37, 19, 64, 61, 17, 50, 27, 43, 44, 42, 21, 57, 41, 50, 50, 36, 29, 21, 65, 24, 38, 48, 31, 55, 26, 35, 41, 26, 34, 22, 24, 77, 39, 43, 35, 76, 63, 58, 66, 41, 26, 47, 55, 53, 17, 30, 49, 19, 45, 26, 38, 36, 33, 43, 67, 56, 31, 33, 26, 33, 46, 59, 38, 65, 40, 26, 62, 43, 43, 22, 28, 56, 17, 40, 45, 44, 23, 46, 38, 54, 25, 29, 27, 46, 34, 44, 25, 52, 20, 50, 28, 41, 28, 46, 32, 46, 31, 35, 52, 34, 20, 17, 29, 25, 36, 23, 63, 47, 80, 17, 27, 33, 34, 23, 29, 24, 44, 27, 20, 51, 20, 45, 60, 42, 40, 38, 23, 32, 44, 54, 32, 50, 52, 38, 49, 60, 22, 35, 30, 17, 22, 27, 33, 43, 28, 52, 63, 59, 38, 46, 33, 20, 23, 72, 23, 62, 52, 24, 19, 43, 49, 32, 34, 28, 20, 34, 38, 50, 24, 37, 44, 42, 38, 44, 26, 36, 67, 39, 29, 44, 29, 27, 27, 35, 21, 28, 46, 35, 30, 28, 54, 47, 52, 20, 43, 29, 47, 24, 51, 17, 37, 29, 18, 26, 65, 57, 59, 27, 31, 29, 18, 52, 57, 42, 60, 31, 27, 42, 25, 32, 19, 42, 35, 51, 29, 36, 24, 24, 26, 39, 30, 50, 52, 46, 29, 47, 30, 34, 38, 33, 49, 43, 58, 21, 33, 47, 52, 26, 60, 21, 36, 31, 50, 71, 58, 30, 20, 24, 35, 34, 44, 43, 44, 35, 27, 43, 27, 42, 24, 48, 17, 33, 50, 17, 32, 31, 58, 29, 37, 34, 23, 66, 41, 26, 54, 42, 20, 25, 35, 31, 36, 21, 31, 40, 45, 60, 18, 28, 36, 40, 33, 34, 33, 41, 29, 50, 42, 43, 31, 65, 26, 35, 43, 42, 55, 26, 17, 55, 29, 46, 29, 22, 58, 23, 39, 27, 54, 37, 34, 53, 51, 31, 32, 37, 31, 55, 23, 34, 43, 54, 43, 40, 41, 61, 18, 59, 48, 41, 18, 60, 22, 61, 25, 46, 43, 43, 24, 68, 32, 50, 33, 64, 20, 22, 43, 22, 17, 56, 64, 47, 48, 29, 32, 57, 43, 24, 42, 26, 73, 55, 25, 24, 63, 17, 35, 51, 55, 43, 37, 39, 31, 46, 48, 34, 59, 43, 48, 28, 33, 21, 17, 39, 29, 44, 24, 71, 51, 55, 41, 39, 32, 27, 38, 63, 23, 33, 54, 35, 37, 42, 40, 47, 30, 28, 63, 51, 27, 35, 37, 24, 37, 53, 27, 38, 53, 34, 23, 39, 67, 81, 21, 23, 25, 64, 32, 37, 51, 42, 51, 37, 37, 41, 33, 31, 35, 38, 20, 43, 44, 43, 51, 41, 44, 33, 33, 42, 25, 32, 28, 35, 55, 48, 34, 67, 37, 44, 40, 34, 60, 45, 44, 46, 41, 50, 47, 35, 56, 45, 48, 40, 39, 20, 50, 31, 58, 66, 39, 54, 26, 34, 50, 42, 38, 48, 22, 19, 41, 48, 34, 56, 30, 45, 48, 20, 27, 76, 19, 66, 37, 44, 28, 23, 36, 61, 53, 30, 52, 38, 32, 30, 49, 45, 43, 61, 54, 49, 38, 35, 36, 30, 38, 37, 17, 19, 22, 49, 58, 41, 31, 30, 32, 29, 42, 38, 41, 44, 31, 34, 21, 22, 62, 68, 45, 39, 41, 31, 29, 41, 41, 35, 37, 60, 36, 41, 53, 29, 34, 36, 35, 63, 41, 28, 42, 31, 46, 35, 27, 41, 20, 40, 56, 33, 46, 61, 50, 25, 24, 51, 43, 34, 46, 26, 20, 44, 51, 33, 54, 65, 88, 40, 25, 20, 47, 58, 50, 24, 50, 36, 32, 44, 51, 65, 27, 51, 48, 39, 28, 51, 59, 50, 45, 30, 37, 44, 33, 61, 61, 38, 22, 36, 44, 37, 54, 20, 48, 31, 38, 45, 48, 53, 38, 36, 42, 75, 46, 43, 35, 65, 38, 54, 49, 51, 48, 30, 28, 29, 57, 43, 37, 30, 53, 22, 38, 50, 37, 44, 27, 51, 46, 67, 47, 42, 52, 65, 21, 46, 47, 57, 37, 50, 58, 39, 46, 36, 26, 21, 41, 44, 22, 29, 36, 30, 37, 29, 43, 45, 32, 35, 35, 41, 48, 20, 27, 55, 39, 17, 47, 25, 23, 57, 51, 39, 40, 38, 28, 47, 59, 26, 61, 36, 62, 34, 32, 39, 58, 61, 40, 31, 36, 23, 33, 52, 52, 20, 26, 61, 46, 44, 54, 65, 25, 23, 25, 19, 37, 45, 37, 40, 19, 17, 40, 43, 42, 54, 54, 51, 50, 55, 31, 24, 30, 37, 33, 43, 39, 53, 52, 28, 32, 31, 19, 40, 41, 53, 46, 45, 19, 57, 32, 35, 28, 47, 50, 61, 36, 38, 56, 50, 45, 44, 51, 44, 25, 60, 17, 49, 46, 25, 22, 41, 48, 46, 30, 39, 40, 70, 35, 24, 40, 61, 25, 69, 47, 33, 43, 58, 53, 26, 43, 31, 30, 37, 32, 45, 53, 27, 28, 32, 36, 19, 37, 49, 20, 64, 60, 32, 58, 42, 42, 25, 30, 37, 66, 59, 44, 46, 25, 17, 47, 26, 20, 33, 48, 52, 47, 40, 49, 34, 43, 35, 62, 39, 59, 69, 27, 17, 38, 41, 17, 62, 44, 23, 41, 25, 18, 45, 51, 29, 33, 43, 20, 44, 24, 19, 49, 52, 38, 24, 32, 26, 31, 29, 39, 48, 40, 51, 28, 65, 26, 20, 55, 38, 33, 19, 24, 30, 57, 46, 67, 47, 39, 50, 45, 54, 26, 60, 46, 32, 38, 48, 44, 44, 61, 51, 39, 40, 27, 37, 57, 34, 54, 42, 48, 65, 33, 30, 35, 19, 36, 26, 34, 41, 44, 47, 18, 55, 49, 44, 43, 62, 44, 50, 35, 52, 46, 44, 43, 51, 20, 43, 64, 24, 27, 32, 26, 43, 20, 37, 37, 44, 19, 44, 51, 35, 44, 54, 24, 35, 56, 24, 43, 47, 49, 38, 31, 41, 35, 38, 51, 38, 40, 44, 55, 29, 31, 24, 46, 26, 35, 27, 64, 26, 45, 57, 30, 43, 32, 38, 53, 47, 40, 51, 65, 28, 24, 32, 71, 26, 29, 50, 51, 31, 23, 59, 17, 43, 38, 37, 29, 39, 31, 39, 30, 43, 31, 33, 32, 28, 50, 28, 38, 41, 50, 59, 32, 73, 52, 57, 35, 51, 49, 22, 46, 52, 43, 25, 31, 19, 19, 51, 51, 21, 46, 56, 58, 70, 30, 45, 23, 34, 24, 53, 45, 32, 21, 63, 23, 28, 29, 26, 23, 46, 61, 25, 38, 23, 46, 32, 40, 31, 31, 32, 21, 63, 44, 42, 23, 24, 42, 27, 27, 55, 22, 68, 26, 34, 68, 42, 45, 26, 25, 23, 29, 31, 39, 44, 26, 36, 38, 39, 52, 39, 41, 42, 47, 28, 25, 38, 44, 30, 30, 45, 20, 57, 43, 25, 90, 38, 50, 39, 56, 37, 29, 40, 44, 77, 30, 21, 66, 40, 68, 32, 32, 51, 50, 49, 28, 21, 55, 45, 35, 31, 26, 30, 33, 40, 23, 48, 39, 49, 36, 60, 29, 54, 34, 26, 47, 50, 44, 49, 37, 51, 35, 66, 39, 27, 24, 28, 30, 34, 57, 39, 23, 36, 32, 36, 47, 35, 44, 32, 34, 47, 27, 50, 49, 36, 23, 41, 27, 53, 17, 23, 53, 28, 53, 18, 24, 30, 37, 34, 19, 20, 42, 46, 34, 45, 35, 63, 51, 36, 25, 25, 19, 47, 34, 42, 37, 51, 25, 37, 42, 29, 35, 51, 22, 49, 26, 52, 61, 52, 43, 35, 17, 42, 58, 66, 30, 25, 37, 39, 23, 25, 24, 35, 47, 47, 46, 49, 34, 25, 58, 31, 29, 28, 30, 21, 44, 66, 26, 33, 57, 47, 41, 17, 61, 47, 45, 32, 38, 41, 51, 42, 60, 37, 54, 34, 41, 35, 63, 46, 47, 24, 29, 50, 30, 32, 39, 49, 44, 65, 28, 45, 34, 49, 42, 60, 64, 33, 45, 22, 23, 31, 23, 51, 59, 45, 35, 33, 37, 36, 38, 54, 51, 45, 51, 58, 20, 44, 44, 63, 26, 42, 29, 38, 25, 27, 31, 24, 43, 23, 44, 40, 38, 23, 41, 48, 23, 42, 18, 31, 29, 41, 46, 42, 46, 18, 52, 21, 22, 41, 43, 26, 90, 45, 42, 20, 53, 56, 42, 58, 41, 58, 62, 65, 40, 45, 22, 23, 63, 39, 37, 25, 56, 32, 32, 23, 35, 51, 41, 22, 36, 45, 23, 44, 29, 36, 18, 62, 25, 37, 33, 28, 22, 47, 67, 20, 34, 26, 36, 28, 22, 33, 25, 37, 36, 61, 74, 57, 55, 54, 42, 17, 39, 56, 33, 37, 27, 36, 30, 22, 35, 20, 25, 34, 20, 70, 57, 54, 34, 48, 45, 27, 51, 33, 50, 44, 39, 55, 35, 32, 66, 29, 24, 61, 34, 55, 20, 36, 60, 61, 35, 42, 26, 31, 39, 32, 32, 61, 23, 19, 31, 35, 20, 60, 39, 31, 38, 26, 64, 46, 69, 39, 42, 50, 39, 29, 21, 32, 69, 55, 41, 44, 18, 74, 40, 27, 75, 52, 36, 76, 18, 38, 50, 32, 57, 20, 31, 61, 57, 19, 59, 34, 31, 42, 47, 47, 29, 27, 51, 35, 36, 46, 65, 43, 47, 49, 18, 27, 34, 24, 34, 47, 34, 25, 54, 24, 41, 51, 36, 25, 55, 58, 46, 19, 24, 53, 24, 29, 56, 54, 34, 34, 32, 67, 47, 52, 28, 41, 57, 36, 33, 46, 33, 77, 39, 67, 41, 60, 32, 56, 18, 31, 21, 45, 45, 25, 31, 19, 41, 27, 31, 40, 41, 25, 42, 42, 45, 52, 34, 32, 54, 42, 32, 55, 66, 52, 52, 27, 47, 46, 50, 43, 34, 19, 37, 49, 26, 48, 39, 70, 20, 38, 51, 43, 38, 18, 23, 34, 62, 33, 26, 55, 61, 37, 78, 49, 55, 42, 61, 64, 46, 24, 27, 47, 18, 48, 50, 56, 56, 18, 27, 52, 50, 19, 20, 24, 42, 51, 39, 34, 19, 30, 21, 62, 25, 32, 26, 37, 38, 47, 42, 30, 43, 34, 46, 32, 47, 55, 53, 43, 80, 43, 22, 40, 48, 56, 34, 51, 24, 41, 22, 20, 31, 55, 49, 26, 27, 40, 59, 61, 43, 61, 30, 44, 34, 28, 47, 26, 35, 36, 47, 35, 33, 18, 47, 53, 24, 27, 50, 36, 41, 32, 22, 22, 18, 39, 35, 23, 54, 36, 63, 39, 57, 58, 40, 38, 44, 33, 41, 37, 50, 48, 36, 37, 27, 46, 17, 40, 47, 25, 35, 30, 30, 25, 28, 43, 47, 46, 29, 25, 56, 31, 22, 31, 53, 71, 39, 36, 56, 48, 46, 29, 47, 67, 43, 42, 31, 55, 28, 30, 33, 40, 63, 23, 56, 42, 40, 35, 35, 43, 29, 23, 50, 34, 19, 37, 75, 24, 28, 31, 18, 45, 31, 27, 34, 53, 60, 48, 23, 68, 42, 37, 38, 27, 49, 27, 36, 36, 35, 36, 53, 34, 61, 29, 37, 22, 43, 55, 64, 46, 29, 44, 20, 62, 35, 39, 39, 38, 72, 31, 55, 19, 49, 26, 35, 37, 42, 28, 35, 40, 55, 21, 51, 57, 51, 38, 45, 28, 42, 22, 28, 47, 40, 30, 61, 44, 46, 27, 40, 25, 61, 54, 31, 53, 39, 57, 30, 35, 42, 34, 59, 69, 40, 21, 43, 36, 41, 72, 20, 34, 35, 28, 27, 20, 32, 38, 23, 28, 40, 74, 28, 23, 20, 20, 51, 48, 60, 48, 48, 39, 65, 28, 46, 42, 61, 28, 24, 45, 24, 44, 20, 35, 52, 25, 19, 35, 21, 55, 44, 25, 26, 25, 43, 45, 48, 60, 45, 51, 22, 44, 27, 47, 32, 40, 41, 47, 55, 38, 24, 64, 56, 41, 33, 33, 21, 59, 58, 43, 21, 45, 41, 53, 38, 31, 41, 43, 41, 41, 36, 20, 30, 21, 29, 35, 35, 43, 39, 28, 30, 20, 51, 62, 37, 28, 23, 50, 31, 45, 23, 47, 32, 82, 49, 74, 22, 32, 34, 59, 36, 47, 53, 25, 44, 42, 58, 39, 32, 45, 52, 56, 36, 41, 30, 44, 41, 29, 25, 42, 48, 26, 46, 38, 49, 30, 49, 47, 44, 31, 19, 34, 26, 38, 36, 31, 30, 37, 30, 38, 30, 33, 52, 35, 59, 27, 31, 45, 27, 19, 29, 34, 32, 49, 74, 62, 39, 24, 76, 61, 47, 50, 27, 43, 39, 56, 26, 47, 47, 45, 26, 20, 37, 37, 43, 63, 45, 36, 26, 41, 26, 46, 24, 41, 20, 36, 30, 25, 49, 26, 25, 41, 35, 36, 51, 39, 36, 40, 61, 38, 20, 46, 21, 35, 39, 38, 28, 32, 46, 40, 44, 38, 51, 46, 51, 45, 44, 33, 61, 47, 34, 53, 39, 58, 66, 26, 41, 47, 31, 52, 29, 42, 41, 34, 52, 61, 39, 46, 39, 22, 43, 37, 23, 39, 54, 46, 36, 37, 50, 38, 63, 53, 23, 20, 46, 28, 59, 41, 33, 56, 50, 41, 39, 35, 38, 31, 17, 31, 25, 39, 50, 50, 63, 31, 18, 34, 18, 46, 59, 41, 42, 55, 69, 30, 21, 18, 35, 20, 26, 46, 40, 32, 23, 25, 37, 37, 47, 51, 30, 59, 45, 52, 21, 31, 29, 24, 17, 46, 34, 63, 21, 18, 49, 36, 47, 36, 39, 57, 39, 24, 56, 41, 51, 47, 56, 51, 57, 24, 57, 38, 35, 58, 19, 68, 43, 53, 37, 21, 63, 31, 29, 43, 25, 23, 23, 40, 32, 72, 61, 42, 73, 41, 65, 52, 23, 26, 37, 17, 31, 63, 31, 35, 36, 32, 60, 41, 26, 45, 22, 39, 63, 61, 31, 25, 21, 18, 34, 44, 31, 44, 42, 43, 33, 30, 55, 37, 32, 62, 31, 51, 45, 47, 31, 75, 43, 39, 30, 27, 44, 40, 33, 20, 38, 46, 51, 24, 30, 70, 26, 34, 46, 37, 28, 44, 58, 53, 23, 26, 21, 43, 22, 41, 36, 27, 42, 41, 21, 44, 29, 21, 46, 38, 43, 54, 38, 18, 30, 37, 32, 30, 18, 27, 49, 46, 37, 30, 22, 25, 35, 56, 41, 47, 46, 28, 39, 68, 37, 24, 19, 37, 28, 52, 49, 80, 63, 63, 66, 33, 49, 20, 33, 26, 52, 33, 47, 23, 53, 19, 26, 53, 65, 68, 30, 28, 54, 30, 22, 25, 19, 32, 51, 25, 26, 29, 51, 40, 24, 34, 19, 21, 21, 23, 37, 40, 57, 48, 24, 43, 52, 49, 45, 62, 29, 20, 37, 43, 28, 45, 22, 20, 60, 22, 43, 51, 41, 62, 50, 54, 68, 23, 24, 30, 38, 22, 30, 61, 36, 51, 54, 51, 63, 51, 35, 46, 53, 26, 43, 39, 50, 54, 19, 29, 20, 53, 18, 22, 23, 69, 56, 53, 28, 28, 33, 61, 49, 48, 32, 51, 27, 19, 47, 25, 72, 29, 57, 50, 45, 52, 53, 36, 46, 75, 32, 28, 38, 36, 28, 28, 43, 38, 39, 40, 24, 30, 44, 40, 42, 39, 43, 62, 30, 39, 25, 48, 59, 44, 36, 40, 67, 24, 50, 48, 55, 29, 64, 49, 20, 37, 52, 22, 19, 52, 37, 37, 28, 63, 19, 23, 31, 35, 40, 35, 35, 28, 28, 37, 72, 25, 31, 44, 20, 57, 44, 29, 36, 40, 21, 21, 34, 35, 35, 29, 23, 51, 28, 44, 29, 31, 27, 34, 50, 27, 46, 40, 28, 58, 66, 25, 90, 35, 59, 19, 39, 19, 52, 50, 36, 34, 23, 33, 27, 31, 21, 31, 59, 40, 19, 47, 34, 57, 51, 21, 30, 46, 52, 23, 43, 34, 65, 50, 29, 25, 49, 44, 25, 65, 56, 39, 24, 41, 40, 55, 44, 45, 29, 43, 30, 31, 38, 66, 63, 21, 33, 20, 47, 33, 66, 28, 25, 37, 31, 49, 22, 31, 54, 46, 49, 54, 41, 49, 23, 67, 23, 22, 66, 25, 35, 67, 30, 34, 21, 18, 21, 76, 51, 18, 34, 55, 33, 36, 21, 30, 41, 34, 24, 41, 33, 27, 51, 26, 38, 54, 26, 75, 29, 61, 22, 34, 42, 24, 42, 27, 20, 68, 28, 35, 41, 44, 46, 27, 32, 46, 26, 49, 32, 32, 49, 36, 22, 42, 22, 44, 22, 59, 30, 64, 59, 43, 23, 49, 32, 33, 47, 41, 34, 25, 46, 37, 41, 44, 30, 54, 35, 35, 35, 19, 56, 40, 45, 26, 32, 35, 22, 25, 64, 46, 30, 63, 51, 68, 36, 28, 41, 47, 33, 34, 46, 36, 33, 51, 56, 53, 22, 33, 28, 53, 37, 50, 22, 21, 25, 43, 32, 42, 33, 29, 29, 35, 31, 33, 67, 46, 17, 35, 48, 27, 64, 53, 29, 32, 30, 34, 19, 39, 28, 24, 31, 47, 45, 52, 52, 60, 43, 38, 40, 35, 52, 53, 35, 29, 29, 58, 64, 40, 52, 38, 39, 68, 24, 40, 43, 45, 18, 57, 52, 56, 26, 21, 48, 33, 31, 26, 37, 20, 28, 73, 49, 40, 18, 41, 46, 64, 50, 53, 21, 22, 39, 30, 25, 43, 55, 20, 28, 29, 60, 27, 50, 41, 46, 21, 40, 49, 39, 35, 52, 25, 24, 29, 21, 43, 47, 61, 21, 35, 60, 57, 56, 19, 43, 22, 35, 48, 31, 57, 27, 34, 22, 40, 37, 40, 53, 38, 25, 51, 22, 18, 41, 67, 47, 24, 32, 25, 55, 31, 32, 18, 34, 19, 36, 52, 22, 57, 54, 27, 26, 25, 47, 23, 42, 39, 55, 46, 53, 48, 30, 41, 38, 77, 42, 20, 32, 27, 25, 40, 18, 49, 47, 24, 58, 29, 30, 19, 59, 41, 28, 46, 40, 30, 44, 58, 21, 35, 45, 30, 33, 36, 30, 33, 53, 38, 34, 45, 33, 22, 45, 17, 50, 38, 33, 46, 64, 62, 32, 17, 61, 39, 35, 29, 27, 51, 31, 29, 56, 26, 46, 32, 28, 27, 23, 59, 26, 36, 33, 48, 27, 19, 38, 26, 45, 32, 22, 34, 60, 24, 31, 37, 23, 31, 29, 43, 23, 29, 22, 25, 29, 25, 33, 30, 55, 36, 28, 42, 51, 65, 23, 60, 47, 70, 32, 37, 31, 32, 31, 65, 30, 63, 40, 34, 44, 36, 31, 22, 28, 23, 49, 39, 67, 19, 30, 24, 46, 37, 41, 40, 32, 58, 48, 34, 46, 36, 59, 29, 50, 25, 48, 36, 42, 49, 33, 40, 59, 30, 24, 51, 34, 47, 47, 34, 52, 53, 26, 57, 31, 20, 37, 25, 36, 45, 34, 47, 60, 75, 43, 18, 57, 43, 18, 48, 35, 41, 32, 33, 58, 22, 42, 39, 35, 49, 25, 42, 37, 25, 29, 26, 45, 43, 28, 51, 46, 38, 20, 36, 37, 44, 33, 45, 47, 54, 17, 44, 41, 35, 18, 47, 41, 26, 30, 42, 28, 48, 44, 34, 32, 25, 47, 18, 38, 33, 41, 46, 38, 24, 49, 44, 63, 40, 45, 49, 65, 41, 60, 31, 45, 51, 23, 34, 19, 51, 46, 30, 37, 56, 29, 46, 55, 45, 34, 45, 41, 22, 34, 27, 29, 47, 43, 33, 29, 23, 23, 39, 31, 47, 26, 47, 36, 40, 19, 63, 42, 76, 38, 33, 48, 56, 32, 33, 22, 44, 42, 45, 57, 59, 52, 29, 63, 20, 42, 50, 28, 55, 44, 23, 55, 48, 46, 26, 30, 32, 52, 52, 57, 21, 22, 26, 26, 44, 40, 22, 62, 44, 33, 45, 18, 32, 20, 68, 61, 48, 45, 39, 53, 37, 40, 52, 33, 28, 25, 53, 44, 38, 34, 29, 39, 46, 37, 47, 62, 54, 90, 33, 57, 25, 44, 52, 21, 31, 39, 29, 49, 34, 22, 32, 46, 50, 34, 20, 60, 40, 52, 42, 25, 41, 40, 38, 58, 28, 28, 17, 39, 28, 42, 28, 47, 27, 32, 27, 29, 22, 41, 49, 58, 41, 26, 21, 37, 23, 42, 25, 18, 25, 43, 21, 65, 33, 27, 32, 38, 40, 63, 76, 43, 76, 41, 17, 30, 30, 22, 47, 34, 25, 28, 24, 44, 18, 54, 51, 43, 51, 24, 20, 52, 57, 49, 38, 39, 35, 58, 48, 18, 29, 52, 63, 30, 23, 28, 20, 18, 27, 51, 23, 57, 59, 38, 20, 35, 50, 45, 44, 23, 34, 39, 19, 54, 40, 44, 25, 32, 36, 47, 35, 77, 30, 35, 49, 53, 41, 57, 42, 29, 26, 41, 36, 28, 42, 32, 32, 37, 39, 49, 28, 31, 29, 59, 52, 27, 45, 58, 53, 23, 35, 49, 25, 74, 19, 28, 61, 30, 20, 35, 23, 19, 30, 26, 34, 35, 36, 33, 19, 18, 60, 28, 43, 49, 25, 17, 41, 30, 90, 25, 27, 29, 55, 43, 46, 59, 26, 61, 23, 35, 42, 43, 17, 23, 35, 50, 25, 32, 29, 57, 90, 31, 22, 37, 74, 67, 59, 28, 45, 63, 32, 34, 39, 29, 22, 46, 39, 45, 37, 33, 33, 48, 32, 18, 35, 44, 55, 34, 33, 36, 28, 39, 49, 22, 31, 44, 19, 37, 60, 23, 44, 23, 19, 51, 41, 61, 22, 49, 35, 38, 29, 56, 62, 27, 25, 33, 43, 53, 56, 25, 60, 21, 29, 25, 32, 27, 43, 35, 39, 44, 27, 69, 20, 62, 31, 25, 54, 44, 34, 21, 50, 33, 44, 33, 21, 43, 57, 51, 29, 51, 35, 18, 58, 57, 38, 27, 38, 30, 46, 60, 30, 47, 42, 44, 33, 54, 58, 45, 59, 44, 44, 33, 27, 33, 32, 31, 57, 30, 30, 29, 60, 31, 26, 24, 29, 44, 34, 59, 23, 23, 39, 39, 57, 39, 53, 23, 35, 23, 32, 49, 36, 41, 54, 31, 46, 56, 21, 51, 47, 42, 25, 37, 35, 40, 57, 38, 46, 30, 45, 32, 35, 56, 50, 25, 41, 33, 37, 56, 19, 53, 33, 72, 54, 51, 30, 30, 32, 30, 35, 32, 76, 60, 60, 55, 24, 53, 71, 45, 59, 44, 31, 51, 51, 23, 49, 56, 39, 39, 43, 31, 44, 43, 37, 41, 43, 47, 38, 46, 19, 24, 39, 40, 21, 20, 45, 46, 26, 47, 34, 49, 20, 28, 30, 23, 20, 31, 46, 60, 30, 27, 56, 41, 61, 60, 33, 48, 56, 50, 57, 37, 42, 54, 50, 48, 46, 52, 34, 26, 33, 43, 35, 35, 45, 43, 51, 35, 47, 22, 49, 20, 27, 27, 23, 47, 17, 76, 25, 44, 53, 34, 45, 34, 35, 36, 37, 53, 38, 65, 49, 24, 54, 19, 46, 58, 37, 41, 30, 48, 50, 18, 21, 47, 39, 67, 19, 18, 36, 23, 40, 73, 35, 31, 20, 27, 66, 66, 48, 51, 25, 50, 51, 34, 30, 59, 41, 36, 37, 28, 19, 28, 62, 36, 58, 42, 43, 29, 32, 64, 19, 30, 19, 33, 23, 29, 30, 34, 60, 48, 25, 55, 22, 25, 73, 39, 33, 33, 42, 43, 57, 42, 22, 42, 39, 20, 47, 71, 52, 36, 53, 26, 34, 35, 34, 56, 23, 27, 51, 31, 59, 38, 34, 42, 45, 21, 64, 32, 45, 53, 42, 49, 62, 28, 29, 32, 37, 38, 44, 19, 22, 58, 43, 32, 28, 38, 20, 24, 40, 23, 79, 30, 52, 41, 33, 50, 51, 41, 34, 28, 31, 22, 65, 39, 23, 29, 57, 51, 34, 52, 29, 29, 25, 55, 41, 27, 78, 40, 26, 43, 25, 43, 25, 52, 42, 44, 65, 56, 33, 45, 37, 56, 31, 26, 26, 42, 45, 47, 22, 33, 37, 48, 57, 58, 52, 29, 23, 46, 30, 32, 56, 33, 19, 34, 55, 31, 31, 51, 59, 40, 54, 25, 18, 41, 37, 41, 54, 39, 41, 57, 33, 56, 60, 22, 58, 45, 48, 38, 23, 63, 51, 44, 46, 64, 32, 31, 36, 30, 54, 59, 44, 53, 58, 39, 27, 37, 33, 20, 55, 39, 25, 31, 51, 24, 23, 45, 47, 79, 30, 27, 40, 60, 58, 71, 50, 29, 60, 33, 33, 32, 21, 42, 37, 28, 37, 49, 40, 40, 49, 35, 33, 24, 43, 36, 84, 23, 41, 55, 30, 46, 55, 34, 54, 27, 25, 52, 31, 66, 90, 67, 22, 32, 55, 21, 44, 23, 56, 24, 43, 26, 42, 53, 51, 40, 27, 24, 23, 42, 38, 63, 31, 21, 55, 35, 51, 38, 52, 70, 53, 59, 39, 19, 32, 34, 50, 18, 37, 43, 77, 30, 33, 51, 58, 22, 33, 27, 35, 37, 17, 50, 31, 23, 29, 38, 30, 20, 43, 25, 39, 48, 24, 20, 57, 66, 36, 46, 34, 31, 70, 32, 46, 42, 21, 23, 50, 44, 29, 36, 49, 29, 75, 51, 61, 50, 59, 22, 56, 35, 57, 47, 50, 30, 46, 48, 61, 33, 40, 58, 46, 35, 64, 41, 18, 44, 33, 20, 38, 20, 22, 20, 20, 33, 54, 25, 18, 49, 17, 34, 37, 49, 37, 20, 34, 30, 44, 42, 39, 19, 41, 29, 34, 38, 27, 17, 33, 24, 28, 21, 60, 37, 26, 40, 55, 33, 62, 26, 47, 52, 46, 67, 34, 39, 54, 24, 38, 36, 43, 39, 26, 37, 43, 54, 53, 57, 28, 29, 21, 51, 46, 50, 31, 36, 38, 37, 39, 18, 33, 23, 25, 51, 35, 54, 66, 37, 29, 45, 61, 49, 51, 34, 20, 49, 26, 63, 36, 63, 40, 49, 35, 25, 34, 28, 44, 33, 21, 55, 75, 26, 48, 28, 29, 37, 40, 34, 55, 31, 32, 26, 26, 44, 49, 40, 58, 61, 28, 26, 42, 41, 45, 39, 41, 33, 23, 35, 41, 33, 22, 77, 19, 28, 19, 43, 39, 33, 40, 41, 23, 48, 38, 37, 45, 29, 23, 34, 33, 27, 33, 26, 56, 46, 90, 72, 29, 49, 57, 33, 24, 49, 54, 31, 43, 19, 46, 43, 58, 43, 37, 21, 52, 34, 34, 29, 39, 35, 18, 47, 46, 43, 51, 18, 39, 58, 19, 36, 40, 25, 33, 63, 51, 34, 33, 25, 30, 19, 36, 60, 28, 42, 54, 36, 55, 57, 56, 24, 35, 51, 34, 46, 22, 37, 48, 61, 40, 52, 18, 27, 48, 63, 38, 31, 40, 41, 31, 32, 30, 39, 28, 21, 44, 22, 42, 36, 39, 61, 31, 39, 34, 21, 75, 21, 81, 54, 34, 54, 41, 63, 24, 47, 31, 41, 53, 44, 37, 28, 71, 22, 33, 20, 20, 34, 21, 22, 18, 22, 42, 39, 31, 47, 47, 64, 38, 59, 35, 33, 44, 22, 56, 44, 32, 17, 44, 32, 35, 27, 32, 68, 24, 48, 28, 60, 23, 23, 52, 35, 41, 37, 63, 24, 43, 36, 32, 36, 17, 41, 41, 51, 54, 19, 47, 46, 35, 52, 73, 17, 43, 19, 41, 49, 52, 57, 33, 56, 42, 17, 39, 37, 22, 27, 59, 44, 53, 26, 48, 39, 54, 36, 60, 50, 48, 30, 65, 31, 46, 62, 41, 38, 45, 45, 46, 24, 35, 29, 56, 60, 25, 33, 21, 21, 46, 44, 31, 26, 37, 33, 38, 47, 46, 47, 47, 69, 32, 51, 36, 29, 32, 27, 31, 46, 39, 69, 54, 34, 24, 63, 29, 64, 44, 26, 55, 37, 33, 31, 58, 25, 18, 26, 29, 45, 32, 26, 56, 49, 37, 23, 28, 27, 49, 41, 28, 38, 47, 28, 44, 41, 50, 73, 21, 64, 52, 24, 44, 27, 61, 58, 23, 21, 35, 30, 47, 55, 22, 30, 24, 49, 23, 38, 49, 46, 56, 24, 58, 28, 22, 46, 30, 56, 32, 56, 50, 24, 31, 44, 55, 19, 50, 53, 41, 37, 46, 45, 30, 57, 32, 43, 34, 33, 23, 39, 19, 47, 46, 47, 38, 58, 32, 20, 25, 25, 36, 69, 21, 37, 21, 25, 34, 33, 47, 48, 42, 34, 20, 41, 45, 22, 23, 24, 20, 32, 52, 36, 18, 26, 24, 42, 39, 68, 54, 24, 64, 36, 44, 38, 56, 24, 42, 67, 32, 44, 65, 37, 27, 64, 28, 63, 40, 33, 40, 25, 45, 30, 63, 27, 31, 33, 39, 42, 19, 31, 53, 47, 32, 23, 27, 18, 30, 40, 26, 27, 22, 37, 54, 36, 44, 38, 18, 26, 48, 35, 40, 42, 30, 36, 50, 38, 35, 45, 41, 28, 49, 47, 30, 37, 27, 45, 37, 54, 47, 35, 33, 28, 25, 33, 53, 21, 31, 63, 21, 59, 19, 31, 35, 32, 38, 60, 21, 23, 67, 38, 20, 26, 58, 31, 37, 53, 33, 35, 60, 38, 44, 27, 34, 20, 49, 37, 52, 46, 43, 48, 36, 37, 18, 42, 60, 37, 44, 32, 42, 17, 28, 28, 19, 49, 25, 42, 47, 26, 35, 37, 39, 42, 31, 36, 36, 50, 37, 25, 29, 50, 42, 32, 48, 20, 50, 18, 60, 60, 42, 30, 59, 24, 39, 44, 21, 23, 22, 55, 23, 46, 47, 42, 18, 37, 34, 51, 34, 28, 56, 46, 27, 18, 36, 39, 36, 24, 34, 33, 53, 34, 23, 39, 54, 32, 27, 54, 38, 21, 40, 21, 38, 41, 70, 45, 83, 18, 31, 33, 27, 41, 53, 66, 31, 30, 22, 47, 74, 37, 35, 51, 51, 32, 29, 42, 22, 62, 21, 46, 25, 29, 29, 33, 50, 40, 28, 54, 29, 71, 27, 64, 36, 39, 26, 31, 43, 27, 24, 50, 30, 24, 29, 31, 37, 28, 36, 34, 44, 34, 28, 38, 64, 35, 36, 34, 27, 22, 36, 51, 63, 51, 42, 25, 49, 32, 28, 19, 18, 39, 36, 45, 30, 23, 43, 25, 50, 61, 35, 56, 55, 40, 35, 22, 20, 46, 43, 39, 30, 25, 44, 41, 43, 50, 38, 20, 37, 31, 31, 44, 31, 65, 17, 60, 31, 53, 44, 43, 40, 38, 57, 32, 64, 40, 23, 27, 23, 58, 47, 33, 27, 46, 24, 40, 31, 37, 30, 31, 32, 27, 35, 27, 30, 33, 34, 29, 39, 37, 40, 53, 58, 29, 33, 57, 69, 49, 34, 70, 37, 58, 41, 47, 58, 50, 84, 47, 19, 24, 48, 53, 58, 22, 36, 37, 43, 21, 49, 35, 28, 51, 19, 56, 20, 33, 54, 22, 23, 69, 41, 17, 31, 50, 23, 18, 53, 42, 23, 47, 53, 28, 28, 44, 58, 36, 39, 25, 39, 52, 26, 32, 49, 40, 52, 33, 19, 37, 33, 48, 43, 32, 28, 47, 37, 26, 55, 31, 39, 54, 38, 53, 42, 47, 59, 25, 58, 61, 33, 51, 55, 29, 31, 37, 43, 23, 41, 45, 25, 33, 38, 68, 42, 35, 33, 45, 57, 36, 53, 28, 38, 37, 30, 29, 31, 36, 59, 33, 29, 49, 50, 33, 28, 32, 47, 44, 24, 51, 52, 28, 47, 43, 25, 43, 59, 38, 37, 26, 73, 30, 33, 46, 18, 50, 62, 39, 22, 29, 38, 49, 33, 28, 37, 30, 49, 29, 36, 21, 30, 40, 43, 45, 43, 32, 21, 23, 52, 19, 54, 29, 17, 30, 23, 45, 20, 26, 49, 26, 47, 31, 23, 35, 46, 28, 58, 35, 33, 34, 67, 37, 48, 34, 24, 50, 40, 33, 51, 30, 41, 47, 27, 40, 36, 37, 38, 40, 20, 33, 66, 32, 23, 44, 20, 44, 41, 45, 40, 34, 23, 48, 42, 22, 60, 42, 34, 39, 42, 53, 44, 46, 22, 24, 47, 64, 62, 52, 42, 38, 55, 32, 36, 27, 47, 33, 48, 23, 31, 26, 61, 50, 49, 57, 19, 18, 54, 35, 27, 50, 43, 28, 47, 21, 19, 40, 55, 67, 31, 30, 59, 29, 17, 52, 32, 44, 32, 45, 30, 41, 48, 31, 34, 25, 41, 35, 34, 44, 32, 25, 23, 36, 53, 27, 30, 18, 23, 19, 20, 52, 39, 19, 41, 24, 22, 45, 45, 48, 42, 35, 59, 31, 27, 29, 40, 31, 23, 60, 27, 31, 29, 22, 63, 28, 79, 39, 29, 60, 44, 47, 59, 37, 21, 43, 34, 22, 38, 24, 39, 26, 24, 22, 36, 18, 38, 43, 56, 42, 35, 73, 37, 66, 51, 31, 28, 48, 29, 36, 35, 31, 48, 36, 40, 57, 65, 42, 47, 62, 27, 76, 29, 32, 22, 23, 44, 41, 30, 23, 32, 50, 35, 23, 25, 30, 52, 49, 46, 39, 45, 43, 62, 48, 23, 26, 36, 38, 18, 56, 39, 46, 36, 42, 50, 17, 50, 35, 27, 27, 23, 51, 47, 40, 36, 20, 25, 64, 53, 50, 51, 20, 47, 25, 50, 43, 21, 58, 30, 72, 33, 46, 33, 31, 28, 51, 25, 61, 26, 35, 33, 35, 47, 64, 34, 62, 53, 31, 26, 56, 33, 45, 46, 26, 43, 40, 61, 85, 34, 24, 45, 21, 50, 41, 45, 34, 28, 19, 26, 48, 69, 28, 31, 51, 43, 31, 31, 45, 25, 31, 56, 26, 40, 37, 38, 19, 82, 40, 28, 23, 19, 67, 43, 20, 40, 47, 40, 78, 49, 66, 59, 35, 36, 23, 39, 40, 29, 38, 63, 58, 44, 21, 41, 38, 75, 29, 52, 28, 30, 30, 40, 26, 32, 26, 25, 27, 24, 38, 35, 29, 36, 47, 21, 38, 66, 45, 18, 37, 33, 27, 24, 44, 48, 29, 29, 29, 32, 79, 34, 46, 50, 29, 51, 34, 29, 49, 77, 35, 42, 35, 62, 33, 38, 26, 33, 35, 42, 43, 69, 39, 37, 28, 26, 32, 43, 49, 28, 35, 35, 45, 23, 45, 35, 45, 28, 64, 59, 41, 21, 51, 22, 53, 23, 20, 40, 28, 32, 20, 62, 31, 31, 24, 43, 21, 30, 18, 24, 49, 19, 48, 32, 23, 50, 30, 32, 39, 57, 22, 34, 21, 37, 60, 23, 32, 57, 65, 25, 30, 19, 23, 44, 43, 34, 32, 49, 42, 30, 33, 36, 17, 20, 32, 33, 60, 46, 29, 36, 27, 50, 33, 41, 22, 25, 28, 25, 28, 39, 59, 38, 34, 31, 48, 65, 45, 80, 33, 38, 44, 40, 70, 32, 22, 52, 67, 40, 62, 64, 29, 28, 25, 47, 26, 18, 52, 36, 41, 56, 53, 22, 31, 36, 46, 46, 43, 30, 41, 50, 37, 22, 51, 40, 46, 27, 31, 30, 50, 29, 28, 47, 26, 53, 23, 42, 36, 52, 49, 36, 20, 55, 47, 33, 36, 55, 21, 48, 30, 24, 20, 44, 57, 57, 33, 61, 39, 28, 31, 36, 50, 30, 20, 90, 47, 34, 47, 34, 34, 35, 39, 32, 28, 41, 32, 47, 41, 35, 24, 46, 69, 31, 23, 37, 18, 53, 54, 24, 36, 38, 33, 66, 45, 37, 31, 46, 40, 34, 56, 46, 30, 33, 57, 34, 40, 33, 22, 45, 18, 30, 34, 36, 36, 48, 41, 47, 41, 61, 64, 35, 44, 32, 63, 42, 24, 35, 40, 46, 29, 42, 36, 26, 57, 55, 35, 47, 34, 44, 27, 21, 29, 25, 73, 45, 43, 47, 22, 76, 24, 54, 30, 33, 30, 40, 27, 30, 19, 46, 51, 37, 41, 65, 57, 44, 32, 27, 59, 43, 38, 61, 24, 25, 44, 90, 44, 36, 63, 60, 49, 47, 42, 53, 20, 43, 32, 43, 31, 24, 39, 29, 20, 23, 53, 20, 58, 51, 25, 41, 58, 25, 50, 32, 31, 37, 62, 40, 56, 41, 56, 20, 34, 45, 30, 51, 27, 38, 39, 57, 47, 77, 43, 46, 41, 30, 30, 22, 25, 50, 37, 23, 27, 44, 25, 18, 22, 27, 41, 24, 34, 46, 32, 41, 29, 51, 58, 52, 37, 54, 36, 23, 39, 20, 28, 67, 56, 32, 42, 33, 37, 33, 59, 21, 58, 24, 26, 26, 25, 21, 24, 38, 41, 37, 54, 27, 19, 25, 47, 40, 38, 25, 23, 29, 32, 52, 33, 19, 68, 41, 29, 40, 51, 49, 38, 57, 35, 66, 27, 77, 70, 59, 25, 44, 37, 47, 32, 53, 19, 23, 21, 36, 72, 51, 32, 37, 21, 26, 34, 36, 31, 32, 54, 46, 33, 32, 42, 30, 37, 28, 25, 44, 40, 36, 21, 39, 24, 46, 47, 47, 35, 60, 37, 48, 22, 23, 58, 24, 38, 49, 47, 50, 47, 47, 36, 28, 46, 32, 33, 60, 53, 39, 23, 50, 38, 41, 72, 39, 35, 26, 52, 41, 58, 34, 36, 19, 60, 35, 26, 17, 59, 53, 35, 34, 36, 36, 21, 35, 59, 22, 50, 42, 52, 46, 23, 54, 33, 48, 19, 36, 35, 33, 48, 19, 64, 51, 20, 28, 52, 29, 51, 36, 43, 52, 50, 25, 47, 32, 37, 40, 34, 35, 26, 49, 63, 46, 31, 22, 52, 34, 31, 22, 38, 35, 27, 27, 19, 69, 20, 34, 49, 27, 45, 64, 41, 49, 51, 69, 43, 32, 27, 38, 62, 46, 17, 36, 23, 58, 40, 66, 42, 53, 25, 20, 32, 28, 18, 43, 29, 32, 31, 60, 42, 46, 38, 54, 46, 27, 50, 38, 25, 19, 60, 45, 21, 42, 38, 22, 19, 23, 30, 62, 26, 42, 33, 54, 33, 24, 54, 58, 39, 32, 27, 27, 20, 64, 45, 26, 36, 58, 39, 35, 38, 50, 28, 55, 29, 33, 32, 45, 23, 31, 59, 32, 22, 26, 23, 47, 44, 27, 20, 40, 44, 62, 47, 44, 26, 36, 52, 48, 33, 25, 62, 38, 46, 46, 52, 63, 49, 61, 33, 46, 40, 43, 24, 29, 19, 24, 40, 31, 58, 40, 31, 49, 24, 46, 58, 65, 48, 41, 52, 26, 52, 19, 27, 48, 60, 28, 69, 40, 41, 38, 21, 38, 42, 42, 32, 24, 26, 49, 65, 34, 39, 19, 21, 35, 48, 33, 43, 45, 41, 27, 50, 29, 41, 55, 36, 23, 22, 58, 37, 55, 55, 28, 53, 32, 60, 34, 49, 29, 43, 31, 38, 42, 62, 24, 36, 57, 46, 33, 42, 62, 64, 43, 29, 43, 39, 69, 44, 25, 47, 17, 41, 19, 57, 25, 37, 29, 32, 35, 52, 31, 40, 21, 49, 70, 22, 29, 37, 29, 38, 27, 58, 20, 51, 37, 22, 56, 27, 52, 28, 44, 30, 55, 51, 43, 36, 36, 30, 24, 62, 41, 49, 36, 52, 52, 26, 51, 18, 30, 46, 48, 49, 35, 78, 61, 36, 17, 27, 64, 33, 32, 42, 23, 51, 31, 44, 44, 38, 29, 47, 30, 37, 27, 44, 31, 34, 39, 57, 24, 21, 34, 61, 67, 49, 58, 37, 39, 45, 30, 49, 36, 23, 55, 35, 45, 36, 32, 39, 47, 49, 52, 44, 36, 59, 30, 50, 28, 25, 45, 20, 40, 52, 34, 37, 17, 35, 33, 64, 50, 18, 67, 46, 60, 56, 21, 46, 25, 40, 43, 29, 18, 28, 53, 63, 61, 35, 43, 48, 51, 34, 44, 61, 37, 36, 34, 63, 47, 31, 27, 28, 31, 43, 50, 68, 37, 26, 22, 59, 30, 30, 50, 38, 29, 76, 21, 43, 32, 37, 64, 49, 44, 68, 34, 35, 24, 25, 36, 29, 37, 32, 47, 44, 19, 22, 51, 69, 73, 33, 28, 27, 22, 67, 31, 43, 27, 36, 63, 25, 41, 26, 30, 32, 48, 39, 40, 40, 19, 47, 41, 40, 25, 26, 17, 73, 19, 37, 26, 47, 47, 29, 33, 20, 26, 41, 67, 43, 35, 55, 34, 38, 21, 37, 54, 49, 51, 29, 68, 56, 30, 41, 35, 21, 49, 45, 27, 28, 35, 33, 35, 19, 28, 61, 39, 42, 22, 18, 49, 33, 28, 42, 20, 50, 32, 29, 46, 32, 43, 39, 18, 42, 32, 52, 36, 38, 23, 71, 56, 28, 45, 28, 62, 39, 24, 58, 48, 57, 31, 25, 29, 34, 30, 29, 22, 42, 19, 42, 20, 51, 50, 27, 26, 61, 20, 51, 52, 33, 31, 56, 19, 29, 43, 43, 21, 41, 45, 47, 80, 19, 45, 17, 37, 17, 18, 57, 36, 51, 38, 77, 51, 24, 35, 35, 51, 28, 37, 43, 23, 27, 59, 28, 24, 20, 54, 65, 18, 38, 29, 36, 55, 22, 24, 36, 68, 49, 18, 60, 43, 39, 42, 48, 56, 28, 39, 40, 38, 59, 51, 19, 42, 43, 45, 34, 21, 34, 55, 29, 45, 42, 90, 44, 34, 39, 29, 49, 52, 54, 31, 27, 24, 30, 34, 28, 51, 33, 29, 33, 37, 20, 31, 41, 42, 54, 21, 52, 19, 33, 17, 31, 74, 35, 45, 42, 44, 52, 24, 56, 27, 47, 40, 38, 22, 41, 55, 25, 32, 33, 17, 27, 55, 63, 51, 67, 41, 54, 59, 19, 31, 42, 51, 23, 27, 25, 30, 33, 28, 45, 25, 37, 59, 64, 39, 24, 46, 35, 31, 35, 35, 40, 48, 70, 37, 24, 35, 43, 18, 54, 36, 27, 23, 61, 39, 33, 22, 31, 26, 44, 73, 35, 47, 29, 32, 41, 45, 33, 32, 42, 38, 38, 37, 24, 27, 29, 46, 44, 46, 38, 38, 22, 33, 50, 31, 42, 27, 34, 64, 43, 39, 47, 56, 25, 52, 43, 22, 28, 28, 31, 39, 39, 28, 67, 50, 34, 54, 44, 37, 38, 59, 59, 51, 60, 29, 42, 28, 50, 22, 63, 24, 19, 23, 20, 63, 28, 51, 17, 18, 48, 65, 27, 39, 51, 49, 58, 36, 63, 63, 44, 48, 51, 23, 31, 38, 19, 56, 31, 46, 39, 56, 42, 53, 18, 27, 31, 52, 46, 30, 48, 37, 29, 49, 24, 74, 56, 39, 21, 43, 47, 27, 45, 30, 33, 37, 21, 42, 48, 54, 36, 56, 37, 41, 55, 39, 67, 38, 47, 49, 20, 51, 19, 33, 41, 90, 78, 30, 35, 46, 38, 24, 49, 19, 46, 41, 28, 21, 24, 36, 23, 38, 29, 38, 47, 40, 21, 23, 44, 37, 51, 57, 36, 48, 24, 43, 27, 19, 32, 35, 26, 45, 20, 33, 35, 31, 20, 44, 33, 50, 28, 60, 38, 38, 57, 50, 69, 51, 42, 53, 37, 37, 38, 52, 48, 30, 37, 47, 20, 41, 32, 54, 45, 62, 33, 42, 43, 50, 42, 36, 22, 30, 33, 43, 38, 34, 40, 41, 57, 65, 52, 59, 18, 48, 45, 24, 27, 40, 44, 24, 71, 17, 57, 71, 37, 33, 41, 42, 34, 24, 23, 33, 58, 25, 53, 25, 31, 18, 40, 68, 33, 22, 50, 24, 37, 34, 77, 46, 26, 57, 28, 36, 29, 36, 19, 48, 49, 55, 42, 30, 32, 37, 35, 30, 55, 36, 33, 56, 26, 37, 28, 38, 76, 35, 39, 64, 45, 27, 25, 39, 37, 26, 33, 34, 41, 38, 36, 38, 46, 54, 24, 23, 58, 26, 45, 30, 34, 67, 29, 40, 61, 45, 58, 52, 34, 25, 46, 43, 25, 65, 37, 29, 44, 37, 35, 32, 44, 25, 47, 25, 35, 68, 50, 35, 24, 21, 17, 27, 50, 51, 27, 23, 42, 32, 45, 22, 48, 22, 34, 38, 49, 23, 24, 44, 34, 29, 35, 48, 38, 59, 31, 34, 51, 25, 30, 25, 48, 36, 27, 30, 30, 30, 35, 39, 74, 32, 25, 47, 47, 33, 22, 56, 30, 53, 43, 23, 43, 30, 22, 38, 54, 23, 46, 59, 28, 18, 41, 42, 58, 24, 39, 25, 53, 63, 21, 45, 72, 51, 21, 46, 31, 43, 21, 44, 56, 20, 36, 52, 56, 51, 29, 36, 29, 58, 37, 30, 29, 48, 50, 35, 54, 20, 30, 26, 38, 33, 60, 30, 30, 23, 27, 20, 39, 33, 65, 34, 23, 25, 31, 28, 52, 31, 37, 45, 45, 44, 32, 35, 53, 54, 43, 30, 49, 52, 60, 45, 48, 28, 61, 48, 32, 27, 38, 33, 36, 38, 22, 30, 55, 46, 39, 50, 47, 46, 23, 45, 55, 68, 39, 37, 19, 20, 33, 21, 72, 58, 43, 21, 26, 27, 34, 34, 58, 53, 52, 36, 48, 35, 49, 43, 33, 49, 17, 25, 69, 41, 31, 57, 49, 40, 55, 47, 50, 36, 17, 30, 79, 42, 67, 36, 35, 21, 46, 45, 20, 17, 40, 28, 33, 55, 52, 36, 37, 43, 24, 47, 39, 47, 27, 29, 37, 38, 28, 35, 18, 36, 52, 29, 20, 42, 40, 32, 29, 26, 25, 37, 26, 23, 20, 36, 24, 38, 44, 46, 37, 44, 31, 32, 20, 47, 40, 46, 59, 47, 47, 45, 45, 73, 48, 38, 37, 62, 26, 46, 65, 29, 37, 60, 33, 66, 32, 29, 70, 74, 37, 51, 50, 42, 26, 27, 58, 30, 32, 66, 23, 35, 50, 30, 84, 35, 45, 46, 50, 37, 53, 27, 22, 29, 35, 29, 26, 31, 30, 20, 37, 54, 78, 57, 37, 43, 38, 70, 40, 40, 20, 29, 24, 58, 40, 39, 35, 45, 62, 22, 23, 39, 51, 73, 24, 24, 52, 43, 67, 31, 36, 43, 31, 23, 26, 48, 40, 49, 63, 66, 60, 19, 26, 75, 65, 50, 26, 45, 19, 29, 21, 59, 50, 41, 40, 19, 30, 42, 37, 28, 50, 20, 21, 21, 45, 49, 53, 41, 41, 53, 40, 28, 32, 44, 28, 29, 44, 37, 62, 31, 20, 56, 36, 29, 34, 39, 29, 38, 23, 37, 42, 45, 46, 41, 49, 37, 31, 22, 47, 17, 39, 23, 41, 36, 52, 41, 38, 24, 39, 36, 29, 17, 47, 61, 40, 29, 26, 46, 56, 23, 32, 34, 49, 54, 39, 41, 47, 27, 23, 44, 25, 52, 19, 22, 53, 45, 69, 49, 44, 56, 37, 37, 34, 36, 54, 28, 28, 73, 37, 38, 50, 69, 43, 42, 39, 30, 30, 37, 50, 22, 21, 33, 37, 34, 29, 29, 28, 73, 39, 27, 47, 47, 42, 69, 18, 44, 41, 47, 43, 33, 39, 27, 27, 79, 24, 42, 63, 47, 42, 63, 65, 30, 62, 46, 20, 28, 61, 30, 29, 57, 41, 23, 30, 43, 64, 56, 32, 55, 17, 37, 50, 41, 71, 51, 53, 40, 54, 33, 36, 42, 52, 30, 22, 47, 26, 36, 35, 46, 30, 38, 38, 36, 47, 59, 52, 37, 51, 67, 58, 49, 35, 18, 47, 31, 22, 32, 39, 51, 48, 39, 35, 40, 19, 28, 18, 23, 47, 42, 25, 30, 29, 46, 69, 50, 19, 59, 45, 47, 29, 24, 28, 35, 48, 49, 42, 36, 41, 35, 41, 48, 47, 51, 22, 49, 26, 35, 34, 51, 26, 32, 38, 44, 26, 38, 62, 20, 45, 49, 36, 50, 44, 44, 73, 61, 29, 40, 17, 30, 90, 65, 25, 47, 42, 37, 19, 24, 34, 33, 37, 45, 35, 58, 54, 45, 69, 24, 36, 57, 56, 35, 51, 46, 44, 35, 40, 61, 33, 55, 19, 31, 43, 49, 48, 38, 29, 27, 31, 26, 53, 32, 22, 41, 59, 34, 35, 41, 42, 24, 35, 45, 33, 23, 42, 30, 36, 49, 41, 26, 50, 20, 59, 30, 23, 44, 28, 58, 33, 38, 49, 42, 49, 35, 26, 31, 36, 25, 35, 40, 42, 52, 51, 19, 43, 57, 35, 38, 23, 21, 60, 26, 49, 47, 40, 42, 33, 63, 53, 38, 44, 43, 26, 56, 44, 34, 38, 34, 22, 23, 44, 32, 38, 47, 39, 32, 40, 34, 57, 71, 45, 54, 28, 45, 37, 57, 39, 27, 44, 44, 19, 55, 45, 44, 26, 32, 43, 34, 33, 40, 20, 23, 58, 25, 50, 42, 35, 48, 24, 44, 52, 59, 27, 38, 51, 24, 58, 51, 33, 46, 53, 30, 41, 34, 46, 35, 40, 46, 35, 43, 61, 29, 21, 36, 23, 90, 24, 40, 37, 22, 25, 46, 47, 48, 36, 20, 55, 45, 65, 45, 42, 37, 56, 31, 52, 45, 53, 47, 35, 65, 39, 37, 39, 39, 25, 30, 46, 33, 70, 36, 36, 36, 40, 36, 28, 39, 49, 63, 61, 48, 55, 20, 49, 27, 32, 33, 47, 34, 25, 26, 35, 56, 40, 28, 65, 52, 24, 21, 35, 38, 55, 27, 33, 32, 34, 46, 48, 23, 48, 67, 36, 43, 56, 54, 39, 21, 31, 22, 45, 33, 55, 35, 53, 20, 45, 27, 46, 55, 31, 64, 38, 17, 25, 33, 31, 28, 41, 61, 20, 64, 28, 39, 53, 25, 27, 22, 24, 27, 57, 30, 40, 25, 39, 27, 33, 65, 52, 27, 32, 45, 18, 27, 44, 30, 28, 61, 49, 33, 50, 53, 33, 22, 45, 26, 47, 52, 34, 37, 57, 40, 23, 54, 38, 32, 42, 22, 40, 26, 46, 28, 46, 27, 50, 75, 42, 51, 43, 44, 60, 47, 73, 27, 50, 35, 31, 45, 57, 34, 25, 28, 38, 19, 32, 35, 24, 34, 28, 46, 38, 35, 29, 41, 40, 17, 46, 38, 24, 28, 60, 42, 48, 37, 32, 55, 30, 22, 36, 52, 46, 53, 29, 41, 30, 46, 45, 59, 40, 59, 36, 40, 62, 47, 20, 48, 29, 36, 43, 33, 27, 60, 34, 30, 17, 29, 37, 43, 30, 29, 24, 27, 69, 30, 29, 17, 61, 32, 21, 27, 44, 45, 34, 28, 34, 34, 24, 41, 50, 68, 35, 47, 35, 26, 20, 52, 71, 25, 39, 27, 22, 57, 34, 24, 41, 32, 55, 49, 23, 43, 40, 41, 23, 59, 20, 21, 44, 31, 50, 54, 28, 34, 46, 28, 23, 29, 35, 41, 90, 35, 20, 31, 23, 60, 28, 32, 44, 34, 27, 49, 47, 34, 27, 31, 24, 24, 25, 38, 57, 24, 41, 56, 44, 25, 27, 22, 59, 34, 30, 24, 82, 35, 32, 28, 60, 31, 28, 24, 37, 36, 39, 22, 46, 28, 43, 60, 33, 22, 39, 33, 39, 37, 63, 46, 28, 24, 48, 35, 62, 42, 60, 50, 39, 43, 35, 39, 30, 32, 18, 51, 33, 46, 40, 34, 29, 34, 53, 52, 64, 42, 44, 41, 53, 25, 56, 38, 62, 28, 31, 24, 65, 40, 31, 35, 42, 25, 22, 56, 51, 36, 49, 28, 57, 33, 49, 48, 38, 46, 56, 27, 18, 29, 21, 49, 47, 40, 43, 62, 63, 51, 62, 48, 32, 36, 30, 27, 41, 61, 36, 29, 45, 18, 28, 27, 38, 33, 25, 23, 40, 36, 41, 49, 47, 28, 37, 44, 53, 36, 77, 21, 23, 47, 17, 48, 43, 34, 23, 61, 63, 37, 41, 35, 51, 43, 22, 56, 26, 45, 49, 23, 69, 41, 40, 25, 52, 50, 48, 27, 63, 47, 37, 28, 41, 67, 28, 26, 46, 29, 39, 21, 25, 44, 37, 50, 50, 58, 36, 21, 39, 50, 55, 64, 40, 42, 43, 28, 46, 34, 21, 65, 20, 38, 22, 44, 41, 38, 48, 24, 50, 50, 68, 31, 22, 18, 25, 45, 57, 33, 24, 22, 51, 46, 50, 64, 51, 28, 39, 47, 40, 23, 31, 40, 48, 50, 18, 53, 54, 81, 40, 44, 69, 17, 38, 27, 52, 24, 38, 21, 26, 28, 37, 49, 28, 57, 60, 20, 38, 51, 37, 50, 35, 46, 18, 32, 39, 30, 37, 38, 56, 35, 56, 17, 46, 61, 25, 50, 33, 33, 38, 51, 27, 42, 37, 48, 41, 33, 30, 50, 54, 37, 59, 65, 57, 33, 41, 50, 18, 61, 67, 41, 29, 27, 37, 22, 26, 27, 26, 51, 45, 60, 35, 24, 44, 24, 52, 21, 67, 25, 34, 39, 26, 19, 35, 38, 45, 37, 37, 21, 46, 52, 23, 48, 26, 40, 90, 44, 29, 45, 43, 17, 49, 27, 53, 19, 28, 22, 48, 76, 58, 22, 52, 31, 50, 62, 26, 38, 44, 50, 36, 39, 57, 32, 24, 54, 52, 84, 35, 56, 30, 35, 44, 60, 40, 50, 58, 41, 28, 53, 71, 25, 40, 27, 19, 24, 38, 18, 35, 45, 24, 63, 40, 21, 20, 49, 47, 48, 61, 23, 35, 18, 28, 62, 28, 57, 56, 33, 19, 29, 30, 44, 22, 40, 25, 30, 46, 50, 42, 41, 32, 32, 47, 50, 33, 47, 64, 34, 37, 34, 50, 60, 44, 48, 37, 51, 52, 43, 23, 66, 42, 71, 33, 42, 23, 28, 31, 28, 37, 19, 51, 25, 49, 48, 46, 34, 35, 30, 65, 34, 34, 39, 28, 53, 34, 21, 53, 54, 39, 29, 43, 20, 39, 36, 62, 39, 45, 19, 43, 32, 34, 66, 37, 41, 63, 55, 35, 28, 37, 63, 43, 30, 54, 36, 78, 77, 39, 37, 34, 36, 40, 38, 28, 22, 43, 22, 48, 40, 68, 57, 23, 22, 23, 41, 58, 33, 28, 68, 33, 44, 38, 49, 41, 33, 22, 41, 66, 38, 43, 40, 32, 35, 41, 33, 36, 33, 53, 27, 26, 35, 46, 53, 18, 34, 37, 61, 59, 81, 39, 37, 44, 37, 41, 55, 60, 22, 23, 45, 46, 48, 39, 29, 37, 27, 28, 54, 17, 18, 33, 49, 41, 40, 38, 47, 36, 47, 47, 56, 36, 34, 56, 26, 49, 71, 38, 35, 40, 21, 49, 54, 20, 31, 19, 33, 23, 42, 40, 32, 63, 54, 32, 29, 26, 39, 57, 54, 57, 23, 27, 42, 31, 50, 37, 26, 24, 24, 47, 33, 20, 57, 36, 25, 46, 39, 29, 46, 61, 53, 36, 75, 44, 49, 34, 31, 47, 38, 42, 29, 38, 32, 20, 41, 46, 18, 60, 36, 30, 40, 56, 42, 26, 48, 35, 41, 55, 42, 45, 29, 42, 30, 43, 61, 34, 31, 32, 44, 21, 55, 31, 41, 26, 21, 28, 64, 65, 34, 58, 63, 50, 46, 30, 28, 51, 47, 30, 34, 41, 57, 28, 22, 38, 34, 45, 37, 21, 49, 24, 47, 43, 48, 64, 39, 50, 50, 54, 17, 33, 39, 33, 59, 54, 31, 54, 42, 57, 40, 19, 38, 39, 43, 32, 38, 34, 35, 21, 43, 43, 64, 19, 34, 35, 32, 26, 25, 55, 29, 38, 26, 34, 18, 58, 29, 49, 21, 28, 29, 40, 36, 34, 57, 24, 18, 39, 39, 20, 54, 40, 27, 43, 37, 49, 33, 21, 45, 33, 25, 71, 41, 30, 50, 31, 68, 45, 38, 78, 31, 39, 36, 30, 34, 30, 47, 62, 44, 20, 45, 55, 38, 49, 49, 20, 34, 46, 58, 37, 42, 43, 21, 45, 55, 24, 70, 27, 34, 57, 37, 52, 32, 42, 50, 36, 42, 39, 51, 38, 18, 50, 82, 33, 37, 24, 18, 47, 48, 34, 50, 57, 60, 39, 29, 30, 21, 51, 45, 36, 44, 39, 45, 28, 48, 34, 35, 28, 18, 32, 19, 23, 38, 36, 45, 30, 46, 27, 48, 31, 58, 51, 72, 61, 42, 30, 20, 65, 37, 33, 61, 27, 39, 44, 73, 66, 53, 43, 57, 59, 46, 37, 41, 39, 30, 59, 39, 63, 34, 38, 42, 56, 17, 33, 36, 37, 28, 59, 30, 32, 30, 53, 54, 26, 34, 34, 58, 30, 53, 23, 24, 36, 47, 34, 44, 45, 24, 65, 23, 54, 50, 40, 24, 42, 50, 58, 47, 37, 37, 22, 29, 45, 49, 44, 63, 26, 58, 40, 56, 55, 37, 31, 42, 57, 53, 38, 70, 50, 50, 28, 33, 47, 48, 64, 37, 55, 55, 22, 50, 47, 30, 37, 73, 50, 34, 24, 66, 22, 69, 23, 70, 54, 34, 38, 33, 60, 32, 34, 46, 30, 29, 51, 31, 23, 35, 33, 40, 27, 38, 45, 66, 30, 48, 77, 41, 35, 66, 52, 50, 22, 19, 45, 61, 45, 36, 40, 38, 52, 29, 33, 40, 34, 46, 44, 40, 24, 76, 20, 33, 31, 19, 29, 30, 48, 42, 37, 54, 42, 42, 29, 43, 44, 28, 20, 49, 36, 40, 45, 42, 57, 23, 23, 39, 34, 43, 25, 40, 52, 36, 33, 24, 42, 35, 50, 40, 22, 57, 51, 47, 25, 33, 33, 28, 20, 34, 36, 61, 37, 27, 54, 40, 18, 51, 40, 64, 26, 31, 39, 22, 31, 68, 35, 25, 23, 35, 17, 19, 53, 74, 28, 40, 30, 20, 80, 51, 17, 37, 58, 57, 37, 23, 33, 41, 57, 23, 31, 41, 36, 44, 36, 42, 48, 22, 38, 31, 32, 35, 21, 26, 33, 30, 52, 38, 28, 57, 51, 50, 32, 32, 37, 69, 33, 37, 36, 47, 63, 21, 17, 56, 90, 33, 42, 66, 34, 38, 40, 22, 46, 29, 19, 52, 31, 37, 28, 25, 31, 29, 69, 50, 54, 34, 23, 66, 61, 24, 30, 49, 56, 25, 49, 58, 40, 54, 18, 32, 34, 53, 47, 41, 56, 42, 57, 40, 20, 47, 40, 48, 39, 46, 72, 53, 47, 40, 34, 41, 41, 20, 42, 54, 37, 59, 69, 36, 21, 68, 20, 39, 33, 46, 47, 65, 23, 34, 20, 28, 52, 29, 31, 42, 22, 21, 43, 43, 33, 17, 54, 55, 51, 65, 39, 56, 37, 44, 49, 36, 59, 36, 25, 45, 43, 30, 33, 34, 21, 31, 48, 18, 43, 37, 24, 24, 38, 48, 43, 67, 53, 22, 45, 43, 20, 43, 21, 36, 64, 46, 23, 27, 29, 54, 27, 34, 38, 35, 23, 42, 46, 27, 22, 49, 23, 24, 34, 25, 33, 75, 28, 62, 40, 40, 45, 48, 34, 42, 39, 52, 25, 40, 34, 52, 41, 36, 21, 31, 20, 68, 35, 32, 64, 25, 31, 51, 67, 42, 29, 31, 21, 67, 41, 51, 28, 21, 28, 29, 39, 21, 43, 44, 28, 31, 18, 34, 25, 34, 43, 40, 19, 49, 20, 36, 23, 21, 25, 26, 22, 41, 24, 38, 38, 38, 34, 53, 45, 31, 47, 27, 33, 38, 45, 23, 61, 32, 36, 24, 60, 64, 36, 57, 23, 29, 34, 50, 50, 17, 19, 43, 59, 39, 18, 39, 44, 32, 48, 46, 57, 46, 27, 29, 51, 35, 29, 30, 47, 41, 38, 38, 52, 46, 56, 59, 19, 31, 22, 63, 33, 53, 38, 39, 59, 45, 31, 61, 66, 26, 60, 32, 43, 26, 55, 31, 35, 58, 56, 22, 46, 26, 42, 19, 51, 42, 43, 38, 36, 29, 42, 61, 55, 23, 48, 71, 39, 38, 38, 26, 32, 44, 40, 43, 31, 57, 25, 27, 41, 31, 41, 25, 29, 22, 62, 65, 37, 33, 38, 42, 27, 41, 47, 55, 30, 40, 30, 22, 37, 57, 58, 35, 26, 46, 26, 22, 30, 58, 17, 30, 51, 26, 24, 44, 43, 35, 51, 41, 62, 45, 32, 46, 29, 33, 23, 63, 60, 31, 28, 31, 65, 31, 43, 39, 47, 45, 30, 30, 49, 51, 32, 19, 33, 25, 49, 30, 23, 24, 52, 32, 36, 39, 30, 49, 42, 35, 32, 22, 25, 17, 44, 52, 42, 34, 27, 37, 26, 36, 17, 30, 32, 58, 44, 59, 42, 45, 20, 35, 50, 56, 48, 32, 48, 33, 50, 52, 55, 36, 44, 34, 33, 35, 29, 56, 33, 24, 48, 65, 29, 42, 44, 73, 32, 43, 21, 30, 54, 53, 51, 33, 24, 36, 58, 38, 72, 60, 27, 38, 37, 28, 38, 29, 28, 40, 26, 43, 25, 29, 60, 51, 36, 35, 48, 78, 72, 24, 58, 36, 48, 47, 35, 17, 41, 37, 35, 56, 23, 79, 28, 59, 41, 32, 67, 43, 38, 35, 65, 24, 37, 34, 42, 31, 40, 32, 47, 32, 46, 40, 36, 33, 23, 21, 53, 20, 53, 58, 51, 31, 35, 23, 39, 51, 18, 32, 35, 61, 23, 52, 19, 33, 35, 22, 20, 19, 47, 59, 36, 27, 24, 22, 37, 36, 32, 47, 40, 52, 39, 43, 35, 43, 34, 50, 30, 44, 52, 35, 36, 36, 25, 26, 20, 70, 26, 48, 48, 52, 25, 58, 45, 37, 23, 31, 64, 32, 45, 39, 25, 30, 28, 34, 27, 35, 37, 32, 50, 25, 21, 41, 47, 48, 39, 62, 22, 46, 51, 40, 31, 30, 37, 40, 60, 27, 62, 38, 49, 21, 18, 25, 36, 52, 19, 63, 63, 62, 51, 50, 45, 44, 51, 42, 43, 53, 29, 41, 44, 27, 35, 49, 33, 35, 31, 54, 57, 30, 45, 41, 25, 51, 42, 28, 53, 46, 47, 26, 30, 48, 22, 32, 33, 31, 34, 17, 29, 27, 32, 34, 54, 53, 38, 43, 25, 39, 57, 47, 24, 32, 25, 28, 74, 44, 27, 61, 25, 20, 33, 38, 43, 38, 19, 56, 38, 18, 35, 32, 62, 38, 27, 26, 21, 19, 20, 25, 28, 36, 23, 25, 24, 30, 62, 45, 34, 65, 27, 53, 54, 30, 59, 42, 20, 73, 47, 44, 40, 39, 49, 44, 50, 39, 55, 53, 31, 21, 30, 47, 37, 47, 49, 18, 35, 51, 21, 30, 25, 31, 44, 52, 30, 29, 36, 54, 59, 55, 70, 32, 44, 22, 25, 31, 33, 54, 42, 49, 30, 39, 24, 39, 23, 41, 32, 57, 60, 38, 21, 24, 36, 29, 23, 44, 32, 41, 57, 62, 29, 35, 52, 38, 41, 23, 31, 31, 46, 57, 32, 27, 46, 43, 42, 90, 25, 48, 48, 27, 32, 22, 31, 28, 40, 39, 54, 59, 25, 49, 55, 39, 28, 35, 44, 51, 55, 45, 32, 45, 35, 55, 59, 23, 47, 34, 51, 40, 24, 20, 44, 26, 23, 40, 49, 32, 51, 62, 31, 47, 44, 46, 32, 48, 57, 33, 42, 17, 63, 31, 34, 35, 20, 33, 36, 47, 30, 34, 33, 67, 26, 27, 24, 44, 31, 28, 48, 56, 22, 37, 38, 30, 32, 56, 66, 20, 25, 42, 61, 27, 31, 36, 51, 49, 43, 45, 49, 44, 67, 58, 36, 61, 23, 35, 23, 39, 47, 27, 29, 21, 24, 39, 51, 47, 49, 20, 24, 54, 25, 26, 24, 18, 45, 26, 47, 54, 21, 68, 21, 28, 50, 48, 17, 59, 23, 50, 53, 52, 38, 43, 41, 22, 39, 45, 40, 47, 53, 53, 33, 46, 29, 31, 29, 42, 50, 39, 74, 40, 75, 36, 61, 42, 60, 30, 32, 51, 53, 48, 68, 63, 32, 32, 40, 50, 38, 30, 63, 25, 59, 49, 36, 37, 48, 43, 41, 54, 66, 59, 62, 29, 28, 27, 42, 60, 58, 27, 50, 43, 39, 21, 24, 59, 36, 35, 33, 40, 26, 37, 45, 56, 50, 38, 29, 39, 26, 52, 52, 46, 38, 62, 31, 31, 39, 60, 25, 42, 45, 22, 50, 21, 60, 51, 30, 46, 43, 57, 48, 39, 68, 33, 22, 18, 28, 32, 56, 36, 34, 39, 27, 56, 33, 49, 44, 30, 27, 25, 30, 38, 38, 62, 55, 47, 50, 36, 23, 37, 38, 27, 41, 27, 51, 44, 33, 28, 32, 43, 52, 24, 19, 47, 53, 31, 30, 56, 49, 38, 19, 39, 38, 47, 58, 27, 59, 24, 42, 53, 35, 26, 33, 29, 43, 35, 27, 21, 39, 52, 48, 53, 33, 37, 47, 36, 41, 67, 38, 47, 39, 34, 36, 24, 50, 40, 34, 44, 44, 45, 24, 34, 58, 39, 22, 32, 45, 23, 35, 52, 55, 23, 27, 21, 32, 37, 61, 53, 43, 60, 25, 47, 25, 27, 23, 59, 66, 46, 17, 27, 32, 53, 22, 47, 68, 39, 62, 21, 34, 30, 40, 26, 57, 36, 49, 58, 32, 59, 37, 40, 47, 56, 21, 22, 43, 60, 73, 62, 28, 45, 19, 30, 23, 22, 45, 42, 62, 61, 34, 56, 32, 24, 26, 58, 23, 54, 35, 30, 23, 42, 21, 37, 32, 22, 52, 35, 34, 53, 23, 58, 38, 26, 60, 28, 29, 41, 63, 31, 41, 51, 59, 24, 47, 21, 38, 24, 38, 19, 32, 63, 36, 41, 57, 48, 25, 48, 74, 54, 39, 24, 19, 28, 28, 49, 50, 58, 41, 27, 24, 64, 35, 48, 46, 24, 57, 32, 41, 55, 41, 45, 33, 38, 40, 24, 37, 42, 22, 45, 29, 24, 28, 18, 59, 53, 51, 59, 42, 32, 38, 30, 27, 65, 23, 32, 28, 44, 29, 57, 41, 34, 44, 57, 37, 35, 51, 27, 28, 37, 18, 40, 54, 31, 35, 40, 35, 25, 58, 39, 69, 23, 48, 41, 74, 43, 18, 24, 54, 60, 28, 41, 62, 27, 63, 33, 34, 20, 51, 21, 50, 43, 27, 20, 47, 69, 48, 58, 33, 56, 40, 28, 42, 23, 39, 39, 33, 55, 31, 35, 30, 57, 50, 51, 47, 37, 58, 34, 19, 42, 40, 39, 36, 37, 60, 56, 51, 19, 58, 39, 32, 17, 70, 30, 51, 19, 47, 41, 36, 30, 26, 41, 25, 62, 23, 25, 48, 20, 19, 31, 36, 40, 30, 28, 57, 18, 54, 32, 52, 45, 18, 37, 52, 59, 27, 43, 56, 44, 37, 28, 58, 29, 37, 35, 36, 52, 30, 22, 55, 33, 46, 28, 36, 43, 39, 56, 24, 40, 45, 36, 50, 31, 63, 41, 48, 24, 34, 26, 27, 55, 38, 51, 56, 39, 50, 34, 44, 21, 37, 34, 34, 38, 19, 46, 38, 83, 34, 38, 38, 25, 38, 52, 33, 34, 17, 22, 22, 46, 61, 32, 50, 51, 20, 38, 44, 28, 53, 42, 47, 38, 34, 43, 28, 46, 66, 54, 38, 31, 50, 30, 45, 28, 53, 33, 34, 41, 67, 41, 30, 54, 33, 20, 20, 17, 21, 25, 38, 38, 48, 25, 57, 39, 21, 41, 24, 57, 51, 32, 28, 40, 21, 45, 55, 42, 49, 38, 50, 47, 39, 42, 50, 37, 56, 33, 35, 44, 57, 43, 33, 18, 47, 59, 35, 49, 26, 25, 50, 32, 31, 33, 62, 55, 43, 58, 48, 21, 39, 25, 27, 41, 59, 23, 54, 39, 57, 31, 35, 42, 31, 46, 38, 51, 27, 33, 22, 72, 25, 58, 23, 23, 51, 69, 52, 34, 46, 44, 33, 22, 23, 75, 24, 45, 31, 49, 61, 44, 79, 44, 24, 46, 25, 48, 25, 19, 26, 33, 36, 33, 34, 33, 62, 34, 25, 40, 35, 48, 63, 36, 39, 32, 19, 30, 35, 23, 33, 25, 64, 59, 49, 35, 35, 27, 28, 21, 44, 39, 40, 70, 34, 66, 40, 61, 59, 47, 33, 18, 25, 22, 40, 68, 73, 45, 23, 40, 39, 23, 51, 53, 24, 53, 49, 34, 37, 40, 36, 42, 59, 36, 37, 31, 46, 27, 29, 39, 62, 60, 39, 22, 18, 44, 21, 49, 52, 39, 23, 54, 21, 38, 51, 34, 26, 41, 35, 27, 65, 31, 45, 37, 47, 47, 33, 40, 38, 21, 40, 33, 29, 41, 20, 34, 78, 46, 40, 59, 23, 23, 47, 31, 42, 29, 21, 55, 44, 61, 38, 50, 53, 37, 49, 30, 59, 43, 29, 49, 36, 26, 41, 55, 20, 37, 51, 28, 21, 30, 44, 45, 42, 33, 27, 41, 41, 33, 33, 52, 64, 42, 29, 38, 24, 43, 38, 28, 44, 81, 55, 31, 27, 23, 26, 33, 44, 18, 43, 37, 33, 45, 32, 47, 44, 22, 17, 64, 30, 51, 26, 50, 18, 48, 37, 51, 69, 56, 39, 41, 45, 23, 29, 34, 46, 35, 48, 23, 17, 44, 26, 49, 42, 44, 49, 42, 30, 36, 23, 32, 40, 28, 32, 21, 71, 31, 24, 69, 35, 35, 42, 51, 48, 49, 53, 43, 53, 35, 48, 37, 30, 41, 24, 34, 46, 63, 40, 33, 36, 25, 54, 50, 58, 17, 40, 27, 22, 80, 52, 40, 62, 32, 58, 37, 29, 25, 26, 50, 30, 30, 36, 37, 34, 27, 39, 41, 34, 41, 26, 38, 27, 21, 41, 42, 25, 43, 23, 40, 23, 37, 58, 36, 36, 62, 34, 23, 42, 44, 42, 21, 31, 42, 26, 62, 28, 34, 51, 44, 47, 35, 46, 46, 46, 66, 26, 29, 30, 44, 54, 54, 51, 32, 57, 34, 40, 50, 32, 19, 17, 37, 32, 20, 39, 18, 42, 43, 42, 52, 51, 77, 38, 20, 23, 41, 47, 36, 42, 22, 29, 42, 24, 41, 29, 36, 78, 24, 36, 49, 21, 30, 37, 20, 46, 24, 32, 36, 60, 57, 50, 56, 61, 45, 31, 60, 26, 28, 45, 58, 49, 22, 23, 40, 21, 43, 17, 37, 54, 24, 35, 23, 50, 34, 36, 33, 32, 22, 53, 36, 22, 23, 40, 45, 61, 27, 25, 49, 51, 44, 35, 28, 37, 54, 45, 27, 49, 51, 27, 36, 59, 50, 43, 21, 33, 29, 42, 28, 48, 19, 36, 41, 32, 49, 38, 29, 52, 22, 44, 43, 41, 63, 40, 40, 57, 54, 20, 29, 22, 44, 45, 52, 57, 51, 23, 22, 61, 30, 18, 23, 57, 58, 59, 27, 50, 22, 21, 50, 44, 53, 41, 60, 58, 27, 33, 24, 41, 21, 39, 50, 20, 46, 49, 56, 41, 41, 42, 58, 43, 23, 59, 50, 52, 37, 39, 54, 52, 22, 19, 65, 32, 25, 34, 24, 28, 23, 57, 64, 28, 28, 34, 38, 44, 18, 36, 73, 24, 29, 33, 21, 36, 26, 32, 59, 29, 59, 58, 47, 31, 42, 19, 66, 41, 30, 75, 19, 60, 24, 25, 37, 18, 24, 33, 57, 50, 27, 26, 47, 39, 49, 28, 50, 28, 30, 47, 39, 37, 50, 37, 26, 55, 46, 32, 26, 32, 38, 70, 32, 49, 25, 27, 43, 38, 42, 33, 30, 29, 30, 26, 43, 38, 48, 57, 42, 31, 32, 28, 63, 32, 20, 36, 24, 21, 27, 17, 29, 39, 42, 22, 40, 35, 58, 45, 29, 21, 51, 38, 37, 43, 37, 28, 35, 35, 29, 41, 37, 20, 44, 23, 46, 32, 21, 32, 41, 51, 69, 39, 43, 51, 43, 32, 44, 40, 21, 23, 19, 61, 47, 39, 25, 33, 54, 28, 33, 63, 31, 70, 50, 39, 17, 62, 61, 18, 39, 24, 38, 38, 17, 28, 52, 61, 69, 26, 34, 43, 52, 59, 53, 55, 46, 39, 78, 43, 36, 36, 46, 24, 41, 68, 38, 47, 41, 29, 26, 36, 40, 21, 53, 34, 43, 64, 25, 47, 48, 57, 37, 51, 49, 52, 64, 24, 39, 30, 30, 58, 32, 18, 71, 40, 38, 47, 59, 44, 50, 33, 43, 37, 40, 48, 22, 57, 40, 42, 56, 25, 52, 55, 47, 31, 42, 38, 29, 26, 37, 79, 61, 60, 51, 34, 35, 27, 36, 27, 40, 43, 25, 41, 30, 26, 52, 33, 35, 62, 50, 63, 40, 61, 40, 41, 28, 35, 31, 34, 57, 38, 37, 26, 26, 27, 33, 65, 57, 18, 44, 37, 27, 59, 19, 36, 68, 37, 23, 22, 49, 38, 46, 40, 42, 48, 50, 17, 21, 32, 28, 62, 23, 36, 39, 21, 39, 33, 37, 22, 69, 18, 65, 28, 35, 33, 26, 38, 33, 44, 42, 44, 44, 41, 41, 62, 27, 38, 24, 24, 22, 22, 51, 31, 42, 49, 37, 66, 52, 23, 67, 42, 39, 54, 46, 21, 27, 39, 23, 36, 24, 35, 37, 41, 42, 41, 31, 26, 37, 51, 26, 40, 25, 38, 43, 44, 21, 36, 43, 54, 57, 35, 44, 36, 58, 54, 37, 60, 36, 29, 23, 38, 33, 49, 57, 57, 37, 43, 39, 31, 31, 36, 57, 30, 28, 22, 31, 33, 20, 25, 49, 45, 36, 23, 47, 41, 29, 64, 55, 19, 18, 50, 44, 18, 34, 40, 35, 26, 44, 21, 52, 57, 27, 66, 41, 58, 50, 31, 32, 37, 26, 33, 26, 48, 40, 62, 37, 18, 45, 35, 35, 34, 19, 53, 49, 38, 39, 29, 52, 20, 30, 58, 24, 27, 28, 57, 50, 27, 27, 68, 53, 32, 53, 40, 60, 34, 37, 25, 46, 21, 18, 59, 33, 44, 55, 56, 51, 43, 22, 43, 30, 30, 46, 27, 26, 36, 25, 46, 66, 43, 36, 46, 42, 39, 36, 60, 37, 26, 17, 54, 63, 22, 27, 33, 50, 31, 53, 34, 27, 80, 40, 53, 58, 38, 33, 48, 31, 52, 24, 45, 54, 39, 40, 28, 21, 36, 55, 71, 47, 17, 32, 46, 39, 17, 33, 72, 65, 36, 32, 26, 22, 47, 31, 28, 34, 44, 27, 50, 20, 24, 29, 42, 20, 72, 45, 30, 33, 43, 56, 25, 31, 36, 37, 58, 55, 46, 44, 28, 42, 41, 39, 64, 20, 45, 31, 36, 33, 36, 40, 44, 31, 26, 25, 35, 29, 39, 44, 37, 79, 36, 44, 23, 46, 58, 36, 36, 21, 49, 29, 63, 65, 42, 51, 41, 18, 33, 46, 40, 45, 30, 56, 24, 71, 26, 34, 48, 30, 51, 32, 52, 52, 33, 67, 31, 31, 28, 36, 58, 56, 35, 37, 26, 51, 31, 37, 53, 54, 30, 42, 62, 31, 22, 45, 34, 64, 42, 60, 44, 67, 53, 37, 28, 55, 74, 27, 44, 23, 41, 45, 29, 33, 61, 22, 28, 20, 28, 45, 34, 31, 50, 40, 24, 45, 80, 23, 46, 38, 50, 90, 55, 37, 38, 46, 50, 54, 40, 30, 50, 28, 34, 55, 20, 21, 43, 33, 45, 32, 60, 41, 21, 33, 43, 27, 18, 48, 37, 58, 57, 24, 26, 43, 34, 51, 22, 26, 45, 23, 62, 42, 39, 43, 33, 68, 30, 32, 25, 38, 62, 20, 26, 23, 29, 24, 44, 19, 47, 22, 50, 72, 29, 47, 24, 22, 30, 74, 70, 27, 30, 29, 18, 31, 39, 31, 33, 39, 29, 34, 35, 33, 43, 66, 51, 32, 19, 54, 45, 49, 28, 39, 27, 24, 45, 19, 46, 50, 47, 69, 43, 29, 43, 24, 24, 30, 39, 43, 34, 41, 24, 24, 33, 37, 39, 36, 42, 31, 57, 67, 23, 35, 43, 39, 36, 25, 54, 24, 50, 70, 61, 51, 38, 28, 66, 57, 44, 42, 74, 34, 17, 43, 54, 23, 34, 30, 32, 40, 28, 44, 28, 37, 56, 27, 37, 66, 19, 54, 47, 47, 48, 57, 50, 45, 55, 25, 25, 39, 27, 43, 33, 25, 17, 20, 19, 71, 31, 26, 52, 38, 25, 48, 53, 30, 44, 32, 59, 65, 31, 53, 44, 36, 37, 63, 29, 52, 37, 31, 44, 18, 30, 26, 68, 31, 48, 80, 26, 63, 19, 42, 64, 32, 50, 73, 53, 58, 37, 24, 53, 28, 45, 26, 29, 43, 31, 56, 25, 60, 59, 46, 28, 33, 24, 29, 23, 20, 18, 31, 33, 63, 42, 20, 35, 62, 19, 47, 36, 48, 48, 58, 59, 42, 33, 23, 21, 32, 31, 23, 17, 35, 39, 45, 25, 29, 56, 34, 64, 27, 47, 36, 44, 45, 31, 45, 33, 25, 70, 22, 30, 46, 43, 59, 51, 47, 36, 73, 34, 51, 57, 19, 45, 55, 60, 19, 35, 34, 26, 27, 37, 73, 46, 36, 54, 49, 68, 34, 30, 28, 28, 25, 26, 40, 36, 90, 27, 37, 28, 45, 23, 69, 58, 22, 58, 53, 44, 31, 48, 17, 20, 19, 29, 25, 54, 26, 25, 31, 48, 22, 18, 34, 30, 31, 21, 41, 45, 30, 21, 36, 50, 47, 36, 32, 30, 51, 55, 43, 37, 39, 35, 59, 26, 68, 46, 21, 34, 31, 56, 41, 46, 43, 35, 44, 58, 44, 57, 24, 33, 33, 50, 35, 36, 22, 30, 39, 34, 39, 19, 29, 66, 38, 44, 34, 29, 22, 33, 73, 35, 41, 25, 47, 37, 26, 53, 37, 41, 53, 23, 28, 53, 32, 52, 31, 37, 39, 42, 49, 43, 43, 31, 27, 54, 37, 53, 26, 59, 36, 32, 53, 30, 38, 44, 68, 41, 43, 48, 41, 52, 31, 54, 31, 47, 40, 48, 25, 59, 66, 63, 43, 21, 44, 40, 50, 18, 51, 29, 50, 50, 43, 41, 58, 50, 37, 21, 47, 45, 34, 39, 19, 45, 34, 27, 32, 24, 39, 62, 37, 44, 53, 25, 44, 24, 61, 33, 48, 26, 68, 25, 58, 45, 24, 35, 51, 47, 42, 39, 20, 65, 44, 33, 25, 38, 31, 33, 29, 23, 37, 52, 27, 47, 61, 32, 21, 63, 34, 21, 26, 36, 39, 52, 44, 60, 31, 30, 39, 28, 36, 27, 43, 19, 37, 31, 53, 19, 56, 43, 45, 28, 46, 62, 23, 47, 51, 61, 76, 24, 31, 43, 41, 21, 40, 25, 42, 35, 20, 23, 40, 41, 25, 45, 25, 44, 49, 44, 19, 60, 46, 42, 58, 58, 69, 19, 28, 30, 36, 45, 45, 53, 27, 22, 41, 53, 58, 32, 32, 27, 25, 36, 23, 44, 19, 42, 60, 41, 67, 36, 28, 83, 17, 27, 35, 51, 51, 82, 53, 19, 66, 27, 35, 17, 27, 27, 64, 26, 40, 40, 25, 30, 52, 28, 45, 17, 23, 41, 19, 69, 28, 37, 57, 30, 25, 33, 36, 28, 35, 35, 20, 69, 46, 41, 50, 23, 40, 54, 53, 17, 22, 30, 40, 36, 25, 29, 29, 60, 37, 67, 31, 26, 64, 27, 32, 59, 44, 61, 32, 48, 50, 44, 42, 70, 65, 39, 32, 43, 31, 37, 49, 29, 35, 37, 42, 21, 23, 29, 45, 24, 38, 39, 45, 60, 41, 48, 33, 48, 26, 55, 35, 52, 72, 62, 26, 39, 41, 59, 37, 38, 33, 67, 39, 32, 43, 23, 32, 48, 43, 50, 63, 55, 32, 27, 44, 45, 17, 53, 58, 55, 44, 40, 58, 38, 31, 31, 30, 38, 58, 30, 39, 21, 50, 47, 20, 20, 33, 23, 34, 25, 48, 26, 25, 38, 19, 19, 24, 59, 67, 49, 35, 44, 58, 22, 21, 50, 44, 36, 30, 52, 35, 48, 23, 37, 44, 44, 36, 26, 31, 23, 29, 52, 55, 31, 55, 48, 45, 17, 22, 36, 56, 43, 41, 36, 59, 46, 46, 53, 47, 47, 29, 90, 63, 23, 76, 56, 58, 45, 25, 25, 29, 23, 41, 48, 29, 27, 55, 30, 50, 22, 30, 29, 56, 63, 20, 31, 21, 47, 38, 30, 39, 27, 43, 32, 20, 32, 37, 45, 37, 24, 28, 23, 54, 40, 38, 71, 52, 34, 43, 36, 29, 51, 28, 54, 47, 47, 47, 60, 55, 53, 28, 27, 64, 41, 28, 61, 20, 28, 36, 44, 55, 44, 35, 40, 25, 33, 18, 46, 63, 40, 59, 23, 64, 36, 17, 36, 53, 20, 34, 39, 37, 51, 38, 28, 25, 50, 50, 43, 27, 32, 44, 53, 21, 26, 68, 31, 32, 33, 49, 24, 30, 49, 18, 51, 52, 52, 23, 23, 36, 19, 53, 17, 33, 40, 56, 29, 22, 28, 31, 38, 39, 27, 56, 80, 52, 26, 41, 24, 44, 54, 33, 18, 41, 22, 66, 70, 24, 35, 38, 39, 33, 37, 38, 38, 49, 38, 22, 40, 20, 24, 58, 43, 42, 27, 37, 48, 50, 36, 41, 90, 23, 35, 32, 33, 32, 31, 32, 40, 27, 34, 29, 52, 20, 18, 63, 58, 59, 49, 17, 20, 36, 55, 35, 30, 47, 29, 32, 55, 47, 50, 42, 32, 60, 53, 58, 45, 31, 32, 26, 47, 34, 42, 38, 49, 35, 61, 45, 31, 52, 20, 64, 20, 24, 29, 34, 55, 42, 37, 47, 20, 53, 24, 23, 29, 55, 25, 23, 34, 39, 21, 45, 33, 26, 52, 34, 24, 77, 34, 53, 31, 50, 32, 37, 33, 32, 30, 27, 21, 46, 60, 31, 26, 25, 23, 53, 45, 70, 55, 40, 17, 18, 34, 28, 23, 32, 56, 36, 26, 28, 31, 23, 58, 55, 54, 33, 28, 40, 33, 27, 55, 53, 23, 66, 34, 39, 59, 61, 30, 22, 50, 59, 28, 48, 41, 47, 29, 30, 19, 59, 19, 45, 37, 34, 30, 37, 45, 34, 27, 33, 37, 49, 37, 22, 44, 30, 55, 36, 29, 19, 45, 38, 42, 20, 43, 21, 36, 34, 54, 30, 63, 36, 25, 55, 44, 20, 47, 71, 41, 35, 57, 56, 61, 32, 52, 48, 35, 34, 27, 47, 65, 18, 49, 48, 26, 30, 68, 23, 65, 32, 44, 24, 58, 32, 54, 35, 24, 50, 38, 57, 38, 49, 56, 22, 23, 33, 62, 24, 26, 46, 65, 65, 46, 43, 35, 55, 45, 56, 59, 56, 21, 26, 48, 37, 63, 27, 20, 26, 21, 51, 28, 35, 65, 54, 39, 70, 52, 64, 43, 44, 32, 49, 44, 28, 46, 37, 62, 37, 35, 44, 41, 36, 48, 39, 44, 25, 26, 23, 55, 45, 42, 29, 48, 36, 52, 46, 34, 42, 64, 36, 52, 44, 53, 36, 27, 52, 60, 41, 64, 25, 63, 54, 21, 27, 63, 22, 54, 60, 19, 44, 22, 39, 49, 41, 35, 25, 25, 37, 53, 22, 45, 33, 45, 43, 40, 41, 25, 52, 45, 26, 24, 43, 35, 37, 17, 48, 26, 35, 54, 22, 20, 21, 21, 36, 65, 48, 37, 20, 55, 80, 59, 52, 39, 56, 49, 33, 28, 49, 51, 44, 26, 52, 24, 41, 36, 19, 43, 48, 50, 21, 33, 50, 49, 34, 70, 39, 40, 46, 21, 47, 19, 41, 41, 28, 20, 24, 33, 44, 47, 24, 58, 41, 38, 33, 38, 45, 65, 33, 34, 65, 24, 26, 55, 43, 22, 21, 48, 26, 60, 39, 45, 76, 34, 54, 44, 23, 37, 41, 37, 63, 35, 47, 41, 26, 36, 47, 32, 37, 40, 56, 50, 28, 28, 44, 47, 31, 61, 26, 29, 40, 33, 38, 50, 66, 36, 55, 46, 36, 29, 37, 27, 26, 23, 60, 46, 21, 48, 70, 58, 42, 28, 65, 35, 82, 48, 44, 42, 54, 22, 43, 46, 59, 37, 70, 57, 63, 44, 30, 23, 44, 34, 37, 42, 34, 25, 36, 60, 64, 33, 57, 39, 25, 58, 57, 40, 43, 24, 34, 64, 55, 26, 58, 43, 43, 46, 51, 43, 37, 32, 65, 28, 37, 40, 35, 62, 49, 47, 37, 36, 36, 44, 51, 25, 28, 46, 59, 28, 25, 27, 29, 43, 55, 36, 37, 23, 34, 41, 35, 57, 28, 52, 31, 21, 50, 43, 33, 23, 35, 18, 33, 21, 38, 33, 24, 24, 43, 43, 62, 25, 22, 73, 26, 24, 18, 35, 28, 38, 68, 32, 42, 33, 54, 63, 67, 25, 35, 54, 35, 18, 30, 29, 40, 46, 49, 34, 42, 31, 31, 18, 30, 27, 28, 26, 41, 32, 23, 35, 42, 34, 46, 34, 25, 45, 46, 23, 37, 39, 38, 35, 49, 44, 19, 42, 29, 48, 56, 32, 57, 55, 48, 46, 66, 26, 58, 62, 31, 25, 38, 20, 40, 20, 35, 35, 18, 37, 58, 55, 41, 50, 48, 42, 45, 43, 37, 43, 60, 27, 36, 47, 33, 19, 34, 60, 33, 20, 24, 31, 55, 49, 33, 24, 46, 50, 22, 32, 46, 62, 39, 37, 41, 40, 42, 20, 55, 29, 37, 61, 26, 49, 18, 30, 24, 37, 36, 40, 44, 43, 17, 43, 43, 40, 31, 25, 30, 55, 55, 29, 28, 30, 33, 23, 22, 62, 49, 31, 27, 27, 26, 30, 26, 50, 31, 24, 29, 26, 51, 32, 47, 30, 49, 40, 62, 43, 76, 40, 35, 54, 55, 21, 20, 26, 28, 56, 39, 44, 55, 54, 30, 34, 34, 23, 27, 81, 57, 33, 47, 42, 39, 58, 20, 19, 39, 51, 50, 36, 50, 46, 24, 26, 56, 50, 22, 51, 58, 45, 55, 45, 42, 44, 60, 27, 25, 43, 44, 47, 37, 46, 53, 79, 44, 54, 47, 25, 37, 35, 46, 45, 19, 41, 33, 22, 29, 34, 23, 20, 59, 44, 55, 42, 47, 42, 45, 23, 60, 23, 52, 49, 20, 30, 45, 30, 22, 25, 52, 18, 58, 30, 59, 33, 22, 25, 40, 37, 32, 52, 36, 57, 80, 40, 36, 35, 29, 27, 49, 26, 47, 19, 34, 23, 25, 21, 25, 63, 39, 30, 36, 47, 27, 52, 50, 21, 47, 54, 32, 61, 21, 29, 38, 59, 43, 19, 42, 33, 51, 28, 31, 38, 21, 22, 35, 53, 36, 33, 51, 31, 26, 32, 43, 49, 45, 41, 46, 44, 25, 30, 54, 34, 34, 30, 29, 60, 36, 57, 63, 29, 34, 27, 31, 64, 44, 35, 21, 64, 42, 31, 42, 23, 20, 56, 19, 45, 41, 29, 48, 38, 35, 59, 27, 43, 70, 30, 24, 76, 25, 20, 54, 22, 41, 35, 23, 54, 17, 33, 38, 54, 32, 61, 22, 34, 20, 53, 68, 28, 54, 21, 25, 30, 33, 45, 67, 42, 69, 34, 28, 31, 32, 76, 43, 48, 39, 59, 40, 63, 22, 36, 57, 58, 25, 59, 36, 29, 49, 42, 43, 46, 43, 26, 58, 43, 53, 74, 45, 42, 24, 63, 37, 28, 31, 46, 44, 45, 52, 40, 26, 55, 27, 71, 35, 17, 26, 51, 33, 41, 50, 53, 32, 58, 47, 51, 42, 28, 50, 58, 47, 64, 51, 47, 68, 39, 44, 46, 40, 19, 65, 40, 61, 30, 61, 33, 32, 32, 37, 53, 51, 29, 48, 69, 45, 60, 38, 19, 18, 33, 37, 50, 19, 47, 21, 36, 62, 65, 46, 35, 50, 33, 53, 47, 62, 35, 23, 23, 34, 18, 38, 41, 36, 30, 26, 45, 51, 34, 42, 26, 20, 43, 27, 46, 39, 33, 42, 23, 27, 43, 23, 35, 30, 59, 65, 28, 79, 54, 27, 30, 18, 28, 46, 77, 41, 48, 29, 41, 34, 49, 49, 30, 28, 62, 41, 20, 61, 30, 44, 25, 35, 22, 26, 26, 44, 32, 66, 19, 54, 37, 38, 37, 22, 34, 35, 42, 34, 38, 62, 35, 47, 37, 60, 31, 74, 63, 30, 44, 40, 35, 50, 33, 59, 17, 47, 51, 26, 55, 54, 52, 59, 55, 54, 31, 19, 31, 32, 31, 32, 46, 41, 39, 23, 53, 45, 24, 53, 38, 26, 18, 26, 48, 58, 40, 33, 74, 49, 25, 57, 29, 28, 59, 30, 48, 19, 31, 28, 41, 46, 33, 34, 47, 81, 45, 35, 46, 39, 23, 37, 49, 25, 32, 34, 40, 78, 31, 61, 22, 29, 37, 52, 18, 37, 46, 25, 47, 55, 18, 25, 51, 47, 37, 27, 52, 41, 55, 24, 41, 37, 48, 40, 65, 44, 32, 41, 28, 44, 31, 34, 20, 33, 52, 39, 35, 37, 44, 28, 35, 19, 30, 29, 27, 37, 44, 34, 41, 34, 23, 24, 24, 53, 33, 24, 45, 31, 38, 25, 29, 48, 36, 62, 60, 41, 43, 30, 47, 50, 41, 23, 30, 61, 71, 38, 27, 45, 25, 52, 52, 36, 69, 36, 31, 38, 24, 37, 69, 39, 38, 34, 61, 35, 29, 41, 42, 51, 55, 23, 24, 48, 28, 34, 25, 48, 32, 31, 22, 27, 30, 50, 42, 37, 26, 33, 57, 45, 25, 56, 25, 23, 35, 28, 41, 26, 22, 30, 42, 49, 27, 41, 25, 23, 68, 17, 45, 30, 42, 26, 33, 45, 66, 33, 38, 72, 39, 41, 22, 49, 24, 25, 26, 50, 41, 60, 77, 22, 17, 31, 23, 27, 61, 55, 38, 25, 66, 32, 43, 18, 20, 20, 33, 40, 33, 30, 40, 44, 30, 45, 22, 25, 63, 55, 22, 41, 21, 39, 18, 60, 22, 34, 27, 37, 25, 33, 34, 51, 33, 57, 25, 56, 34, 36, 46, 55, 88, 60, 56, 36, 67, 35, 34, 23, 19, 25, 53, 31, 33, 33, 45, 20, 36, 36, 51, 45, 45, 24, 63, 35, 44, 52, 27, 35, 51, 49, 35, 37, 38, 58, 57, 31, 17, 40, 65, 31, 71, 25, 40, 40, 38, 38, 42, 23, 56, 36, 22, 44, 19, 37, 54, 18, 22, 63, 26, 20, 39, 28, 42, 40, 67, 18, 36, 34, 24, 30, 49, 46, 34, 23, 32, 22, 48, 27, 43, 55, 31, 34, 34, 37, 21, 35, 40, 23, 30, 57, 34, 24, 41, 38, 43, 35, 42, 42, 48, 37, 35, 59, 57, 26, 26, 19, 46, 22, 72, 36, 76, 37, 42, 44, 53, 28, 69, 20, 33, 47, 50, 22, 20, 42, 23, 24, 41, 35, 40, 25, 34, 23, 30, 42, 39, 52, 42, 25, 27, 30, 23, 47, 58, 58, 35, 31, 46, 43, 52, 39, 34, 58, 26, 29, 67, 62, 54, 36, 18, 25, 56, 59, 36, 27, 30, 39, 31, 28, 38, 44, 40, 31, 43, 30, 36, 19, 36, 42, 38, 33, 52, 30, 18, 24, 17, 66, 55, 44, 23, 29, 54, 30, 59, 37, 45, 55, 49, 67, 49, 30, 33, 25, 28, 23, 37, 32, 57, 36, 30, 27, 21, 22, 43, 20, 30, 57, 44, 42, 26, 42, 30, 59, 21, 56, 21, 48, 35, 43, 17, 41, 35, 22, 44, 39, 59, 34, 31, 59, 46, 27, 18, 46, 55, 48, 44, 43, 27, 34, 40, 55, 26, 54, 22, 33, 42, 19, 45, 53, 25, 90, 45, 47, 38, 35, 37, 53, 56, 18, 44, 26, 38, 46, 41, 37, 38, 50, 34, 23, 50, 45, 17, 50, 31, 45, 25, 20, 42, 56, 56, 33, 50, 39, 35, 40, 59, 42, 59, 54, 38, 53, 54, 41, 22, 45, 29, 42, 42, 19, 53, 24, 37, 26, 25, 52, 50, 40, 32, 37, 47, 47, 61, 47, 56, 30, 36, 42, 45, 28, 31, 32, 29, 26, 68, 32, 21, 33, 26, 52, 31, 29, 20, 40, 43, 52, 24, 20, 38, 32, 49, 31, 46, 46, 37, 44, 28, 19, 31, 47, 37, 22, 46, 51, 50, 38, 40, 58, 36, 49, 46, 53, 60, 28, 31, 45, 34, 27, 51, 55, 43, 48, 42, 51, 32, 34, 31, 71, 17, 34, 46, 33, 41, 59, 50, 46, 45, 31, 28, 32, 36, 39, 23, 44, 37, 43, 37, 26, 34, 51, 67, 40, 33, 48, 24, 24, 40, 42, 31, 53, 32, 34, 41, 25, 40, 17, 82, 26, 37, 25, 65, 39, 36, 37, 23, 34, 63, 49, 28, 45, 40, 45, 20, 41, 49, 37, 31, 21, 20, 46, 48, 50, 41, 54, 44, 50, 34, 46, 35, 38, 37, 30, 21, 40, 56, 48, 52, 60, 45, 30, 31, 43, 36, 42, 62, 45, 47, 43, 24, 25, 21, 29, 21, 41, 55, 42, 63, 21, 45, 43, 53, 34, 46, 53, 33, 45, 48, 55, 46, 21, 53, 61, 58, 36, 41, 30, 50, 51, 41, 47, 51, 60, 20, 42, 19, 34, 38, 40, 39, 38, 23, 20, 49, 47, 43, 56, 60, 29, 39, 38, 50, 64, 35, 42, 51, 21, 53, 34, 37, 18, 57, 47, 27, 23, 36, 40, 59, 39, 32, 51, 31, 53, 28, 19, 40, 21, 39, 40, 36, 32, 50, 18, 19, 53, 40, 31, 47, 35, 51, 54, 76, 33, 19, 49, 26, 49, 24, 48, 36, 31, 53, 43, 31, 36, 47, 52, 24, 21, 29, 34, 61, 20, 47, 40, 53, 26, 39, 17, 46, 34, 45, 41, 18, 38, 28, 49, 29, 30, 25, 27, 25, 26, 49, 44, 37, 39, 65, 40, 31, 71, 25, 36, 56, 34, 39, 44, 60, 65, 44, 53, 28, 28, 53, 26, 34, 50, 47, 27, 55, 35, 39, 30, 39, 25, 57, 32, 42, 39, 46, 53, 36, 34, 25, 45, 31, 21, 33, 29, 20, 21, 43, 33, 61, 32, 24, 58, 42, 56, 65, 57, 36, 42, 18, 18, 28, 19, 37, 23, 60, 29, 34, 36, 47, 61, 57, 33, 54, 40, 40, 35, 32, 49, 58, 26, 35, 25, 43, 32, 45, 48, 31, 28, 22, 38, 23, 24, 24, 84, 48, 46, 31, 58, 35, 36, 36, 47, 57, 30, 30, 23, 41, 52, 27, 59, 69, 24, 19, 60, 39, 51, 26, 23, 57, 20, 37, 46, 50, 25, 44, 41, 30, 38, 54, 37, 46, 38, 71, 35, 62, 56, 30, 35, 21, 46, 33, 36, 42, 35, 25, 47, 44, 51, 53, 47, 20, 28, 58, 35, 30, 56, 45, 62, 23, 36, 40, 30, 41, 59, 27, 19, 41, 27, 38, 30, 48, 39, 40, 27, 59, 34, 47, 64, 29, 38, 42, 49, 53, 35, 70, 38, 34, 24, 59, 33, 63, 18, 33, 19, 27, 40, 38, 20, 35, 40, 34, 23, 26, 53, 34, 39, 25, 18, 65, 64, 68, 35, 43, 37, 45, 47, 34, 44, 25, 35, 42, 23, 50, 38, 46, 38, 42, 48, 39, 34, 23, 32, 45, 21, 36, 40, 68, 40, 27, 57, 54, 30, 17, 35, 56, 20, 38, 24, 31, 44, 41, 23, 37, 46, 43, 31, 40, 64, 31, 48, 37, 28, 42, 60, 46, 22, 44, 36, 26, 21, 41, 19, 40, 19, 40, 37, 33, 34, 44, 72, 22, 59, 50, 40, 22, 42, 37, 19, 43, 50, 47, 31, 33, 27, 59, 39, 29, 24, 25, 52, 51, 30, 23, 37, 25, 49, 30, 20, 35, 24, 32, 29, 25, 50, 24, 49, 37, 20, 49, 55, 23, 43, 21, 52, 30, 42, 50, 49, 45, 36, 20, 61, 72, 54, 44, 19, 20, 58, 20, 62, 67, 37, 25, 41, 63, 60, 31, 29, 51, 45, 27, 18, 66, 36, 27, 22, 41, 20, 52, 44, 49, 71, 20, 59, 41, 55, 45, 43, 19, 63, 39, 34, 31, 21, 45, 59, 58, 29, 39, 57, 50, 44, 56, 26, 33, 36, 45, 23, 23, 35, 45, 56, 44, 21, 31, 20, 44, 71, 21, 29, 46, 36, 70, 34, 26, 24, 28, 24, 76, 19, 45, 24, 37, 24, 40, 20, 23, 53, 52, 28, 31, 22, 38, 45, 50, 53, 24, 33, 57, 30, 31, 39, 39, 34, 45, 19, 25, 42, 66, 63, 43, 26, 39, 47, 35, 25, 43, 31, 45, 50, 40, 55, 64, 51, 30, 35, 55, 34, 43, 24, 30, 33, 32, 50, 18, 45, 22, 45, 41, 24, 22, 28, 23, 49, 37, 70, 83, 69, 71, 42, 21, 29, 27, 32, 31, 55, 48, 58, 49, 23, 40, 59, 37, 39, 43, 40, 48, 48, 37, 19, 56, 45, 60, 53, 37, 31, 29, 39, 31, 42, 24, 62, 47, 76, 46, 29, 26, 31, 41, 29, 60, 72, 41, 25, 24, 59, 17, 59, 69, 25, 50, 43, 29, 32, 17, 50, 43, 65, 70, 53, 37, 21, 20, 47, 26, 31, 45, 55, 49, 33, 30, 19, 48, 41, 29, 47, 53, 43, 56, 28, 44, 30, 31, 64, 45, 40, 19, 54, 61, 62, 33, 54, 24, 42, 51, 47, 21, 43, 53, 44, 31, 48, 41, 35, 54, 40, 23, 34, 27, 32, 72, 43, 53, 18, 38, 29, 70, 28, 55, 50, 42, 22, 42, 45, 55, 57, 25, 43, 34, 48, 38, 17, 70, 45, 56, 64, 23, 42, 23, 26, 56, 41, 47, 21, 29, 32, 69, 19, 25, 56, 24, 40, 37, 36, 41, 36, 42, 29, 23, 27, 32, 33, 21, 39, 50, 32, 40, 58, 56, 30, 25, 33, 41, 50, 44, 27, 27, 58, 25, 39, 55, 44, 61, 32, 35, 28, 57, 32, 43, 60, 48, 36, 41, 33, 72, 34, 27, 75, 51, 47, 31, 36, 18, 34, 51, 20, 59, 31, 68, 30, 34, 49, 38, 60, 51, 24, 21, 48, 40, 30, 30, 56, 48, 42, 23, 43, 22, 41, 71, 42, 31, 69, 58, 31, 35, 62, 27, 17, 35, 51, 64, 54, 43, 32, 36, 26, 37, 26, 50, 47, 37, 29, 63, 50, 42, 32, 42, 41, 25, 65, 32, 32, 24, 32, 77, 26, 20, 57, 40, 50, 19, 54, 51, 51, 38, 68, 32, 29, 42, 27, 61, 49, 41, 46, 28, 39, 50, 57, 79, 35, 35, 30, 26, 48, 22, 47, 36, 44, 34, 37, 29, 24, 29, 59, 27, 50, 25, 36, 62, 38, 19, 49, 60, 28, 18, 43, 65, 23, 20, 32, 37, 29, 59, 22, 31, 59, 56, 37, 58, 41, 29, 38, 36, 19, 42, 29, 37, 39, 28, 36, 44, 60, 59, 31, 40, 33, 41, 62, 43, 55, 55, 44, 23, 63, 49, 25, 44, 17, 42, 26, 24, 30, 19, 52, 17, 27, 37, 40, 49, 43, 32, 30, 25, 42, 60, 46, 39, 28, 26, 59, 64, 90, 36, 30, 47, 32, 23, 62, 62, 35, 27, 18, 63, 61, 50, 36, 21, 38, 30, 22, 39, 42, 47, 42, 29, 35, 28, 49, 60, 26, 25, 56, 35, 54, 28, 31, 52, 19, 23, 23, 52, 33, 58, 61, 39, 38, 59, 41, 19, 22, 37, 31, 18, 28, 49, 38, 19, 43, 28, 50, 46, 20, 45, 46, 66, 25, 55, 48, 47, 55, 41, 47, 40, 41, 52, 62, 46, 21, 35, 21, 35, 46, 70, 35, 34, 21, 29, 41, 51, 47, 42, 46, 23, 49, 41, 50, 27, 29, 54, 32, 36, 50, 32, 38, 31, 38, 50, 18, 59, 56, 34, 32, 29, 29, 42, 32, 52, 29, 39, 39, 60, 51, 24, 20, 58, 21, 28, 40, 45, 44, 26, 29, 23, 45, 51, 22, 67, 28, 33, 37, 35, 25, 21, 32, 65, 57, 31, 37, 26, 44, 66, 31, 53, 61, 43, 38, 26, 27, 56, 36, 29, 28, 61, 66, 31, 67, 26, 21, 33, 59, 82, 29, 57, 41, 55, 27, 33, 43, 68, 41, 30, 31, 41, 66, 31, 32, 51, 31, 20, 40, 53, 56, 51, 38, 44, 49, 47, 53, 41, 19, 61, 45, 29, 41, 38, 37, 55, 62, 48, 43, 25, 49, 55, 40, 34, 39, 43, 27, 67, 21, 17, 31, 51, 29, 28, 32, 31, 26, 51, 62, 54, 24, 27, 18, 44, 50, 38, 39, 27, 35, 51, 60, 62, 38, 37, 32, 28, 83, 42, 46, 44, 60, 52, 73, 26, 20, 50, 23, 35, 43, 50, 58, 55, 29, 27, 25, 31, 42, 52, 46, 52, 25, 54, 46, 28, 24, 60, 35, 47, 40, 38, 54, 39, 60, 49, 42, 27, 51, 51, 40, 61, 35, 31, 43, 20, 35, 30, 42, 51, 39, 69, 63, 21, 24, 55, 42, 52, 29, 32, 47, 56, 40, 36, 45, 38, 60, 70, 33, 37, 50, 68, 32, 30, 18, 23, 59, 48, 53, 18, 50, 63, 38, 60, 30, 39, 55, 17, 46, 32, 34, 50, 32, 26, 43, 32, 48, 28, 43, 30, 34, 34, 41, 42, 81, 40, 49, 46, 28, 35, 29, 52, 45, 43, 21, 35, 30, 17, 32, 32, 30, 28, 62, 46, 26, 41, 57, 52, 35, 19, 49, 47, 30, 32, 22, 47, 41, 36, 32, 37, 36, 64, 17, 42, 37, 56, 52, 37, 48, 33, 39, 34, 23, 49, 18, 20, 54, 19, 53, 28, 35, 64, 42, 27, 36, 23, 46, 24, 62, 19, 20, 47, 19, 35, 50, 27, 28, 29, 25, 49, 31, 56, 45, 72, 46, 22, 41, 46, 32, 52, 48, 25, 60, 38, 37, 40, 48, 40, 68, 35, 33, 20, 36, 34, 19, 34, 37, 47, 23, 33, 60, 17, 67, 57, 17, 53, 25, 24, 48, 51, 38, 51, 42, 39, 20, 21, 26, 54, 32, 59, 54, 33, 45, 58, 27, 20, 32, 45, 43, 54, 46, 58, 50, 74, 30, 36, 36, 37, 29, 17, 40, 42, 32, 33, 43, 47, 73, 37, 19, 32, 44, 44, 26, 29, 21, 49, 24, 26, 25, 30, 52, 30, 20, 31, 44, 46, 58, 41, 72, 26, 45, 48, 23, 18, 25, 54, 41, 23, 17, 42, 61, 21, 44, 48, 46, 37, 28, 19, 63, 20, 28, 48, 38, 45, 38, 55, 63, 21, 62, 46, 35, 37, 45, 19, 61, 61, 45, 38, 40, 34, 19, 46, 44, 53, 68, 62, 62, 45, 29, 33, 34, 65, 22, 30, 44, 52, 53, 41, 37, 55, 36, 19, 24, 30, 17, 28, 34, 35, 24, 20, 55, 20, 38, 26, 58, 23, 53, 35, 41, 31, 57, 25, 23, 48, 37, 43, 20, 40, 35, 43, 40, 54, 32, 49, 52, 41, 19, 21, 20, 46, 39, 34, 19, 27, 53, 46, 23, 39, 30, 53, 33, 39, 37, 17, 43, 46, 17, 60, 63, 42, 30, 33, 43, 30, 37, 49, 35, 27, 33, 41, 38, 45, 18, 28, 36, 21, 44, 33, 61, 29, 45, 29, 21, 49, 35, 47, 37, 37, 26, 18, 55, 47, 53, 38, 19, 28, 40, 35, 35, 41, 38, 29, 46, 40, 29, 39, 31, 27, 27, 57, 36, 51, 39, 43, 38, 51, 43, 44, 40, 47, 26, 29, 30, 57, 37, 39, 45, 59, 28, 47, 29, 20, 32, 48, 50, 31, 23, 35, 50, 39, 52, 44, 43, 39, 33, 31, 28, 35, 44, 40, 55, 30, 38, 75, 17, 79, 20, 25, 27, 19, 42, 28, 47, 50, 48, 33, 45, 24, 24, 29, 24, 63, 36, 58, 42, 39, 39, 28, 51, 45, 45, 38, 38, 39, 52, 31, 22, 41, 29, 42, 52, 46, 21, 74, 29, 44, 23, 38, 33, 23, 37, 25, 36, 18, 25, 29, 53, 33, 27, 24, 54, 36, 24, 39, 44, 24, 52, 46, 50, 34, 40, 58, 26, 22, 36, 36, 60, 49, 50, 34, 46, 46, 69, 32, 40, 61, 56, 47, 29, 37, 44, 51, 24, 40, 34, 56, 40, 57, 26, 53, 39, 56, 17, 29, 33, 47, 43, 64, 40, 21, 31, 32, 66, 27, 18, 52, 31, 28, 37, 35, 42, 18, 46, 54, 54, 27, 41, 41, 36, 37, 31, 46, 24, 25, 55, 64, 65, 46, 45, 32, 34, 35, 26, 24, 45, 44, 57, 41, 20, 32, 22, 21, 40, 59, 45, 45, 22, 26, 21, 26, 31, 36, 66, 34, 80, 40, 19, 42, 59, 26, 42, 19, 34, 49, 36, 53, 21, 39, 52, 59, 50, 31, 41, 45, 22, 50, 48, 24, 54, 26, 53, 51, 54, 32, 46, 60, 56, 57, 29, 49, 28, 45, 17, 54, 31, 54, 55, 37, 34, 38, 51, 41, 24, 56, 33, 31, 27, 32, 35, 43, 19, 23, 40, 59, 43, 43, 26, 68, 41, 32, 25, 20, 22, 33, 26, 68, 32, 30, 67, 53, 27, 29, 38, 48, 18, 28, 34, 62, 46, 20, 29, 55, 20, 54, 27, 43, 17, 48, 34, 66, 43, 56, 58, 54, 45, 29, 43, 33, 45, 25, 25, 69, 37, 20, 27, 55, 39, 34, 51, 67, 40, 58, 45, 51, 43, 36, 58, 33, 60, 24, 42, 73, 59, 28, 19, 58, 21, 47, 30, 41, 43, 44, 28, 33, 30, 46, 21, 26, 27, 50, 28, 61, 30, 40, 36, 28, 49, 61, 41, 57, 49, 59, 41, 59, 20, 45, 25, 45, 58, 39, 34, 22, 44, 22, 27, 46, 56, 36, 35, 29, 19, 38, 40, 52, 36, 22, 32, 22, 42, 27, 52, 43, 47, 61, 39, 47, 19, 37, 31, 69, 22, 29, 24, 42, 30, 27, 35, 22, 25, 30, 25, 70, 50, 34, 57, 43, 60, 46, 26, 22, 53, 43, 24, 24, 52, 32, 35, 38, 34, 40, 40, 50, 32, 18, 45, 46, 73, 64, 23, 30, 35, 31, 40, 46, 42, 23, 21, 49, 53, 32, 20, 17, 25, 58, 24, 48, 20, 60, 20, 52, 46, 37, 44, 63, 22, 31, 17, 21, 67, 46, 29, 27, 35, 43, 62, 28, 59, 37, 27, 62, 46, 28, 46, 54, 34, 67, 62, 30, 19, 49, 27, 36, 52, 56, 53, 31, 41, 63, 39, 31, 35, 54, 55, 31, 58, 31, 38, 17, 48, 73, 25, 53, 46, 30, 29, 29, 58, 62, 45, 38, 36, 42, 47, 42, 37, 54, 48, 29, 37, 55, 51, 41, 23, 38, 62, 70, 45, 38, 50, 40, 30, 28, 62, 40, 53, 42, 26, 51, 49, 43, 42, 26, 35, 53, 20, 31, 28, 46, 41, 30, 66, 37, 46, 51, 33, 30, 47, 24, 54, 32, 45, 46, 37, 48, 58, 69, 38, 46, 19, 24, 38, 19, 28, 38, 21, 48, 30, 24, 32, 56, 38, 19, 61, 28, 50, 43, 28, 31, 35, 63, 31, 22, 67, 50, 31, 17, 41, 53, 44, 24, 35, 44, 56, 45, 69, 64, 43, 37, 59, 50, 33, 56, 28, 42, 34, 19, 68, 28, 22, 17, 25, 25, 47, 44, 46, 38, 23, 33, 52, 35, 67, 60, 38, 29, 65, 29, 43, 42, 32, 41, 21, 33, 19, 19, 35, 45, 25, 39, 26, 60, 22, 34, 39, 56, 23, 39, 24, 51, 47, 25, 34, 32, 49, 43, 71, 59, 25, 32, 57, 17, 41, 62, 39, 30, 37, 40, 38, 24, 33, 48, 51, 48, 43, 34, 41, 51, 25, 20, 61, 26, 46, 39, 18, 29, 39, 47, 40, 43, 32, 19, 44, 46, 53, 43, 35, 48, 28, 36, 28, 21, 34, 36, 31, 44, 49, 40, 64, 54, 27, 68, 64, 36, 21, 22, 61, 24, 49, 66, 29, 57, 29, 47, 59, 42, 29, 25, 44, 60, 46, 44, 18, 33, 63, 52, 17, 45, 31, 35, 31, 48, 28, 42, 43, 30, 24, 46, 50, 22, 18, 53, 40, 36, 32, 39, 46, 26, 19, 28, 44, 38, 42, 28, 36, 47, 46, 26, 67, 54, 26, 27, 27, 52, 21, 27, 46, 42, 79, 43, 51, 45, 65, 66, 36, 28, 39, 43, 29, 32, 60, 34, 29, 41, 43, 19, 29, 40, 53, 27, 44, 25, 38, 48, 50, 50, 74, 34, 19, 39, 27, 46, 18, 50, 42, 42, 37, 27, 31, 56, 35, 28, 38, 30, 35, 45, 35, 41, 60, 18, 19, 24, 56, 28, 29, 35, 55, 18, 53, 26, 55, 45, 28, 32, 27, 41, 23, 22, 36, 65, 59, 33, 31, 50, 49, 34, 63, 33, 51, 31, 48, 47, 54, 23, 34, 34, 31, 41, 27, 23, 59, 56, 35, 59, 47, 23, 43, 46, 33, 36, 35, 30, 39, 37, 22, 25, 64, 33, 59, 41, 60, 19, 23, 57, 36, 17, 24, 32, 27, 21, 22, 29, 22, 37, 38, 34, 45, 36, 20, 34, 32, 58, 64, 28, 21, 25, 41, 41, 27, 54, 29, 36, 41, 60, 34, 60, 39, 59, 34, 36, 54, 48, 19, 40, 25, 39, 34, 35, 36, 59, 33, 22, 48, 45, 46, 35, 51, 31, 39, 26, 25, 61, 52, 52, 50, 76, 25, 66, 27, 41, 43, 31, 33, 28, 41, 44, 47, 24, 34, 27, 35, 59, 39, 41, 32, 43, 67, 20, 35, 38, 42, 44, 28, 74, 50, 43, 29, 61, 27, 47, 33, 45, 42, 35, 20, 40, 60, 49, 38, 38, 35, 40, 40, 36, 24, 62, 54, 36, 31, 44, 33, 62, 55, 26, 67, 25, 30, 22, 19, 61, 53, 42, 55, 35, 36, 45, 48, 40, 31, 26, 31, 55, 38, 21, 27, 35, 27, 18, 66, 33, 28, 34, 30, 59, 42, 60, 53, 41, 49, 36, 34, 40, 48, 51, 22, 34, 34, 56, 49, 26, 48, 35, 29, 47, 53, 50, 26, 70, 55, 27, 31, 43, 24, 41, 52, 59, 58, 65, 24, 51, 31, 51, 24, 30, 22, 30, 49, 42, 57, 26, 31, 38, 44, 42, 23, 31, 35, 30, 35, 23, 63, 20, 50, 49, 53, 54, 40, 28, 24, 19, 42, 54, 42, 30, 33, 39, 27, 20, 62, 17, 69, 34, 34, 20, 27, 40, 53, 44, 46, 17, 35, 49, 26, 35, 29, 54, 36, 25, 18, 22, 52, 49, 42, 37, 39, 32, 53, 30, 38, 23, 39, 37, 41, 47, 47, 30, 29, 42, 51, 34, 44, 27, 39, 46, 32, 23, 47, 66, 26, 52, 48, 37, 50, 39, 38, 53, 28, 42, 40, 20, 32, 23, 25, 41, 42, 18, 29, 36, 34, 34, 48, 36, 67, 53, 53, 45, 25, 47, 31, 38, 23, 78, 54, 30, 46, 66, 23, 25, 32, 25, 51, 24, 26, 41, 39, 51, 27, 33, 67, 41, 29, 28, 25, 21, 24, 46, 35, 35, 50, 45, 39, 33, 50, 26, 49, 49, 33, 72, 32, 44, 22, 17, 49, 26, 19, 38, 34, 51, 48, 63, 38, 54, 41, 65, 36, 42, 38, 20, 37, 35, 51, 19, 37, 29, 33, 60, 22, 22, 35, 30, 43, 35, 61, 42, 36, 24, 47, 51, 49, 63, 58, 36, 19, 29, 43, 60, 21, 33, 37, 17, 37, 28, 57, 45, 32, 36, 34, 27, 47, 46, 45, 32, 59, 45, 76, 32, 38, 53, 41, 27, 44, 35, 42, 40, 45, 36, 57, 62, 29, 38, 29, 18, 19, 34, 25, 34, 37, 37, 18, 24, 29, 49, 71, 35, 55, 37, 49, 32, 63, 39, 42, 30, 48, 57, 28, 43, 46, 60, 37, 59, 72, 29, 35, 24, 24, 42, 58, 39, 25, 69, 36, 34, 45, 27, 28, 44, 36, 39, 30, 34, 50, 30, 43, 26, 50, 45, 46, 17, 56, 23, 33, 52, 34, 26, 35, 58, 32, 28, 20, 17, 56, 45, 54, 58, 39, 19, 37, 49, 28, 23, 19, 37, 41, 56, 44, 30, 38, 32, 57, 35, 48, 32, 51, 50, 53, 59, 23, 44, 23, 44, 30, 28, 38, 39, 28, 33, 59, 26, 28, 48, 41, 49, 37, 61, 26, 66, 66, 46, 62, 35, 26, 31, 52, 61, 39, 47, 33, 17, 26, 25, 39, 33, 46, 48, 40, 24, 55, 56, 25, 36, 26, 37, 36, 23, 25, 37, 39, 35, 33, 31, 49, 34, 40, 50, 55, 49, 40, 51, 30, 70, 43, 22, 38, 52, 32, 21, 27, 31, 49, 61, 46, 37, 56, 37, 26, 52, 40, 63, 30, 50, 41, 39, 52, 30, 23, 39, 37, 40, 47, 20, 35, 62, 42, 32, 53, 28, 26, 47, 70, 41, 43, 40, 64, 40, 43, 50, 32, 42, 41, 20, 45, 42, 24, 28, 36, 50, 34, 35, 61, 27, 18, 31, 31, 35, 51, 43, 18, 55, 49, 61, 64, 63, 18, 55, 34, 29, 52, 57, 38, 51, 40, 41, 28, 59, 31, 30, 54, 33, 32, 27, 40, 34, 34, 28, 65, 61, 35, 25, 48, 54, 47, 30, 67, 26, 61, 54, 50, 36, 50, 28, 58, 27, 62, 36, 28, 33, 54, 76, 34, 17, 26, 44, 65, 54, 34, 42, 26, 39, 34, 59, 20, 34, 51, 34, 21, 30, 38, 34, 22, 31, 50, 19, 35, 28, 27, 46, 27, 34, 33, 30, 36, 50, 19, 52, 20, 34, 60, 19, 59, 36, 25, 49, 33, 40, 56, 56, 23, 67, 54, 59, 42, 26, 47, 78, 24, 27, 51, 46, 55, 20, 30, 36, 30, 31, 26, 59, 53, 24, 39, 53, 75, 36, 46, 56, 29, 60, 58, 67, 35, 39, 37, 54, 63, 55, 39, 23, 44, 35, 48, 48, 33, 18, 24, 32, 44, 27, 39, 26, 34, 38, 41, 73, 32, 56, 59, 44, 35, 52, 30, 23, 61, 68, 41, 42, 31, 40, 51, 44, 30, 24, 34, 17, 61, 30, 45, 49, 39, 52, 38, 19, 25, 71, 54, 49, 57, 56, 17, 30, 26, 61, 50, 24, 25, 34, 38, 42, 17, 48, 38, 52, 41, 49, 19, 39, 43, 42, 17, 48, 60, 57, 27, 24, 41, 42, 50, 30, 38, 31, 34, 52, 34, 31, 37, 36, 72, 40, 19, 55, 30, 29, 41, 46, 44, 38, 36, 24, 38, 30, 36, 27, 27, 66, 65, 17, 19, 57, 43, 50, 38, 31, 62, 37, 53, 28, 46, 19, 84, 48, 44, 25, 37, 24, 30, 56, 30, 40, 28, 39, 33, 23, 32, 37, 30, 53, 42, 44, 54, 38, 29, 20, 32, 24, 59, 56, 40, 35, 30, 61, 36, 31, 34, 24, 42, 23, 60, 47, 28, 55, 47, 54, 38, 62, 29, 19, 40, 36, 42, 43, 39, 38, 49, 35, 51, 23, 51, 33, 50, 38, 26, 26, 33, 42, 20, 31, 36, 39, 52, 61, 27, 21, 38, 51, 59, 41, 43, 17, 32, 42, 68, 55, 43, 61, 28, 21, 39, 39, 34, 57, 27, 25, 51, 19, 27, 36, 33, 60, 42, 42, 34, 30, 34, 37, 31, 33, 41, 23, 51, 30, 49, 37, 42, 67, 31, 50, 33, 27, 31, 35, 55, 56, 46, 40, 52, 59, 33, 20, 21, 42, 54, 46, 21, 39, 32, 23, 42, 28, 28, 35, 27, 54, 30, 66, 30, 32, 26, 52, 30, 19, 33, 20, 61, 31, 61, 61, 34, 32, 38, 26, 35, 50, 34, 37, 35, 55, 25, 51, 37, 54, 47, 46, 24, 19, 35, 36, 46, 34, 58, 31, 33, 28, 32, 41, 48, 27, 34, 25, 22, 61, 58, 30, 24, 52, 49, 34, 48, 30, 44, 44, 29, 35, 27, 37, 33, 34, 28, 41, 19, 48, 26, 32, 36, 49, 33, 54, 36, 41, 27, 68, 21, 56, 40, 46, 43, 46, 51, 31, 27, 36, 31, 52, 39, 24, 55, 38, 36, 30, 34, 19, 79, 28, 41, 21, 45, 23, 32, 67, 32, 35, 29, 38, 38, 18, 47, 21, 27, 32, 40, 25, 44, 31, 33, 41, 29, 32, 78, 64, 58, 55, 35, 27, 37, 47, 25, 53, 72, 25, 37, 39, 64, 29, 50, 20, 34, 43, 44, 47, 51, 41, 31, 25, 46, 53, 28, 60, 43, 45, 28, 19, 51, 19, 64, 44, 21, 33, 63, 44, 24, 20, 21, 34, 26, 35, 25, 27, 52, 36, 37, 25, 54, 42, 65, 61, 29, 34, 40, 42, 50, 49, 38, 41, 70, 51, 57, 31, 45, 39, 38, 38, 19, 36, 30, 28, 53, 32, 57, 36, 25, 43, 56, 35, 44, 44, 64, 26, 53, 50, 45, 59, 65, 62, 21, 41, 35, 62, 53, 69, 47, 52, 54, 58, 30, 73, 64, 32, 51, 57, 25, 53, 28, 46, 40, 24, 20, 50, 35, 54, 35, 31, 47, 33, 35, 36, 39, 25, 25, 53, 18, 41, 25, 66, 27, 23, 29, 26, 26, 38, 36, 34, 32, 57, 35, 75, 28, 39, 31, 27, 42, 49, 33, 61, 61, 39, 30, 34, 53, 46, 27, 23, 22, 25, 29, 90, 32, 18, 50, 54, 43, 28, 51, 31, 57, 28, 25, 49, 52, 23, 32, 30, 24, 45, 30, 52, 49, 20, 41, 31, 32, 29, 21, 43, 39, 40, 35, 35, 57, 35, 31, 39, 29, 42, 46, 73, 27, 38, 19, 60, 24, 52, 28, 38, 47, 27, 49, 68, 36, 43, 49, 25, 34, 34, 64, 51, 31, 42, 65, 23, 31, 17, 63, 48, 45, 17, 26, 43, 39, 43, 49, 52, 32, 38, 44, 63, 21, 32, 50, 26, 35, 31, 24, 40, 31, 43, 44, 75, 52, 51, 39, 40, 40, 33, 38, 29, 37, 19, 46, 46, 37, 26, 57, 33, 26, 38, 61, 36, 61, 17, 40, 18, 41, 55, 27, 39, 36, 51, 27, 30, 42, 56, 41, 49, 54, 38, 45, 50, 31, 27, 34, 46, 47, 36, 22, 51, 43, 54, 29, 18, 31, 57, 48, 24, 24, 27, 33, 19, 47, 20, 36, 49, 58, 38, 32, 35, 51, 33, 48, 53, 40, 64, 42, 25, 42, 24, 22, 33, 63, 20, 33, 56, 70, 42, 28, 80, 37, 38, 30, 36, 70, 55, 22, 41, 62, 52, 36, 74, 41, 25, 35, 38, 34, 48, 51, 39, 17, 42, 32, 33, 25, 44, 72, 36, 67, 28, 24, 17, 21, 51, 32, 39, 50, 34, 68, 49, 18, 46, 39, 35, 21, 29, 30, 37, 45, 45, 20, 35, 24, 19, 23, 23, 36, 46, 38, 27, 48, 53, 47, 50, 32, 40, 41, 47, 45, 44, 49, 45, 41, 29, 46, 19, 56, 55, 29, 38, 52, 20, 31, 39, 35, 45, 61, 18, 51, 37, 48, 62, 21, 28, 19, 41, 47, 43, 20, 29, 40, 26, 68, 41, 43, 20, 43, 53, 45, 39, 31, 23, 37, 41, 23, 26, 37, 33, 37, 31, 27, 35, 59, 42, 50, 27, 43, 46, 41, 57, 46, 45, 29, 23, 46, 55, 58, 29, 57, 42, 61, 31, 43, 47, 51, 23, 25, 22, 38, 33, 46, 52, 46, 28, 37, 45, 56, 38, 81, 42, 66, 50, 31, 33, 37, 50, 55, 39, 34, 60, 58, 27, 63, 23, 49, 45, 42, 48, 33, 24, 49, 40, 57, 46, 35, 20, 42, 46, 54, 28, 38, 22, 31, 27, 45, 38, 75, 37, 34, 25, 27, 35, 27, 42, 23, 38, 28, 56, 23, 48, 45, 38, 24, 47, 45, 24, 40, 28, 32, 20, 23, 46, 59, 31, 34, 19, 20, 29, 54, 36, 43, 46, 33, 36, 37, 37, 64, 45, 28, 23, 46, 32, 26, 33, 60, 39, 45, 29, 53, 46, 20, 38, 36, 29, 64, 34, 36, 68, 37, 22, 43, 36, 47, 33, 33, 48, 28, 33, 44, 33, 22, 34, 31, 38, 36, 29, 64, 24, 28, 18, 41, 17, 58, 50, 30, 47, 24, 50, 29, 31, 40, 53, 43, 50, 27, 20, 25, 30, 38, 67, 35, 75, 23, 42, 39, 41, 45, 61, 41, 22, 55, 66, 25, 67, 44, 42, 29, 40, 26, 52, 41, 27, 59, 19, 32, 39, 33, 38, 27, 59, 25, 37, 31, 26, 59, 28, 22, 20, 27, 20, 43, 27, 40, 50, 60, 24, 24, 45, 58, 22, 41, 48, 31, 33, 49, 30, 38, 58, 61, 58, 32, 33, 35, 59, 45, 50, 36, 18, 28, 42, 60, 41, 42, 36, 52, 42, 26, 35, 19, 38, 36, 39, 64, 49, 26, 66, 38, 30, 22, 60, 54, 46, 33, 43, 60, 39, 40, 48, 24, 32, 31, 39, 45, 31, 45, 50, 33, 22, 27, 29, 60, 46, 23, 38, 60, 37, 58, 25, 33, 21, 45, 44, 52, 53, 18, 32, 48, 46, 28, 27, 69, 50, 52, 50, 58, 46, 40, 25, 33, 49, 56, 23, 22, 35, 42, 22, 32, 25, 26, 46, 55, 24, 25, 31, 54, 47, 29, 53, 50, 21, 60, 31, 24, 47, 39, 27, 36, 54, 42, 52, 23, 33, 35, 27, 24, 44, 45, 75, 47, 64, 54, 41, 33, 51, 45, 18, 43, 30, 45, 21, 56, 28, 55, 27, 33, 43, 18, 35, 19, 39, 29, 45, 44, 42, 34, 52, 18, 64, 30, 43, 49, 35, 37, 49, 22, 31, 26, 44, 33, 18, 28, 30, 33, 36, 36, 25, 21, 51, 38, 36, 41, 19, 36, 46, 29, 35, 35, 40, 22, 70, 38, 35, 39, 50, 43, 37, 51, 20, 17, 25, 46, 42, 46, 49, 21, 43, 22, 40, 50, 48, 30, 34, 42, 48, 38, 29, 33, 64, 42, 49, 25, 38, 44, 45, 27, 18, 38, 45, 27, 66, 45, 42, 32, 26, 27, 23, 47, 46, 55, 36, 38, 37, 81, 25, 30, 65, 18, 26, 30, 61, 21, 53, 43, 47, 48, 31, 33, 27, 44, 37, 34, 51, 51, 25, 29, 36, 31, 31, 30, 37, 30, 27, 32, 23, 35, 45, 27, 46, 42, 33, 46, 24, 50, 48, 55, 66, 63, 61, 64, 35, 58, 58, 33, 27, 30, 22, 49, 46, 17, 45, 26, 44, 36, 47, 32, 35, 37, 36, 34, 24, 31, 38, 30, 35, 28, 47, 49, 33, 44, 18, 60, 44, 81, 35, 58, 32, 40, 44, 33, 42, 27, 62, 31, 50, 50, 46, 66, 41, 42, 51, 45, 60, 39, 46, 58, 21, 41, 29, 33, 42, 24, 59, 36, 54, 39, 42, 54, 50, 42, 34, 41, 44, 34, 26, 37, 64, 48, 44, 32, 42, 33, 47, 62, 62, 38, 33, 17, 58, 34, 32, 19, 41, 52, 48, 18, 25, 56, 55, 32, 41, 53, 21, 29, 73, 43, 45, 38, 49, 41, 27, 64, 41, 37, 61, 40, 20, 52, 50, 33, 40, 45, 24, 54, 43, 63, 19, 49, 27, 60, 71, 34, 30, 46, 32, 25, 25, 32, 51, 20, 40, 19, 53, 42, 38, 41, 64, 30, 20, 20, 35, 33, 43, 48, 33, 50, 23, 36, 37, 43, 38, 42, 47, 44, 28, 51, 49, 62, 23, 66, 37, 69, 38, 37, 38, 37, 23, 48, 55, 35, 35, 53, 43, 36, 45, 36, 22, 19, 33, 64, 47, 45, 45, 27, 41, 20, 54, 50, 31, 49, 44, 49, 28, 43, 25, 30, 48, 61, 41, 36, 24, 27, 18, 23, 43, 28, 47, 51, 35, 38, 47, 31, 45, 46, 70, 46, 20, 43, 37, 40, 24, 31, 59, 40, 30, 28, 25, 21, 67, 54, 36, 29, 55, 19, 40, 71, 51, 27, 20, 28, 36, 31, 19, 38, 36, 17, 35, 32, 42, 36, 58, 39, 51, 26, 21, 45, 26, 68, 60, 65, 34, 28, 57, 37, 34, 57, 55, 51, 56, 32, 18, 48, 46, 41, 33, 33, 47, 42, 31, 51, 63, 52, 30, 34, 31, 38, 43, 18, 36, 43, 26, 54, 65, 41, 50, 36, 48, 35, 37, 32, 29, 41, 38, 54, 36, 33, 69, 50, 40, 31, 28, 43, 62, 21, 37, 74, 43, 23, 51, 35, 69, 32, 66, 31, 32, 21, 62, 24, 45, 27, 38, 30, 17, 17, 21, 56, 50, 55, 55, 72, 38, 44, 51, 20, 64, 34, 74, 44, 23, 34, 50, 47, 50, 34, 51, 56, 33, 43, 60, 22, 23, 54, 39, 32, 20, 30, 56, 34, 32, 59, 19, 29, 24, 41, 32, 51, 18, 29, 25, 31, 34, 66, 41, 62, 58, 47, 19, 32, 25, 60, 22, 20, 42, 18, 28, 40, 52, 37, 35, 45, 54, 59, 39, 18, 46, 24, 22, 61, 56, 17, 29, 28, 39, 30, 20, 18, 54, 49, 33, 50, 57, 45, 41, 23, 39, 29, 46, 18, 68, 62, 43, 35, 21, 61, 24, 21, 36, 69, 55, 21, 18, 26, 46, 23, 48, 36, 42, 41, 52, 27, 36, 34, 38, 21, 33, 31, 61, 46, 55, 19, 39, 61, 28, 28, 61, 61, 54, 50, 34, 64, 29, 41, 45, 48, 34, 40, 45, 51, 24, 57, 34, 36, 56, 45, 38, 29, 54, 40, 29, 35, 28, 58, 46, 57, 22, 28, 17, 23, 19, 38, 39, 47, 39, 22, 36, 32, 29, 43, 51, 42, 34, 51, 38, 21, 34, 32, 38, 27, 35, 29, 40, 46, 38, 37, 44, 25, 38, 50, 46, 20, 47, 46, 34, 61, 36, 22, 33, 43, 55, 20, 38, 30, 21, 60, 43, 36, 57, 25, 22, 23, 28, 49, 37, 38, 27, 57, 22, 38, 40, 44, 57, 41, 50, 33, 29, 28, 35, 36, 30, 35, 27, 22, 24, 47, 47, 18, 31, 45, 39, 30, 30, 36, 20, 61, 27, 59, 60, 35, 40, 20, 47, 40, 20, 75, 47, 34, 23, 29, 17, 39, 34, 20, 52, 22, 35, 40, 51, 34, 24, 41, 64, 23, 29, 28, 33, 35, 42, 51, 37, 45, 52, 63, 72, 35, 35, 70, 65, 53, 49, 60, 18, 21, 42, 32, 25, 47, 38, 34, 52, 23, 29, 45, 45, 30, 45, 26, 23, 43, 42, 57, 24, 27, 54, 42, 17, 48, 41, 57, 44, 49, 42, 18, 18, 25, 41, 39, 63, 27, 39, 20, 70, 46, 47, 35, 24, 22, 60, 53, 34, 37, 35, 29, 23, 31, 18, 38, 52, 23, 48, 46, 26, 47, 65, 31, 68, 42, 49, 39, 31, 28, 62, 21, 60, 30, 41, 25, 27, 40, 58, 27, 31, 50, 45, 33, 62, 38, 42, 49, 53, 45, 38, 25, 51, 38, 29, 36, 57, 24, 29, 67, 20, 21, 20, 42, 19, 34, 43, 34, 33, 47, 41, 40, 28, 62, 28, 54, 22, 18, 52, 41, 21, 46, 57, 22, 33, 17, 45, 30, 40, 31, 42, 53, 37, 46, 32, 17, 42, 37, 29, 54, 38, 46, 24, 57, 59, 33, 53, 26, 55, 44, 30, 24, 67, 56, 26, 52, 38, 31, 53, 27, 22, 37, 20, 60, 59, 37, 43, 17, 45, 18, 20, 34, 17, 30, 18, 22, 39, 38, 38, 34, 28, 41, 61, 75, 50, 49, 26, 39, 24, 56, 17, 37, 57, 42, 22, 39, 41, 43, 35, 34, 33, 49, 69, 41, 63, 75, 34, 69, 45, 43, 26, 35, 48, 57, 21, 28, 51, 34, 41, 26, 40, 44, 41, 41, 55, 43, 51, 31, 30, 31, 18, 33, 34, 40, 40, 29, 29, 43, 19, 35, 28, 34, 61, 47, 31, 18, 29, 59, 50, 49, 60, 35, 48, 21, 41, 56, 26, 23, 58, 61, 29, 22, 43, 31, 90, 22, 55, 28, 38, 60, 34, 72, 57, 39, 50, 45, 37, 27, 20, 50, 22, 46, 22, 59, 57, 26, 52, 47, 19, 26, 42, 39, 26, 50, 46, 18, 26, 32, 47, 25, 42, 53, 23, 23, 32, 29, 40, 45, 55, 59, 56, 23, 37, 25, 22, 47, 38, 27, 25, 22, 33, 28, 29, 30, 65, 28, 39, 35, 25, 56, 46, 56, 51, 17, 30, 41, 35, 27, 25, 53, 26, 41, 28, 48, 22, 40, 52, 40, 57, 53, 31, 20, 50, 34, 37, 52, 29, 49, 47, 51, 23, 55, 28, 30, 23, 19, 22, 64, 21, 75, 29, 47, 20, 33, 45, 23, 38, 67, 21, 38, 31, 59, 36, 50, 60, 30, 28, 36, 27, 44, 56, 51, 48, 31, 35, 35, 36, 47, 23, 51, 46, 31, 27, 56, 48, 29, 18, 37, 51, 31, 29, 39, 48, 44, 39, 22, 42, 27, 60, 36, 45, 40, 63, 41, 34, 49, 43, 36, 27, 52, 29, 27, 24, 22, 30, 28, 20, 45, 43, 53, 74, 39, 33, 49, 21, 65, 39, 49, 47, 46, 29, 44, 37, 45, 51, 26, 54, 20, 29, 24, 36, 60, 42, 42, 27, 27, 52, 31, 50, 59, 39, 23, 38, 31, 24, 46, 38, 39, 44, 46, 30, 24, 62, 25, 45, 21, 64, 39, 60, 35, 27, 41, 32, 24, 32, 42, 23, 31, 19, 61, 39, 25, 58, 27, 51, 43, 67, 50, 20, 57, 42, 67, 47, 30, 51, 24, 70, 35, 61, 26, 64, 39, 23, 33, 31, 28, 50, 51, 34, 37, 29, 24, 44, 24, 54, 30, 39, 70, 41, 44, 42, 29, 30, 59, 21, 26, 57, 59, 87, 25, 39, 53, 38, 17, 23, 30, 51, 54, 60, 28, 39, 55, 33, 40, 30, 40, 18, 49, 42, 28, 32, 35, 23, 27, 27, 41, 31, 64, 45, 22, 69, 40, 45, 47, 34, 48, 39, 28, 41, 49, 24, 35, 22, 42, 34, 32, 54, 38, 22, 42, 31, 57, 44, 42, 24, 38, 29, 38, 49, 51, 21, 29, 54, 52, 23, 43, 45, 51, 73, 61, 40, 32, 35, 42, 46, 33, 47, 33, 28, 29, 33, 33, 57, 40, 36, 52, 24, 28, 48, 36, 55, 27, 22, 29, 28, 26, 72, 59, 37, 27, 39, 25, 18, 25, 36, 52, 20, 25, 26, 48, 39, 30, 26, 36, 49, 34, 28, 28, 42, 26, 54, 66, 61, 45, 27, 53, 57, 41, 45, 43, 29, 65, 31, 52, 18, 57, 63, 29, 32, 34, 39, 28, 28, 40, 25, 54, 48, 67, 24, 25, 41, 51, 41, 27, 41, 51, 34, 43, 31, 34, 43, 52, 37, 60, 21, 34, 40, 26, 46, 58, 32, 90, 38, 20, 43, 36, 36, 30, 45, 51, 29, 35, 56, 64, 62, 33, 22, 44, 37, 34, 30, 50, 25, 34, 50, 72, 60, 41, 71, 52, 30, 40, 31, 44, 38, 46, 57, 39, 43, 44, 35, 18, 25, 44, 39, 61, 19, 45, 26, 61, 36, 62, 36, 38, 54, 31, 26, 50, 52, 46, 32, 30, 58, 36, 31, 52, 29, 48, 30, 58, 20, 19, 51, 54, 26, 44, 80, 55, 43, 49, 27, 42, 39, 36, 63, 49, 36, 46, 47, 39, 33, 43, 30, 27, 80, 31, 34, 28, 55, 42, 67, 43, 19, 51, 21, 42, 28, 82, 40, 35, 24, 27, 40, 27, 34, 18, 34, 44, 39, 58, 49, 61, 27, 59, 41, 35, 36, 21, 38, 59, 59, 38, 22, 47, 59, 37, 34, 35, 55, 18, 48, 27, 32, 62, 18, 50, 38, 18, 46, 26, 55, 40, 29, 60, 45, 43, 47, 47, 50, 22, 49, 41, 68, 44, 32, 49, 47, 35, 37, 57, 45, 36, 33, 27, 32, 53, 44, 43, 47, 37, 43, 50, 25, 40, 39, 41, 32, 26, 30, 34, 42, 45, 22, 25, 22, 46, 48, 45, 19, 31, 30, 40, 60, 25, 51, 32, 51, 42, 39, 24, 58, 43, 31, 28, 31, 61, 46, 62, 23, 46, 53, 53, 50, 26, 44, 36, 35, 70, 57, 40, 18, 45, 52, 24, 42, 28, 56, 32, 59, 21, 32, 49, 51, 33, 23, 34, 44, 55, 57, 59, 26, 45, 37, 21, 36, 37, 65, 59, 32, 25, 40, 21, 49, 48, 42, 53, 29, 54, 66, 39, 62, 30, 25, 26, 45, 26, 26, 45, 20, 48, 33, 44, 32, 54, 40, 56, 47, 46, 24, 37, 49, 44, 21, 55, 48, 38, 48, 39, 52, 50, 47, 33, 24, 39, 31, 42, 22, 34, 23, 38, 45, 19, 37, 59, 36, 35, 25, 41, 40, 34, 44, 31, 41, 43, 58, 43, 50, 44, 46, 52, 52, 34, 23, 68, 41, 41, 67, 27, 25, 28, 51, 33, 53, 35, 31, 22, 55, 45, 37, 28, 37, 50, 51, 40, 47, 44, 30, 41, 47, 26, 34, 47, 21, 45, 33, 33, 31, 32, 35, 43, 49, 42, 31, 51, 51, 39, 30, 27, 32, 37, 47, 31, 42, 60, 42, 38, 24, 34, 29, 36, 50, 17, 54, 26, 54, 21, 24, 41, 50, 32, 49, 61, 65, 45, 59, 34, 24, 42, 37, 36, 21, 34, 41, 18, 26, 23, 34, 37, 54, 32, 42, 48, 28, 31, 28, 24, 26, 37, 24, 23, 49, 75, 74, 26, 18, 33, 44, 53, 60, 28, 36, 45, 23, 34, 46, 58, 63, 41, 45, 41, 90, 41, 22, 53, 49, 51, 59, 28, 25, 62, 28, 62, 32, 47, 60, 55, 18, 43, 31, 22, 24, 42, 53, 42, 48, 33, 33, 30, 31, 26, 61, 45, 57, 33, 36, 35, 20, 61, 36, 41, 25, 37, 19, 66, 23, 30, 53, 25, 51, 17, 61, 44, 38, 32, 46, 36, 30, 33, 36, 85, 48, 58, 45, 37, 55, 39, 28, 34, 36, 22, 35, 49, 21, 41, 32, 51, 32, 61, 60, 42, 82, 26, 18, 57, 25, 34, 71, 35, 47, 33, 38, 50, 39, 20, 40, 66, 36, 57, 46, 33, 58, 30, 32, 22, 34, 54, 22, 30, 71, 72, 43, 65, 43, 32, 43, 32, 53, 22, 40, 22], \"x0\": \" \", \"xaxis\": \"x\", \"y0\": \" \", \"yaxis\": \"y\"}],\n",
              "                        {\"boxmode\": \"group\", \"height\": 300, \"legend\": {\"tracegroupgap\": 0}, \"template\": {\"data\": {\"bar\": [{\"error_x\": {\"color\": \"#2a3f5f\"}, \"error_y\": {\"color\": \"#2a3f5f\"}, \"marker\": {\"line\": {\"color\": \"#E5ECF6\", \"width\": 0.5}}, \"type\": \"bar\"}], \"barpolar\": [{\"marker\": {\"line\": {\"color\": \"#E5ECF6\", \"width\": 0.5}}, \"type\": \"barpolar\"}], \"carpet\": [{\"aaxis\": {\"endlinecolor\": \"#2a3f5f\", \"gridcolor\": \"white\", \"linecolor\": \"white\", \"minorgridcolor\": \"white\", \"startlinecolor\": \"#2a3f5f\"}, \"baxis\": {\"endlinecolor\": \"#2a3f5f\", \"gridcolor\": \"white\", \"linecolor\": \"white\", \"minorgridcolor\": \"white\", \"startlinecolor\": \"#2a3f5f\"}, \"type\": \"carpet\"}], \"choropleth\": [{\"colorbar\": {\"outlinewidth\": 0, \"ticks\": \"\"}, \"type\": \"choropleth\"}], \"contour\": [{\"colorbar\": {\"outlinewidth\": 0, \"ticks\": \"\"}, \"colorscale\": [[0.0, \"#0d0887\"], [0.1111111111111111, \"#46039f\"], [0.2222222222222222, \"#7201a8\"], [0.3333333333333333, \"#9c179e\"], [0.4444444444444444, \"#bd3786\"], [0.5555555555555556, \"#d8576b\"], [0.6666666666666666, \"#ed7953\"], [0.7777777777777778, \"#fb9f3a\"], [0.8888888888888888, \"#fdca26\"], [1.0, \"#f0f921\"]], \"type\": \"contour\"}], \"contourcarpet\": [{\"colorbar\": {\"outlinewidth\": 0, \"ticks\": \"\"}, \"type\": \"contourcarpet\"}], \"heatmap\": [{\"colorbar\": {\"outlinewidth\": 0, \"ticks\": \"\"}, \"colorscale\": [[0.0, \"#0d0887\"], [0.1111111111111111, \"#46039f\"], [0.2222222222222222, \"#7201a8\"], [0.3333333333333333, \"#9c179e\"], [0.4444444444444444, \"#bd3786\"], [0.5555555555555556, \"#d8576b\"], [0.6666666666666666, \"#ed7953\"], [0.7777777777777778, \"#fb9f3a\"], [0.8888888888888888, \"#fdca26\"], [1.0, \"#f0f921\"]], \"type\": \"heatmap\"}], \"heatmapgl\": [{\"colorbar\": {\"outlinewidth\": 0, \"ticks\": \"\"}, \"colorscale\": [[0.0, \"#0d0887\"], [0.1111111111111111, \"#46039f\"], [0.2222222222222222, \"#7201a8\"], [0.3333333333333333, \"#9c179e\"], [0.4444444444444444, \"#bd3786\"], [0.5555555555555556, \"#d8576b\"], [0.6666666666666666, \"#ed7953\"], [0.7777777777777778, \"#fb9f3a\"], [0.8888888888888888, \"#fdca26\"], [1.0, \"#f0f921\"]], \"type\": \"heatmapgl\"}], \"histogram\": [{\"marker\": {\"colorbar\": {\"outlinewidth\": 0, \"ticks\": \"\"}}, \"type\": \"histogram\"}], \"histogram2d\": [{\"colorbar\": {\"outlinewidth\": 0, \"ticks\": \"\"}, \"colorscale\": [[0.0, \"#0d0887\"], [0.1111111111111111, \"#46039f\"], [0.2222222222222222, \"#7201a8\"], [0.3333333333333333, \"#9c179e\"], [0.4444444444444444, \"#bd3786\"], [0.5555555555555556, \"#d8576b\"], [0.6666666666666666, \"#ed7953\"], [0.7777777777777778, \"#fb9f3a\"], [0.8888888888888888, \"#fdca26\"], [1.0, \"#f0f921\"]], \"type\": \"histogram2d\"}], \"histogram2dcontour\": [{\"colorbar\": {\"outlinewidth\": 0, \"ticks\": \"\"}, \"colorscale\": [[0.0, \"#0d0887\"], [0.1111111111111111, \"#46039f\"], [0.2222222222222222, \"#7201a8\"], [0.3333333333333333, \"#9c179e\"], [0.4444444444444444, \"#bd3786\"], [0.5555555555555556, \"#d8576b\"], [0.6666666666666666, \"#ed7953\"], [0.7777777777777778, \"#fb9f3a\"], [0.8888888888888888, \"#fdca26\"], [1.0, \"#f0f921\"]], \"type\": \"histogram2dcontour\"}], \"mesh3d\": [{\"colorbar\": {\"outlinewidth\": 0, \"ticks\": \"\"}, \"type\": \"mesh3d\"}], \"parcoords\": [{\"line\": {\"colorbar\": {\"outlinewidth\": 0, \"ticks\": \"\"}}, \"type\": \"parcoords\"}], \"pie\": [{\"automargin\": true, \"type\": \"pie\"}], \"scatter\": [{\"marker\": {\"colorbar\": {\"outlinewidth\": 0, \"ticks\": \"\"}}, \"type\": \"scatter\"}], \"scatter3d\": [{\"line\": {\"colorbar\": {\"outlinewidth\": 0, \"ticks\": \"\"}}, \"marker\": {\"colorbar\": {\"outlinewidth\": 0, \"ticks\": \"\"}}, \"type\": \"scatter3d\"}], \"scattercarpet\": [{\"marker\": {\"colorbar\": {\"outlinewidth\": 0, \"ticks\": \"\"}}, \"type\": \"scattercarpet\"}], \"scattergeo\": [{\"marker\": {\"colorbar\": {\"outlinewidth\": 0, \"ticks\": \"\"}}, \"type\": \"scattergeo\"}], \"scattergl\": [{\"marker\": {\"colorbar\": {\"outlinewidth\": 0, \"ticks\": \"\"}}, \"type\": \"scattergl\"}], \"scattermapbox\": [{\"marker\": {\"colorbar\": {\"outlinewidth\": 0, \"ticks\": \"\"}}, \"type\": \"scattermapbox\"}], \"scatterpolar\": [{\"marker\": {\"colorbar\": {\"outlinewidth\": 0, \"ticks\": \"\"}}, \"type\": \"scatterpolar\"}], \"scatterpolargl\": [{\"marker\": {\"colorbar\": {\"outlinewidth\": 0, \"ticks\": \"\"}}, \"type\": \"scatterpolargl\"}], \"scatterternary\": [{\"marker\": {\"colorbar\": {\"outlinewidth\": 0, \"ticks\": \"\"}}, \"type\": \"scatterternary\"}], \"surface\": [{\"colorbar\": {\"outlinewidth\": 0, \"ticks\": \"\"}, \"colorscale\": [[0.0, \"#0d0887\"], [0.1111111111111111, \"#46039f\"], [0.2222222222222222, \"#7201a8\"], [0.3333333333333333, \"#9c179e\"], [0.4444444444444444, \"#bd3786\"], [0.5555555555555556, \"#d8576b\"], [0.6666666666666666, \"#ed7953\"], [0.7777777777777778, \"#fb9f3a\"], [0.8888888888888888, \"#fdca26\"], [1.0, \"#f0f921\"]], \"type\": \"surface\"}], \"table\": [{\"cells\": {\"fill\": {\"color\": \"#EBF0F8\"}, \"line\": {\"color\": \"white\"}}, \"header\": {\"fill\": {\"color\": \"#C8D4E3\"}, \"line\": {\"color\": \"white\"}}, \"type\": \"table\"}]}, \"layout\": {\"annotationdefaults\": {\"arrowcolor\": \"#2a3f5f\", \"arrowhead\": 0, \"arrowwidth\": 1}, \"coloraxis\": {\"colorbar\": {\"outlinewidth\": 0, \"ticks\": \"\"}}, \"colorscale\": {\"diverging\": [[0, \"#8e0152\"], [0.1, \"#c51b7d\"], [0.2, \"#de77ae\"], [0.3, \"#f1b6da\"], [0.4, \"#fde0ef\"], [0.5, \"#f7f7f7\"], [0.6, \"#e6f5d0\"], [0.7, \"#b8e186\"], [0.8, \"#7fbc41\"], [0.9, \"#4d9221\"], [1, \"#276419\"]], \"sequential\": [[0.0, \"#0d0887\"], [0.1111111111111111, \"#46039f\"], [0.2222222222222222, \"#7201a8\"], [0.3333333333333333, \"#9c179e\"], [0.4444444444444444, \"#bd3786\"], [0.5555555555555556, \"#d8576b\"], [0.6666666666666666, \"#ed7953\"], [0.7777777777777778, \"#fb9f3a\"], [0.8888888888888888, \"#fdca26\"], [1.0, \"#f0f921\"]], \"sequentialminus\": [[0.0, \"#0d0887\"], [0.1111111111111111, \"#46039f\"], [0.2222222222222222, \"#7201a8\"], [0.3333333333333333, \"#9c179e\"], [0.4444444444444444, \"#bd3786\"], [0.5555555555555556, \"#d8576b\"], [0.6666666666666666, \"#ed7953\"], [0.7777777777777778, \"#fb9f3a\"], [0.8888888888888888, \"#fdca26\"], [1.0, \"#f0f921\"]]}, \"colorway\": [\"#636efa\", \"#EF553B\", \"#00cc96\", \"#ab63fa\", \"#FFA15A\", \"#19d3f3\", \"#FF6692\", \"#B6E880\", \"#FF97FF\", \"#FECB52\"], \"font\": {\"color\": \"#2a3f5f\"}, \"geo\": {\"bgcolor\": \"white\", \"lakecolor\": \"white\", \"landcolor\": \"#E5ECF6\", \"showlakes\": true, \"showland\": true, \"subunitcolor\": \"white\"}, \"hoverlabel\": {\"align\": \"left\"}, \"hovermode\": \"closest\", \"mapbox\": {\"style\": \"light\"}, \"paper_bgcolor\": \"white\", \"plot_bgcolor\": \"#E5ECF6\", \"polar\": {\"angularaxis\": {\"gridcolor\": \"white\", \"linecolor\": \"white\", \"ticks\": \"\"}, \"bgcolor\": \"#E5ECF6\", \"radialaxis\": {\"gridcolor\": \"white\", \"linecolor\": \"white\", \"ticks\": \"\"}}, \"scene\": {\"xaxis\": {\"backgroundcolor\": \"#E5ECF6\", \"gridcolor\": \"white\", \"gridwidth\": 2, \"linecolor\": \"white\", \"showbackground\": true, \"ticks\": \"\", \"zerolinecolor\": \"white\"}, \"yaxis\": {\"backgroundcolor\": \"#E5ECF6\", \"gridcolor\": \"white\", \"gridwidth\": 2, \"linecolor\": \"white\", \"showbackground\": true, \"ticks\": \"\", \"zerolinecolor\": \"white\"}, \"zaxis\": {\"backgroundcolor\": \"#E5ECF6\", \"gridcolor\": \"white\", \"gridwidth\": 2, \"linecolor\": \"white\", \"showbackground\": true, \"ticks\": \"\", \"zerolinecolor\": \"white\"}}, \"shapedefaults\": {\"line\": {\"color\": \"#2a3f5f\"}}, \"ternary\": {\"aaxis\": {\"gridcolor\": \"white\", \"linecolor\": \"white\", \"ticks\": \"\"}, \"baxis\": {\"gridcolor\": \"white\", \"linecolor\": \"white\", \"ticks\": \"\"}, \"bgcolor\": \"#E5ECF6\", \"caxis\": {\"gridcolor\": \"white\", \"linecolor\": \"white\", \"ticks\": \"\"}}, \"title\": {\"x\": 0.05}, \"xaxis\": {\"automargin\": true, \"gridcolor\": \"white\", \"linecolor\": \"white\", \"ticks\": \"\", \"title\": {\"standoff\": 15}, \"zerolinecolor\": \"white\", \"zerolinewidth\": 2}, \"yaxis\": {\"automargin\": true, \"gridcolor\": \"white\", \"linecolor\": \"white\", \"ticks\": \"\", \"title\": {\"standoff\": 15}, \"zerolinecolor\": \"white\", \"zerolinewidth\": 2}}}, \"title\": {\"text\": \"Age analysis of men\"}, \"xaxis\": {\"anchor\": \"y\", \"domain\": [0.0, 1.0], \"title\": {\"text\": \"age\"}}, \"yaxis\": {\"anchor\": \"x\", \"domain\": [0.0, 1.0]}},\n",
              "                        {\"responsive\": true}\n",
              "                    ).then(function(){\n",
              "                            \n",
              "var gd = document.getElementById('15de6fe9-d4b9-4230-85b1-0b040a5d6497');\n",
              "var x = new MutationObserver(function (mutations, observer) {{\n",
              "        var display = window.getComputedStyle(gd).display;\n",
              "        if (!display || display === 'none') {{\n",
              "            console.log([gd, 'removed!']);\n",
              "            Plotly.purge(gd);\n",
              "            observer.disconnect();\n",
              "        }}\n",
              "}});\n",
              "\n",
              "// Listen for the removal of the full notebook cells\n",
              "var notebookContainer = gd.closest('#notebook-container');\n",
              "if (notebookContainer) {{\n",
              "    x.observe(notebookContainer, {childList: true});\n",
              "}}\n",
              "\n",
              "// Listen for the clearing of the current output cell\n",
              "var outputEl = gd.closest('.output');\n",
              "if (outputEl) {{\n",
              "    x.observe(outputEl, {childList: true});\n",
              "}}\n",
              "\n",
              "                        })\n",
              "                };\n",
              "                \n",
              "            </script>\n",
              "        </div>\n",
              "</body>\n",
              "</html>"
            ]
          },
          "metadata": {
            "tags": []
          }
        }
      ]
    },
    {
      "cell_type": "markdown",
      "metadata": {
        "id": "WeW_3OOFhjju"
      },
      "source": [
        "## What is the percentage of people who have a Bachelor's degree?"
      ]
    },
    {
      "cell_type": "code",
      "metadata": {
        "colab": {
          "base_uri": "https://localhost:8080/",
          "height": 37
        },
        "id": "9Cce7tB6hnJg",
        "outputId": "b7b166ab-bd0e-4df8-d679-6292b127fd97"
      },
      "source": [
        "# First I did value_counts(with normalize) for column 'education'\n",
        "# Then I chose only value for 'Bachelors'\n",
        "# Result rounded to second place\n",
        "percentage_bachelors = round((data.education.value_counts(normalize=True).Bachelors)*100,2) \n",
        "\n",
        "print(f\"Percentage with Bachelors degrees: {percentage_bachelors}%\")"
      ],
      "execution_count": 229,
      "outputs": [
        {
          "output_type": "display_data",
          "data": {
            "application/javascript": [
              "\n",
              "  for (rule of document.styleSheets[0].cssRules){\n",
              "    if (rule.selectorText=='body') {\n",
              "      rule.style.fontSize = '30px'\n",
              "      break\n",
              "    }\n",
              "  }\n",
              "  "
            ],
            "text/plain": [
              "<IPython.core.display.Javascript object>"
            ]
          },
          "metadata": {
            "tags": []
          }
        },
        {
          "output_type": "display_data",
          "data": {
            "application/javascript": [
              "\n",
              "  for (rule of document.styleSheets[0].cssRules){\n",
              "    if (rule.selectorText=='body') {\n",
              "      rule.style.fontSize = '30px'\n",
              "      break\n",
              "    }\n",
              "  }\n",
              "  "
            ],
            "text/plain": [
              "<IPython.core.display.Javascript object>"
            ]
          },
          "metadata": {
            "tags": []
          }
        },
        {
          "output_type": "display_data",
          "data": {
            "application/javascript": [
              "\n",
              "  for (rule of document.styleSheets[0].cssRules){\n",
              "    if (rule.selectorText=='body') {\n",
              "      rule.style.fontSize = '18px'\n",
              "      break\n",
              "    }\n",
              "  }\n",
              "  "
            ],
            "text/plain": [
              "<IPython.core.display.Javascript object>"
            ]
          },
          "metadata": {
            "tags": []
          }
        },
        {
          "output_type": "display_data",
          "data": {
            "application/javascript": [
              "\n",
              "  for (rule of document.styleSheets[0].cssRules){\n",
              "    if (rule.selectorText=='body') {\n",
              "      rule.style.fontSize = '16px'\n",
              "      break\n",
              "    }\n",
              "  }\n",
              "  "
            ],
            "text/plain": [
              "<IPython.core.display.Javascript object>"
            ]
          },
          "metadata": {
            "tags": []
          }
        },
        {
          "output_type": "display_data",
          "data": {
            "application/javascript": [
              "\n",
              "  for (rule of document.styleSheets[0].cssRules){\n",
              "    if (rule.selectorText=='body') {\n",
              "      rule.style.fontSize = '16px'\n",
              "      break\n",
              "    }\n",
              "  }\n",
              "  "
            ],
            "text/plain": [
              "<IPython.core.display.Javascript object>"
            ]
          },
          "metadata": {
            "tags": []
          }
        },
        {
          "output_type": "display_data",
          "data": {
            "application/javascript": [
              "\n",
              "  for (rule of document.styleSheets[0].cssRules){\n",
              "    if (rule.selectorText=='body') {\n",
              "      rule.style.fontSize = '16px'\n",
              "      break\n",
              "    }\n",
              "  }\n",
              "  "
            ],
            "text/plain": [
              "<IPython.core.display.Javascript object>"
            ]
          },
          "metadata": {
            "tags": []
          }
        },
        {
          "output_type": "stream",
          "text": [
            "Percentage with Bachelors degrees: 16.45%\n"
          ],
          "name": "stdout"
        }
      ]
    },
    {
      "cell_type": "code",
      "metadata": {
        "colab": {
          "base_uri": "https://localhost:8080/",
          "height": 542
        },
        "id": "ZlJDhkTdhr4N",
        "outputId": "f5d6b110-a912-47f3-f0f0-36eb0c38cfbe"
      },
      "source": [
        "# Plotly\n",
        "\n",
        "fig = px.pie(\n",
        "    data,\n",
        "    values=data[['education']].value_counts(),\n",
        "    names=data['education'].value_counts().index,\n",
        "    title=\"What is the percentage of people who have a Bachelor's degree?\"\n",
        ")\n",
        "\n",
        "fig.show()"
      ],
      "execution_count": 230,
      "outputs": [
        {
          "output_type": "display_data",
          "data": {
            "application/javascript": [
              "\n",
              "  for (rule of document.styleSheets[0].cssRules){\n",
              "    if (rule.selectorText=='body') {\n",
              "      rule.style.fontSize = '30px'\n",
              "      break\n",
              "    }\n",
              "  }\n",
              "  "
            ],
            "text/plain": [
              "<IPython.core.display.Javascript object>"
            ]
          },
          "metadata": {
            "tags": []
          }
        },
        {
          "output_type": "display_data",
          "data": {
            "application/javascript": [
              "\n",
              "  for (rule of document.styleSheets[0].cssRules){\n",
              "    if (rule.selectorText=='body') {\n",
              "      rule.style.fontSize = '30px'\n",
              "      break\n",
              "    }\n",
              "  }\n",
              "  "
            ],
            "text/plain": [
              "<IPython.core.display.Javascript object>"
            ]
          },
          "metadata": {
            "tags": []
          }
        },
        {
          "output_type": "display_data",
          "data": {
            "application/javascript": [
              "\n",
              "  for (rule of document.styleSheets[0].cssRules){\n",
              "    if (rule.selectorText=='body') {\n",
              "      rule.style.fontSize = '18px'\n",
              "      break\n",
              "    }\n",
              "  }\n",
              "  "
            ],
            "text/plain": [
              "<IPython.core.display.Javascript object>"
            ]
          },
          "metadata": {
            "tags": []
          }
        },
        {
          "output_type": "display_data",
          "data": {
            "application/javascript": [
              "\n",
              "  for (rule of document.styleSheets[0].cssRules){\n",
              "    if (rule.selectorText=='body') {\n",
              "      rule.style.fontSize = '16px'\n",
              "      break\n",
              "    }\n",
              "  }\n",
              "  "
            ],
            "text/plain": [
              "<IPython.core.display.Javascript object>"
            ]
          },
          "metadata": {
            "tags": []
          }
        },
        {
          "output_type": "display_data",
          "data": {
            "application/javascript": [
              "\n",
              "  for (rule of document.styleSheets[0].cssRules){\n",
              "    if (rule.selectorText=='body') {\n",
              "      rule.style.fontSize = '16px'\n",
              "      break\n",
              "    }\n",
              "  }\n",
              "  "
            ],
            "text/plain": [
              "<IPython.core.display.Javascript object>"
            ]
          },
          "metadata": {
            "tags": []
          }
        },
        {
          "output_type": "display_data",
          "data": {
            "application/javascript": [
              "\n",
              "  for (rule of document.styleSheets[0].cssRules){\n",
              "    if (rule.selectorText=='body') {\n",
              "      rule.style.fontSize = '16px'\n",
              "      break\n",
              "    }\n",
              "  }\n",
              "  "
            ],
            "text/plain": [
              "<IPython.core.display.Javascript object>"
            ]
          },
          "metadata": {
            "tags": []
          }
        },
        {
          "output_type": "display_data",
          "data": {
            "text/html": [
              "<html>\n",
              "<head><meta charset=\"utf-8\" /></head>\n",
              "<body>\n",
              "    <div>\n",
              "            <script src=\"https://cdnjs.cloudflare.com/ajax/libs/mathjax/2.7.5/MathJax.js?config=TeX-AMS-MML_SVG\"></script><script type=\"text/javascript\">if (window.MathJax) {MathJax.Hub.Config({SVG: {font: \"STIX-Web\"}});}</script>\n",
              "                <script type=\"text/javascript\">window.PlotlyConfig = {MathJaxConfig: 'local'};</script>\n",
              "        <script src=\"https://cdn.plot.ly/plotly-latest.min.js\"></script>    \n",
              "            <div id=\"6137d59b-c91c-49bc-a177-0173c99796b8\" class=\"plotly-graph-div\" style=\"height:525px; width:100%;\"></div>\n",
              "            <script type=\"text/javascript\">\n",
              "                \n",
              "                    window.PLOTLYENV=window.PLOTLYENV || {};\n",
              "                    \n",
              "                if (document.getElementById(\"6137d59b-c91c-49bc-a177-0173c99796b8\")) {\n",
              "                    Plotly.newPlot(\n",
              "                        '6137d59b-c91c-49bc-a177-0173c99796b8',\n",
              "                        [{\"domain\": {\"x\": [0.0, 1.0], \"y\": [0.0, 1.0]}, \"hoverlabel\": {\"namelength\": 0}, \"hovertemplate\": \"label=%{label}<br>value=%{value}\", \"labels\": [\"HS-grad\", \"Some-college\", \"Bachelors\", \"Masters\", \"Assoc-voc\", \"11th\", \"Assoc-acdm\", \"10th\", \"7th-8th\", \"Prof-school\", \"9th\", \"12th\", \"Doctorate\", \"5th-6th\", \"1st-4th\", \"Preschool\"], \"legendgroup\": \"\", \"name\": \"\", \"showlegend\": true, \"type\": \"pie\", \"values\": [10501, 7291, 5355, 1723, 1382, 1175, 1067, 933, 646, 576, 514, 433, 413, 333, 168, 51]}],\n",
              "                        {\"legend\": {\"tracegroupgap\": 0}, \"template\": {\"data\": {\"bar\": [{\"error_x\": {\"color\": \"#2a3f5f\"}, \"error_y\": {\"color\": \"#2a3f5f\"}, \"marker\": {\"line\": {\"color\": \"#E5ECF6\", \"width\": 0.5}}, \"type\": \"bar\"}], \"barpolar\": [{\"marker\": {\"line\": {\"color\": \"#E5ECF6\", \"width\": 0.5}}, \"type\": \"barpolar\"}], \"carpet\": [{\"aaxis\": {\"endlinecolor\": \"#2a3f5f\", \"gridcolor\": \"white\", \"linecolor\": \"white\", \"minorgridcolor\": \"white\", \"startlinecolor\": \"#2a3f5f\"}, \"baxis\": {\"endlinecolor\": \"#2a3f5f\", \"gridcolor\": \"white\", \"linecolor\": \"white\", \"minorgridcolor\": \"white\", \"startlinecolor\": \"#2a3f5f\"}, \"type\": \"carpet\"}], \"choropleth\": [{\"colorbar\": {\"outlinewidth\": 0, \"ticks\": \"\"}, \"type\": \"choropleth\"}], \"contour\": [{\"colorbar\": {\"outlinewidth\": 0, \"ticks\": \"\"}, \"colorscale\": [[0.0, \"#0d0887\"], [0.1111111111111111, \"#46039f\"], [0.2222222222222222, \"#7201a8\"], [0.3333333333333333, \"#9c179e\"], [0.4444444444444444, \"#bd3786\"], [0.5555555555555556, \"#d8576b\"], [0.6666666666666666, \"#ed7953\"], [0.7777777777777778, \"#fb9f3a\"], [0.8888888888888888, \"#fdca26\"], [1.0, \"#f0f921\"]], \"type\": \"contour\"}], \"contourcarpet\": [{\"colorbar\": {\"outlinewidth\": 0, \"ticks\": \"\"}, \"type\": \"contourcarpet\"}], \"heatmap\": [{\"colorbar\": {\"outlinewidth\": 0, \"ticks\": \"\"}, \"colorscale\": [[0.0, \"#0d0887\"], [0.1111111111111111, \"#46039f\"], [0.2222222222222222, \"#7201a8\"], [0.3333333333333333, \"#9c179e\"], [0.4444444444444444, \"#bd3786\"], [0.5555555555555556, \"#d8576b\"], [0.6666666666666666, \"#ed7953\"], [0.7777777777777778, \"#fb9f3a\"], [0.8888888888888888, \"#fdca26\"], [1.0, \"#f0f921\"]], \"type\": \"heatmap\"}], \"heatmapgl\": [{\"colorbar\": {\"outlinewidth\": 0, \"ticks\": \"\"}, \"colorscale\": [[0.0, \"#0d0887\"], [0.1111111111111111, \"#46039f\"], [0.2222222222222222, \"#7201a8\"], [0.3333333333333333, \"#9c179e\"], [0.4444444444444444, \"#bd3786\"], [0.5555555555555556, \"#d8576b\"], [0.6666666666666666, \"#ed7953\"], [0.7777777777777778, \"#fb9f3a\"], [0.8888888888888888, \"#fdca26\"], [1.0, \"#f0f921\"]], \"type\": \"heatmapgl\"}], \"histogram\": [{\"marker\": {\"colorbar\": {\"outlinewidth\": 0, \"ticks\": \"\"}}, \"type\": \"histogram\"}], \"histogram2d\": [{\"colorbar\": {\"outlinewidth\": 0, \"ticks\": \"\"}, \"colorscale\": [[0.0, \"#0d0887\"], [0.1111111111111111, \"#46039f\"], [0.2222222222222222, \"#7201a8\"], [0.3333333333333333, \"#9c179e\"], [0.4444444444444444, \"#bd3786\"], [0.5555555555555556, \"#d8576b\"], [0.6666666666666666, \"#ed7953\"], [0.7777777777777778, \"#fb9f3a\"], [0.8888888888888888, \"#fdca26\"], [1.0, \"#f0f921\"]], \"type\": \"histogram2d\"}], \"histogram2dcontour\": [{\"colorbar\": {\"outlinewidth\": 0, \"ticks\": \"\"}, \"colorscale\": [[0.0, \"#0d0887\"], [0.1111111111111111, \"#46039f\"], [0.2222222222222222, \"#7201a8\"], [0.3333333333333333, \"#9c179e\"], [0.4444444444444444, \"#bd3786\"], [0.5555555555555556, \"#d8576b\"], [0.6666666666666666, \"#ed7953\"], [0.7777777777777778, \"#fb9f3a\"], [0.8888888888888888, \"#fdca26\"], [1.0, \"#f0f921\"]], \"type\": \"histogram2dcontour\"}], \"mesh3d\": [{\"colorbar\": {\"outlinewidth\": 0, \"ticks\": \"\"}, \"type\": \"mesh3d\"}], \"parcoords\": [{\"line\": {\"colorbar\": {\"outlinewidth\": 0, \"ticks\": \"\"}}, \"type\": \"parcoords\"}], \"pie\": [{\"automargin\": true, \"type\": \"pie\"}], \"scatter\": [{\"marker\": {\"colorbar\": {\"outlinewidth\": 0, \"ticks\": \"\"}}, \"type\": \"scatter\"}], \"scatter3d\": [{\"line\": {\"colorbar\": {\"outlinewidth\": 0, \"ticks\": \"\"}}, \"marker\": {\"colorbar\": {\"outlinewidth\": 0, \"ticks\": \"\"}}, \"type\": \"scatter3d\"}], \"scattercarpet\": [{\"marker\": {\"colorbar\": {\"outlinewidth\": 0, \"ticks\": \"\"}}, \"type\": \"scattercarpet\"}], \"scattergeo\": [{\"marker\": {\"colorbar\": {\"outlinewidth\": 0, \"ticks\": \"\"}}, \"type\": \"scattergeo\"}], \"scattergl\": [{\"marker\": {\"colorbar\": {\"outlinewidth\": 0, \"ticks\": \"\"}}, \"type\": \"scattergl\"}], \"scattermapbox\": [{\"marker\": {\"colorbar\": {\"outlinewidth\": 0, \"ticks\": \"\"}}, \"type\": \"scattermapbox\"}], \"scatterpolar\": [{\"marker\": {\"colorbar\": {\"outlinewidth\": 0, \"ticks\": \"\"}}, \"type\": \"scatterpolar\"}], \"scatterpolargl\": [{\"marker\": {\"colorbar\": {\"outlinewidth\": 0, \"ticks\": \"\"}}, \"type\": \"scatterpolargl\"}], \"scatterternary\": [{\"marker\": {\"colorbar\": {\"outlinewidth\": 0, \"ticks\": \"\"}}, \"type\": \"scatterternary\"}], \"surface\": [{\"colorbar\": {\"outlinewidth\": 0, \"ticks\": \"\"}, \"colorscale\": [[0.0, \"#0d0887\"], [0.1111111111111111, \"#46039f\"], [0.2222222222222222, \"#7201a8\"], [0.3333333333333333, \"#9c179e\"], [0.4444444444444444, \"#bd3786\"], [0.5555555555555556, \"#d8576b\"], [0.6666666666666666, \"#ed7953\"], [0.7777777777777778, \"#fb9f3a\"], [0.8888888888888888, \"#fdca26\"], [1.0, \"#f0f921\"]], \"type\": \"surface\"}], \"table\": [{\"cells\": {\"fill\": {\"color\": \"#EBF0F8\"}, \"line\": {\"color\": \"white\"}}, \"header\": {\"fill\": {\"color\": \"#C8D4E3\"}, \"line\": {\"color\": \"white\"}}, \"type\": \"table\"}]}, \"layout\": {\"annotationdefaults\": {\"arrowcolor\": \"#2a3f5f\", \"arrowhead\": 0, \"arrowwidth\": 1}, \"coloraxis\": {\"colorbar\": {\"outlinewidth\": 0, \"ticks\": \"\"}}, \"colorscale\": {\"diverging\": [[0, \"#8e0152\"], [0.1, \"#c51b7d\"], [0.2, \"#de77ae\"], [0.3, \"#f1b6da\"], [0.4, \"#fde0ef\"], [0.5, \"#f7f7f7\"], [0.6, \"#e6f5d0\"], [0.7, \"#b8e186\"], [0.8, \"#7fbc41\"], [0.9, \"#4d9221\"], [1, \"#276419\"]], \"sequential\": [[0.0, \"#0d0887\"], [0.1111111111111111, \"#46039f\"], [0.2222222222222222, \"#7201a8\"], [0.3333333333333333, \"#9c179e\"], [0.4444444444444444, \"#bd3786\"], [0.5555555555555556, \"#d8576b\"], [0.6666666666666666, \"#ed7953\"], [0.7777777777777778, \"#fb9f3a\"], [0.8888888888888888, \"#fdca26\"], [1.0, \"#f0f921\"]], \"sequentialminus\": [[0.0, \"#0d0887\"], [0.1111111111111111, \"#46039f\"], [0.2222222222222222, \"#7201a8\"], [0.3333333333333333, \"#9c179e\"], [0.4444444444444444, \"#bd3786\"], [0.5555555555555556, \"#d8576b\"], [0.6666666666666666, \"#ed7953\"], [0.7777777777777778, \"#fb9f3a\"], [0.8888888888888888, \"#fdca26\"], [1.0, \"#f0f921\"]]}, \"colorway\": [\"#636efa\", \"#EF553B\", \"#00cc96\", \"#ab63fa\", \"#FFA15A\", \"#19d3f3\", \"#FF6692\", \"#B6E880\", \"#FF97FF\", \"#FECB52\"], \"font\": {\"color\": \"#2a3f5f\"}, \"geo\": {\"bgcolor\": \"white\", \"lakecolor\": \"white\", \"landcolor\": \"#E5ECF6\", \"showlakes\": true, \"showland\": true, \"subunitcolor\": \"white\"}, \"hoverlabel\": {\"align\": \"left\"}, \"hovermode\": \"closest\", \"mapbox\": {\"style\": \"light\"}, \"paper_bgcolor\": \"white\", \"plot_bgcolor\": \"#E5ECF6\", \"polar\": {\"angularaxis\": {\"gridcolor\": \"white\", \"linecolor\": \"white\", \"ticks\": \"\"}, \"bgcolor\": \"#E5ECF6\", \"radialaxis\": {\"gridcolor\": \"white\", \"linecolor\": \"white\", \"ticks\": \"\"}}, \"scene\": {\"xaxis\": {\"backgroundcolor\": \"#E5ECF6\", \"gridcolor\": \"white\", \"gridwidth\": 2, \"linecolor\": \"white\", \"showbackground\": true, \"ticks\": \"\", \"zerolinecolor\": \"white\"}, \"yaxis\": {\"backgroundcolor\": \"#E5ECF6\", \"gridcolor\": \"white\", \"gridwidth\": 2, \"linecolor\": \"white\", \"showbackground\": true, \"ticks\": \"\", \"zerolinecolor\": \"white\"}, \"zaxis\": {\"backgroundcolor\": \"#E5ECF6\", \"gridcolor\": \"white\", \"gridwidth\": 2, \"linecolor\": \"white\", \"showbackground\": true, \"ticks\": \"\", \"zerolinecolor\": \"white\"}}, \"shapedefaults\": {\"line\": {\"color\": \"#2a3f5f\"}}, \"ternary\": {\"aaxis\": {\"gridcolor\": \"white\", \"linecolor\": \"white\", \"ticks\": \"\"}, \"baxis\": {\"gridcolor\": \"white\", \"linecolor\": \"white\", \"ticks\": \"\"}, \"bgcolor\": \"#E5ECF6\", \"caxis\": {\"gridcolor\": \"white\", \"linecolor\": \"white\", \"ticks\": \"\"}}, \"title\": {\"x\": 0.05}, \"xaxis\": {\"automargin\": true, \"gridcolor\": \"white\", \"linecolor\": \"white\", \"ticks\": \"\", \"title\": {\"standoff\": 15}, \"zerolinecolor\": \"white\", \"zerolinewidth\": 2}, \"yaxis\": {\"automargin\": true, \"gridcolor\": \"white\", \"linecolor\": \"white\", \"ticks\": \"\", \"title\": {\"standoff\": 15}, \"zerolinecolor\": \"white\", \"zerolinewidth\": 2}}}, \"title\": {\"text\": \"What is the percentage of people who have a Bachelor's degree?\"}},\n",
              "                        {\"responsive\": true}\n",
              "                    ).then(function(){\n",
              "                            \n",
              "var gd = document.getElementById('6137d59b-c91c-49bc-a177-0173c99796b8');\n",
              "var x = new MutationObserver(function (mutations, observer) {{\n",
              "        var display = window.getComputedStyle(gd).display;\n",
              "        if (!display || display === 'none') {{\n",
              "            console.log([gd, 'removed!']);\n",
              "            Plotly.purge(gd);\n",
              "            observer.disconnect();\n",
              "        }}\n",
              "}});\n",
              "\n",
              "// Listen for the removal of the full notebook cells\n",
              "var notebookContainer = gd.closest('#notebook-container');\n",
              "if (notebookContainer) {{\n",
              "    x.observe(notebookContainer, {childList: true});\n",
              "}}\n",
              "\n",
              "// Listen for the clearing of the current output cell\n",
              "var outputEl = gd.closest('.output');\n",
              "if (outputEl) {{\n",
              "    x.observe(outputEl, {childList: true});\n",
              "}}\n",
              "\n",
              "                        })\n",
              "                };\n",
              "                \n",
              "            </script>\n",
              "        </div>\n",
              "</body>\n",
              "</html>"
            ]
          },
          "metadata": {
            "tags": []
          }
        }
      ]
    },
    {
      "cell_type": "markdown",
      "metadata": {
        "id": "Abn4W_oRhwsO"
      },
      "source": [
        "## Education and salary"
      ]
    },
    {
      "cell_type": "markdown",
      "metadata": {
        "id": "c-hH8u-siHVP"
      },
      "source": [
        "### What percentage of people with advanced education (`Bachelors`, `Masters`, or `Doctorate`) make more than 50K?"
      ]
    },
    {
      "cell_type": "code",
      "metadata": {
        "colab": {
          "base_uri": "https://localhost:8080/",
          "height": 37
        },
        "id": "408CpohsiM4W",
        "outputId": "5d16db2a-ddc4-4f14-fea8-fe2a148a7dbb"
      },
      "source": [
        "# First, I create mask, which extract rows with 'Bachelors', 'Masters', ans 'Doctorate'\n",
        "higher_education = ( (data['education'] == 'Doctorate')\n",
        "                    | (data['education'] == 'Bachelors') \n",
        "                    | (data['education'] == 'Masters'))\n",
        "\n",
        "# I used this mask and then I did value_counts(with normalize)\n",
        "# Next I chose only row with index '>50K' and rounded its value\n",
        "higher_education_rich = round((\n",
        "            data[higher_education].salary.value_counts(normalize=True)['>50K']\n",
        "                )*100 ,2)\n",
        "\n",
        "print(f\"Percentage of people with higher education that earn >50K: {higher_education_rich}%\")"
      ],
      "execution_count": 232,
      "outputs": [
        {
          "output_type": "display_data",
          "data": {
            "application/javascript": [
              "\n",
              "  for (rule of document.styleSheets[0].cssRules){\n",
              "    if (rule.selectorText=='body') {\n",
              "      rule.style.fontSize = '30px'\n",
              "      break\n",
              "    }\n",
              "  }\n",
              "  "
            ],
            "text/plain": [
              "<IPython.core.display.Javascript object>"
            ]
          },
          "metadata": {
            "tags": []
          }
        },
        {
          "output_type": "display_data",
          "data": {
            "application/javascript": [
              "\n",
              "  for (rule of document.styleSheets[0].cssRules){\n",
              "    if (rule.selectorText=='body') {\n",
              "      rule.style.fontSize = '30px'\n",
              "      break\n",
              "    }\n",
              "  }\n",
              "  "
            ],
            "text/plain": [
              "<IPython.core.display.Javascript object>"
            ]
          },
          "metadata": {
            "tags": []
          }
        },
        {
          "output_type": "display_data",
          "data": {
            "application/javascript": [
              "\n",
              "  for (rule of document.styleSheets[0].cssRules){\n",
              "    if (rule.selectorText=='body') {\n",
              "      rule.style.fontSize = '18px'\n",
              "      break\n",
              "    }\n",
              "  }\n",
              "  "
            ],
            "text/plain": [
              "<IPython.core.display.Javascript object>"
            ]
          },
          "metadata": {
            "tags": []
          }
        },
        {
          "output_type": "display_data",
          "data": {
            "application/javascript": [
              "\n",
              "  for (rule of document.styleSheets[0].cssRules){\n",
              "    if (rule.selectorText=='body') {\n",
              "      rule.style.fontSize = '16px'\n",
              "      break\n",
              "    }\n",
              "  }\n",
              "  "
            ],
            "text/plain": [
              "<IPython.core.display.Javascript object>"
            ]
          },
          "metadata": {
            "tags": []
          }
        },
        {
          "output_type": "display_data",
          "data": {
            "application/javascript": [
              "\n",
              "  for (rule of document.styleSheets[0].cssRules){\n",
              "    if (rule.selectorText=='body') {\n",
              "      rule.style.fontSize = '16px'\n",
              "      break\n",
              "    }\n",
              "  }\n",
              "  "
            ],
            "text/plain": [
              "<IPython.core.display.Javascript object>"
            ]
          },
          "metadata": {
            "tags": []
          }
        },
        {
          "output_type": "display_data",
          "data": {
            "application/javascript": [
              "\n",
              "  for (rule of document.styleSheets[0].cssRules){\n",
              "    if (rule.selectorText=='body') {\n",
              "      rule.style.fontSize = '16px'\n",
              "      break\n",
              "    }\n",
              "  }\n",
              "  "
            ],
            "text/plain": [
              "<IPython.core.display.Javascript object>"
            ]
          },
          "metadata": {
            "tags": []
          }
        },
        {
          "output_type": "stream",
          "text": [
            "Percentage of people with higher education that earn >50K: 46.54%\n"
          ],
          "name": "stdout"
        }
      ]
    },
    {
      "cell_type": "markdown",
      "metadata": {
        "id": "a7IBTkD0iPyy"
      },
      "source": [
        "### What percentage of people without advanced education make more than 50K?"
      ]
    },
    {
      "cell_type": "code",
      "metadata": {
        "colab": {
          "base_uri": "https://localhost:8080/",
          "height": 37
        },
        "id": "Wxr_CeqriVtd",
        "outputId": "7f766c75-5491-408a-8e42-73cc87c38ede"
      },
      "source": [
        "# Lower education is just not higher education\n",
        "lower_education = ~higher_education \n",
        "\n",
        "# The same as for higher education\n",
        "lower_education_rich = round((\n",
        "            data[lower_education].salary.value_counts(normalize=True)['>50K']\n",
        "                )*100 ,2)\n",
        "\n",
        "print(f\"Percentage without higher education that earn >50K: {lower_education_rich}%\")"
      ],
      "execution_count": 233,
      "outputs": [
        {
          "output_type": "display_data",
          "data": {
            "application/javascript": [
              "\n",
              "  for (rule of document.styleSheets[0].cssRules){\n",
              "    if (rule.selectorText=='body') {\n",
              "      rule.style.fontSize = '30px'\n",
              "      break\n",
              "    }\n",
              "  }\n",
              "  "
            ],
            "text/plain": [
              "<IPython.core.display.Javascript object>"
            ]
          },
          "metadata": {
            "tags": []
          }
        },
        {
          "output_type": "display_data",
          "data": {
            "application/javascript": [
              "\n",
              "  for (rule of document.styleSheets[0].cssRules){\n",
              "    if (rule.selectorText=='body') {\n",
              "      rule.style.fontSize = '30px'\n",
              "      break\n",
              "    }\n",
              "  }\n",
              "  "
            ],
            "text/plain": [
              "<IPython.core.display.Javascript object>"
            ]
          },
          "metadata": {
            "tags": []
          }
        },
        {
          "output_type": "display_data",
          "data": {
            "application/javascript": [
              "\n",
              "  for (rule of document.styleSheets[0].cssRules){\n",
              "    if (rule.selectorText=='body') {\n",
              "      rule.style.fontSize = '18px'\n",
              "      break\n",
              "    }\n",
              "  }\n",
              "  "
            ],
            "text/plain": [
              "<IPython.core.display.Javascript object>"
            ]
          },
          "metadata": {
            "tags": []
          }
        },
        {
          "output_type": "display_data",
          "data": {
            "application/javascript": [
              "\n",
              "  for (rule of document.styleSheets[0].cssRules){\n",
              "    if (rule.selectorText=='body') {\n",
              "      rule.style.fontSize = '16px'\n",
              "      break\n",
              "    }\n",
              "  }\n",
              "  "
            ],
            "text/plain": [
              "<IPython.core.display.Javascript object>"
            ]
          },
          "metadata": {
            "tags": []
          }
        },
        {
          "output_type": "display_data",
          "data": {
            "application/javascript": [
              "\n",
              "  for (rule of document.styleSheets[0].cssRules){\n",
              "    if (rule.selectorText=='body') {\n",
              "      rule.style.fontSize = '16px'\n",
              "      break\n",
              "    }\n",
              "  }\n",
              "  "
            ],
            "text/plain": [
              "<IPython.core.display.Javascript object>"
            ]
          },
          "metadata": {
            "tags": []
          }
        },
        {
          "output_type": "display_data",
          "data": {
            "application/javascript": [
              "\n",
              "  for (rule of document.styleSheets[0].cssRules){\n",
              "    if (rule.selectorText=='body') {\n",
              "      rule.style.fontSize = '16px'\n",
              "      break\n",
              "    }\n",
              "  }\n",
              "  "
            ],
            "text/plain": [
              "<IPython.core.display.Javascript object>"
            ]
          },
          "metadata": {
            "tags": []
          }
        },
        {
          "output_type": "stream",
          "text": [
            "Percentage without higher education that earn >50K: 17.37%\n"
          ],
          "name": "stdout"
        }
      ]
    },
    {
      "cell_type": "markdown",
      "metadata": {
        "id": "I2ZX0bnIo873"
      },
      "source": [
        "### Visualisation"
      ]
    },
    {
      "cell_type": "code",
      "metadata": {
        "colab": {
          "base_uri": "https://localhost:8080/",
          "height": 398
        },
        "id": "OsbMP3zKo7uW",
        "outputId": "b8b682ae-9314-4bbe-d044-01cd0400599d"
      },
      "source": [
        "# Seaborn\n",
        "\n",
        "# For this visualisation I had to rebuild dataset to other form\n",
        "\n",
        "# First let's do a copy\n",
        "data_visualisation = data.copy()\n",
        "\n",
        "# In new dataset we add column 'type-education' \n",
        "# with values \"Higher education\" and \"Lower education\"\n",
        "# based on a column 'education'\n",
        "data_visualisation['type-education'] = np.where(\n",
        "    ((data_visualisation['education'] == \"Doctorate\") \n",
        "    | (data_visualisation['education'] == \"Bachelors\") \n",
        "    | (data_visualisation['education'] == \"Masters\")),\n",
        "    \"Higher education\",\n",
        "    \"Lower education\"\n",
        ")\n",
        "\n",
        "# Abracadabra\n",
        "data_visualisation = (data_visualisation\n",
        "    # We group dataset by column 'type-education'\n",
        "    .groupby('type-education')['salary']\n",
        "    # At the same time, we count values with normalize \n",
        "    # In column 'salary', for each group\n",
        "    .value_counts(normalize=True)\n",
        "    # Now we have small grouped dataset with values from value_counts\n",
        "    # But now it will be difficult to visualize our dataset\n",
        "    # So we unsack column salary into two columns\n",
        "    .unstack()\n",
        "    # And then back to form with one column salary\n",
        "    # But now, values from value_counts is other column\n",
        "    .melt(ignore_index=False)\n",
        "    # And now we can reset index to have columns \n",
        "    # With salary and type education\n",
        "    # Insted of Multiindex with them\n",
        "    .reset_index())\n",
        "\n",
        "# Finally we can create chart\n",
        "sns.set_theme(style=\"whitegrid\")\n",
        "\n",
        "g = sns.catplot(\n",
        "    data=data_visualisation,\n",
        "    x='type-education',\n",
        "    y='value',\n",
        "    hue='salary',\n",
        "    kind='bar',\n",
        "    palette=\"dark\",\n",
        "    alpha=.6,\n",
        ")\n",
        "\n",
        "g.despine(left=True)\n",
        "g.set(title='Salary relative to education')\n",
        "g.set_axis_labels(\"Type of education\", \"Percentages\")\n",
        "g.legend.set_title(\"Salary\")\n",
        "\n",
        "plt.show()"
      ],
      "execution_count": 234,
      "outputs": [
        {
          "output_type": "display_data",
          "data": {
            "application/javascript": [
              "\n",
              "  for (rule of document.styleSheets[0].cssRules){\n",
              "    if (rule.selectorText=='body') {\n",
              "      rule.style.fontSize = '30px'\n",
              "      break\n",
              "    }\n",
              "  }\n",
              "  "
            ],
            "text/plain": [
              "<IPython.core.display.Javascript object>"
            ]
          },
          "metadata": {
            "tags": []
          }
        },
        {
          "output_type": "display_data",
          "data": {
            "application/javascript": [
              "\n",
              "  for (rule of document.styleSheets[0].cssRules){\n",
              "    if (rule.selectorText=='body') {\n",
              "      rule.style.fontSize = '30px'\n",
              "      break\n",
              "    }\n",
              "  }\n",
              "  "
            ],
            "text/plain": [
              "<IPython.core.display.Javascript object>"
            ]
          },
          "metadata": {
            "tags": []
          }
        },
        {
          "output_type": "display_data",
          "data": {
            "application/javascript": [
              "\n",
              "  for (rule of document.styleSheets[0].cssRules){\n",
              "    if (rule.selectorText=='body') {\n",
              "      rule.style.fontSize = '18px'\n",
              "      break\n",
              "    }\n",
              "  }\n",
              "  "
            ],
            "text/plain": [
              "<IPython.core.display.Javascript object>"
            ]
          },
          "metadata": {
            "tags": []
          }
        },
        {
          "output_type": "display_data",
          "data": {
            "application/javascript": [
              "\n",
              "  for (rule of document.styleSheets[0].cssRules){\n",
              "    if (rule.selectorText=='body') {\n",
              "      rule.style.fontSize = '16px'\n",
              "      break\n",
              "    }\n",
              "  }\n",
              "  "
            ],
            "text/plain": [
              "<IPython.core.display.Javascript object>"
            ]
          },
          "metadata": {
            "tags": []
          }
        },
        {
          "output_type": "display_data",
          "data": {
            "application/javascript": [
              "\n",
              "  for (rule of document.styleSheets[0].cssRules){\n",
              "    if (rule.selectorText=='body') {\n",
              "      rule.style.fontSize = '16px'\n",
              "      break\n",
              "    }\n",
              "  }\n",
              "  "
            ],
            "text/plain": [
              "<IPython.core.display.Javascript object>"
            ]
          },
          "metadata": {
            "tags": []
          }
        },
        {
          "output_type": "display_data",
          "data": {
            "application/javascript": [
              "\n",
              "  for (rule of document.styleSheets[0].cssRules){\n",
              "    if (rule.selectorText=='body') {\n",
              "      rule.style.fontSize = '16px'\n",
              "      break\n",
              "    }\n",
              "  }\n",
              "  "
            ],
            "text/plain": [
              "<IPython.core.display.Javascript object>"
            ]
          },
          "metadata": {
            "tags": []
          }
        },
        {
          "output_type": "display_data",
          "data": {
            "image/png": "[encoded data removed]",
            "text/plain": [
              "<Figure size 439.1x360 with 1 Axes>"
            ]
          },
          "metadata": {
            "tags": []
          }
        }
      ]
    },
    {
      "cell_type": "markdown",
      "metadata": {
        "id": "_kaCcU2JiaPF"
      },
      "source": [
        "## Payout percentage distribution of people working the minimum number of hours"
      ]
    },
    {
      "cell_type": "markdown",
      "metadata": {
        "id": "LpjSQDHOjFl_"
      },
      "source": [
        "### What is the minimum number of hours a person works per week (hours-per-week feature)?"
      ]
    },
    {
      "cell_type": "code",
      "metadata": {
        "colab": {
          "base_uri": "https://localhost:8080/",
          "height": 37
        },
        "id": "u13Z0vYWjIPn",
        "outputId": "2868a926-3de0-4a5f-e260-fe82a7ad3e7a"
      },
      "source": [
        "# Simply minimum value from column 'hours-per-week'\n",
        "min_work_hours = data['hours-per-week'].min()\n",
        "\n",
        "print(f\"Min work time: {min_work_hours} hours/week\")"
      ],
      "execution_count": 235,
      "outputs": [
        {
          "output_type": "display_data",
          "data": {
            "application/javascript": [
              "\n",
              "  for (rule of document.styleSheets[0].cssRules){\n",
              "    if (rule.selectorText=='body') {\n",
              "      rule.style.fontSize = '30px'\n",
              "      break\n",
              "    }\n",
              "  }\n",
              "  "
            ],
            "text/plain": [
              "<IPython.core.display.Javascript object>"
            ]
          },
          "metadata": {
            "tags": []
          }
        },
        {
          "output_type": "display_data",
          "data": {
            "application/javascript": [
              "\n",
              "  for (rule of document.styleSheets[0].cssRules){\n",
              "    if (rule.selectorText=='body') {\n",
              "      rule.style.fontSize = '30px'\n",
              "      break\n",
              "    }\n",
              "  }\n",
              "  "
            ],
            "text/plain": [
              "<IPython.core.display.Javascript object>"
            ]
          },
          "metadata": {
            "tags": []
          }
        },
        {
          "output_type": "display_data",
          "data": {
            "application/javascript": [
              "\n",
              "  for (rule of document.styleSheets[0].cssRules){\n",
              "    if (rule.selectorText=='body') {\n",
              "      rule.style.fontSize = '18px'\n",
              "      break\n",
              "    }\n",
              "  }\n",
              "  "
            ],
            "text/plain": [
              "<IPython.core.display.Javascript object>"
            ]
          },
          "metadata": {
            "tags": []
          }
        },
        {
          "output_type": "display_data",
          "data": {
            "application/javascript": [
              "\n",
              "  for (rule of document.styleSheets[0].cssRules){\n",
              "    if (rule.selectorText=='body') {\n",
              "      rule.style.fontSize = '16px'\n",
              "      break\n",
              "    }\n",
              "  }\n",
              "  "
            ],
            "text/plain": [
              "<IPython.core.display.Javascript object>"
            ]
          },
          "metadata": {
            "tags": []
          }
        },
        {
          "output_type": "display_data",
          "data": {
            "application/javascript": [
              "\n",
              "  for (rule of document.styleSheets[0].cssRules){\n",
              "    if (rule.selectorText=='body') {\n",
              "      rule.style.fontSize = '16px'\n",
              "      break\n",
              "    }\n",
              "  }\n",
              "  "
            ],
            "text/plain": [
              "<IPython.core.display.Javascript object>"
            ]
          },
          "metadata": {
            "tags": []
          }
        },
        {
          "output_type": "display_data",
          "data": {
            "application/javascript": [
              "\n",
              "  for (rule of document.styleSheets[0].cssRules){\n",
              "    if (rule.selectorText=='body') {\n",
              "      rule.style.fontSize = '16px'\n",
              "      break\n",
              "    }\n",
              "  }\n",
              "  "
            ],
            "text/plain": [
              "<IPython.core.display.Javascript object>"
            ]
          },
          "metadata": {
            "tags": []
          }
        },
        {
          "output_type": "stream",
          "text": [
            "Min work time: 1 hours/week\n"
          ],
          "name": "stdout"
        }
      ]
    },
    {
      "cell_type": "markdown",
      "metadata": {
        "id": "pX3xFt1gjK5v"
      },
      "source": [
        "### What percentage of the people who work the minimum number of hours per week have a salary of >50K?"
      ]
    },
    {
      "cell_type": "code",
      "metadata": {
        "colab": {
          "base_uri": "https://localhost:8080/",
          "height": 37
        },
        "id": "I-DIujpDjM_f",
        "outputId": "2439d118-a54b-440d-f8e3-db52a3c4164a"
      },
      "source": [
        "# First, I extract rows with the minimum number of hours  \n",
        "num_min_workers = data[data['hours-per-week'] == min_work_hours]\n",
        "\n",
        "# value_counts(Normalize=True) returns percentage of people who have >50K salary from above data \n",
        "# I choose only value from row with '>50K' and round it to second place\n",
        "rich_percentage = round((num_min_workers.salary.value_counts(normalize=True)['>50K'])*100,2)\n",
        "\n",
        "print(f\"Percentage of rich among those who work fewest hours: {rich_percentage}%\")"
      ],
      "execution_count": 236,
      "outputs": [
        {
          "output_type": "display_data",
          "data": {
            "application/javascript": [
              "\n",
              "  for (rule of document.styleSheets[0].cssRules){\n",
              "    if (rule.selectorText=='body') {\n",
              "      rule.style.fontSize = '30px'\n",
              "      break\n",
              "    }\n",
              "  }\n",
              "  "
            ],
            "text/plain": [
              "<IPython.core.display.Javascript object>"
            ]
          },
          "metadata": {
            "tags": []
          }
        },
        {
          "output_type": "display_data",
          "data": {
            "application/javascript": [
              "\n",
              "  for (rule of document.styleSheets[0].cssRules){\n",
              "    if (rule.selectorText=='body') {\n",
              "      rule.style.fontSize = '30px'\n",
              "      break\n",
              "    }\n",
              "  }\n",
              "  "
            ],
            "text/plain": [
              "<IPython.core.display.Javascript object>"
            ]
          },
          "metadata": {
            "tags": []
          }
        },
        {
          "output_type": "display_data",
          "data": {
            "application/javascript": [
              "\n",
              "  for (rule of document.styleSheets[0].cssRules){\n",
              "    if (rule.selectorText=='body') {\n",
              "      rule.style.fontSize = '18px'\n",
              "      break\n",
              "    }\n",
              "  }\n",
              "  "
            ],
            "text/plain": [
              "<IPython.core.display.Javascript object>"
            ]
          },
          "metadata": {
            "tags": []
          }
        },
        {
          "output_type": "display_data",
          "data": {
            "application/javascript": [
              "\n",
              "  for (rule of document.styleSheets[0].cssRules){\n",
              "    if (rule.selectorText=='body') {\n",
              "      rule.style.fontSize = '16px'\n",
              "      break\n",
              "    }\n",
              "  }\n",
              "  "
            ],
            "text/plain": [
              "<IPython.core.display.Javascript object>"
            ]
          },
          "metadata": {
            "tags": []
          }
        },
        {
          "output_type": "display_data",
          "data": {
            "application/javascript": [
              "\n",
              "  for (rule of document.styleSheets[0].cssRules){\n",
              "    if (rule.selectorText=='body') {\n",
              "      rule.style.fontSize = '16px'\n",
              "      break\n",
              "    }\n",
              "  }\n",
              "  "
            ],
            "text/plain": [
              "<IPython.core.display.Javascript object>"
            ]
          },
          "metadata": {
            "tags": []
          }
        },
        {
          "output_type": "display_data",
          "data": {
            "application/javascript": [
              "\n",
              "  for (rule of document.styleSheets[0].cssRules){\n",
              "    if (rule.selectorText=='body') {\n",
              "      rule.style.fontSize = '16px'\n",
              "      break\n",
              "    }\n",
              "  }\n",
              "  "
            ],
            "text/plain": [
              "<IPython.core.display.Javascript object>"
            ]
          },
          "metadata": {
            "tags": []
          }
        },
        {
          "output_type": "stream",
          "text": [
            "Percentage of rich among those who work fewest hours: 10.0%\n"
          ],
          "name": "stdout"
        }
      ]
    },
    {
      "cell_type": "markdown",
      "metadata": {
        "id": "9dkZ8ajcp9PQ"
      },
      "source": [
        "### Visualisation"
      ]
    },
    {
      "cell_type": "code",
      "metadata": {
        "colab": {
          "base_uri": "https://localhost:8080/",
          "height": 362
        },
        "id": "sQCDgtlDqCoQ",
        "outputId": "ec910c3d-c6fa-4641-b7e5-39700893115e"
      },
      "source": [
        "# Plotly\n",
        "\n",
        "# I used variables from previous cells to extract dataset\n",
        "# only with people who works minimum number of hours\n",
        "# and next I count values in column 'salary' \n",
        "min_workers = round((num_min_workers.salary.value_counts(normalize=True))*100,2)\n",
        "\n",
        "# Now I can create the plot\n",
        "fig = px.bar(\n",
        "    min_workers, \n",
        "    x=min_workers.values,\n",
        "    color= min_workers.index,\n",
        "    title=\"Payout percentage distribution of people working the minimum number of hours\", \n",
        "    orientation='h', \n",
        "    height=325\n",
        ")\n",
        "\n",
        "fig.update_yaxes(domain=[0, 0.5])\n",
        "fig.update_xaxes(title='Percentages')\n",
        "\n",
        "fig.show()"
      ],
      "execution_count": 216,
      "outputs": [
        {
          "output_type": "display_data",
          "data": {
            "application/javascript": [
              "\n",
              "  for (rule of document.styleSheets[0].cssRules){\n",
              "    if (rule.selectorText=='body') {\n",
              "      rule.style.fontSize = '30px'\n",
              "      break\n",
              "    }\n",
              "  }\n",
              "  "
            ],
            "text/plain": [
              "<IPython.core.display.Javascript object>"
            ]
          },
          "metadata": {
            "tags": []
          }
        },
        {
          "output_type": "display_data",
          "data": {
            "application/javascript": [
              "\n",
              "  for (rule of document.styleSheets[0].cssRules){\n",
              "    if (rule.selectorText=='body') {\n",
              "      rule.style.fontSize = '30px'\n",
              "      break\n",
              "    }\n",
              "  }\n",
              "  "
            ],
            "text/plain": [
              "<IPython.core.display.Javascript object>"
            ]
          },
          "metadata": {
            "tags": []
          }
        },
        {
          "output_type": "display_data",
          "data": {
            "application/javascript": [
              "\n",
              "  for (rule of document.styleSheets[0].cssRules){\n",
              "    if (rule.selectorText=='body') {\n",
              "      rule.style.fontSize = '18px'\n",
              "      break\n",
              "    }\n",
              "  }\n",
              "  "
            ],
            "text/plain": [
              "<IPython.core.display.Javascript object>"
            ]
          },
          "metadata": {
            "tags": []
          }
        },
        {
          "output_type": "display_data",
          "data": {
            "application/javascript": [
              "\n",
              "  for (rule of document.styleSheets[0].cssRules){\n",
              "    if (rule.selectorText=='body') {\n",
              "      rule.style.fontSize = '16px'\n",
              "      break\n",
              "    }\n",
              "  }\n",
              "  "
            ],
            "text/plain": [
              "<IPython.core.display.Javascript object>"
            ]
          },
          "metadata": {
            "tags": []
          }
        },
        {
          "output_type": "display_data",
          "data": {
            "application/javascript": [
              "\n",
              "  for (rule of document.styleSheets[0].cssRules){\n",
              "    if (rule.selectorText=='body') {\n",
              "      rule.style.fontSize = '16px'\n",
              "      break\n",
              "    }\n",
              "  }\n",
              "  "
            ],
            "text/plain": [
              "<IPython.core.display.Javascript object>"
            ]
          },
          "metadata": {
            "tags": []
          }
        },
        {
          "output_type": "display_data",
          "data": {
            "text/html": [
              "<html>\n",
              "<head><meta charset=\"utf-8\" /></head>\n",
              "<body>\n",
              "    <div>\n",
              "            <script src=\"https://cdnjs.cloudflare.com/ajax/libs/mathjax/2.7.5/MathJax.js?config=TeX-AMS-MML_SVG\"></script><script type=\"text/javascript\">if (window.MathJax) {MathJax.Hub.Config({SVG: {font: \"STIX-Web\"}});}</script>\n",
              "                <script type=\"text/javascript\">window.PlotlyConfig = {MathJaxConfig: 'local'};</script>\n",
              "        <script src=\"https://cdn.plot.ly/plotly-latest.min.js\"></script>    \n",
              "            <div id=\"93201412-9c85-4dd6-92e5-c9a99e90256f\" class=\"plotly-graph-div\" style=\"height:325px; width:100%;\"></div>\n",
              "            <script type=\"text/javascript\">\n",
              "                \n",
              "                    window.PLOTLYENV=window.PLOTLYENV || {};\n",
              "                    \n",
              "                if (document.getElementById(\"93201412-9c85-4dd6-92e5-c9a99e90256f\")) {\n",
              "                    Plotly.newPlot(\n",
              "                        '93201412-9c85-4dd6-92e5-c9a99e90256f',\n",
              "                        [{\"alignmentgroup\": \"True\", \"hoverlabel\": {\"namelength\": 0}, \"hovertemplate\": \"color=<=50K<br>x=%{x}\", \"legendgroup\": \"color=<=50K\", \"marker\": {\"color\": \"#636efa\"}, \"name\": \"color=<=50K\", \"offsetgroup\": \"color=<=50K\", \"orientation\": \"h\", \"showlegend\": true, \"textposition\": \"auto\", \"type\": \"bar\", \"x\": [90.0], \"xaxis\": \"x\", \"yaxis\": \"y\"}, {\"alignmentgroup\": \"True\", \"hoverlabel\": {\"namelength\": 0}, \"hovertemplate\": \"color=>50K<br>x=%{x}\", \"legendgroup\": \"color=>50K\", \"marker\": {\"color\": \"#EF553B\"}, \"name\": \"color=>50K\", \"offsetgroup\": \"color=>50K\", \"orientation\": \"h\", \"showlegend\": true, \"textposition\": \"auto\", \"type\": \"bar\", \"x\": [10.0], \"xaxis\": \"x\", \"yaxis\": \"y\"}],\n",
              "                        {\"barmode\": \"relative\", \"height\": 325, \"legend\": {\"tracegroupgap\": 0}, \"template\": {\"data\": {\"bar\": [{\"error_x\": {\"color\": \"#2a3f5f\"}, \"error_y\": {\"color\": \"#2a3f5f\"}, \"marker\": {\"line\": {\"color\": \"#E5ECF6\", \"width\": 0.5}}, \"type\": \"bar\"}], \"barpolar\": [{\"marker\": {\"line\": {\"color\": \"#E5ECF6\", \"width\": 0.5}}, \"type\": \"barpolar\"}], \"carpet\": [{\"aaxis\": {\"endlinecolor\": \"#2a3f5f\", \"gridcolor\": \"white\", \"linecolor\": \"white\", \"minorgridcolor\": \"white\", \"startlinecolor\": \"#2a3f5f\"}, \"baxis\": {\"endlinecolor\": \"#2a3f5f\", \"gridcolor\": \"white\", \"linecolor\": \"white\", \"minorgridcolor\": \"white\", \"startlinecolor\": \"#2a3f5f\"}, \"type\": \"carpet\"}], \"choropleth\": [{\"colorbar\": {\"outlinewidth\": 0, \"ticks\": \"\"}, \"type\": \"choropleth\"}], \"contour\": [{\"colorbar\": {\"outlinewidth\": 0, \"ticks\": \"\"}, \"colorscale\": [[0.0, \"#0d0887\"], [0.1111111111111111, \"#46039f\"], [0.2222222222222222, \"#7201a8\"], [0.3333333333333333, \"#9c179e\"], [0.4444444444444444, \"#bd3786\"], [0.5555555555555556, \"#d8576b\"], [0.6666666666666666, \"#ed7953\"], [0.7777777777777778, \"#fb9f3a\"], [0.8888888888888888, \"#fdca26\"], [1.0, \"#f0f921\"]], \"type\": \"contour\"}], \"contourcarpet\": [{\"colorbar\": {\"outlinewidth\": 0, \"ticks\": \"\"}, \"type\": \"contourcarpet\"}], \"heatmap\": [{\"colorbar\": {\"outlinewidth\": 0, \"ticks\": \"\"}, \"colorscale\": [[0.0, \"#0d0887\"], [0.1111111111111111, \"#46039f\"], [0.2222222222222222, \"#7201a8\"], [0.3333333333333333, \"#9c179e\"], [0.4444444444444444, \"#bd3786\"], [0.5555555555555556, \"#d8576b\"], [0.6666666666666666, \"#ed7953\"], [0.7777777777777778, \"#fb9f3a\"], [0.8888888888888888, \"#fdca26\"], [1.0, \"#f0f921\"]], \"type\": \"heatmap\"}], \"heatmapgl\": [{\"colorbar\": {\"outlinewidth\": 0, \"ticks\": \"\"}, \"colorscale\": [[0.0, \"#0d0887\"], [0.1111111111111111, \"#46039f\"], [0.2222222222222222, \"#7201a8\"], [0.3333333333333333, \"#9c179e\"], [0.4444444444444444, \"#bd3786\"], [0.5555555555555556, \"#d8576b\"], [0.6666666666666666, \"#ed7953\"], [0.7777777777777778, \"#fb9f3a\"], [0.8888888888888888, \"#fdca26\"], [1.0, \"#f0f921\"]], \"type\": \"heatmapgl\"}], \"histogram\": [{\"marker\": {\"colorbar\": {\"outlinewidth\": 0, \"ticks\": \"\"}}, \"type\": \"histogram\"}], \"histogram2d\": [{\"colorbar\": {\"outlinewidth\": 0, \"ticks\": \"\"}, \"colorscale\": [[0.0, \"#0d0887\"], [0.1111111111111111, \"#46039f\"], [0.2222222222222222, \"#7201a8\"], [0.3333333333333333, \"#9c179e\"], [0.4444444444444444, \"#bd3786\"], [0.5555555555555556, \"#d8576b\"], [0.6666666666666666, \"#ed7953\"], [0.7777777777777778, \"#fb9f3a\"], [0.8888888888888888, \"#fdca26\"], [1.0, \"#f0f921\"]], \"type\": \"histogram2d\"}], \"histogram2dcontour\": [{\"colorbar\": {\"outlinewidth\": 0, \"ticks\": \"\"}, \"colorscale\": [[0.0, \"#0d0887\"], [0.1111111111111111, \"#46039f\"], [0.2222222222222222, \"#7201a8\"], [0.3333333333333333, \"#9c179e\"], [0.4444444444444444, \"#bd3786\"], [0.5555555555555556, \"#d8576b\"], [0.6666666666666666, \"#ed7953\"], [0.7777777777777778, \"#fb9f3a\"], [0.8888888888888888, \"#fdca26\"], [1.0, \"#f0f921\"]], \"type\": \"histogram2dcontour\"}], \"mesh3d\": [{\"colorbar\": {\"outlinewidth\": 0, \"ticks\": \"\"}, \"type\": \"mesh3d\"}], \"parcoords\": [{\"line\": {\"colorbar\": {\"outlinewidth\": 0, \"ticks\": \"\"}}, \"type\": \"parcoords\"}], \"pie\": [{\"automargin\": true, \"type\": \"pie\"}], \"scatter\": [{\"marker\": {\"colorbar\": {\"outlinewidth\": 0, \"ticks\": \"\"}}, \"type\": \"scatter\"}], \"scatter3d\": [{\"line\": {\"colorbar\": {\"outlinewidth\": 0, \"ticks\": \"\"}}, \"marker\": {\"colorbar\": {\"outlinewidth\": 0, \"ticks\": \"\"}}, \"type\": \"scatter3d\"}], \"scattercarpet\": [{\"marker\": {\"colorbar\": {\"outlinewidth\": 0, \"ticks\": \"\"}}, \"type\": \"scattercarpet\"}], \"scattergeo\": [{\"marker\": {\"colorbar\": {\"outlinewidth\": 0, \"ticks\": \"\"}}, \"type\": \"scattergeo\"}], \"scattergl\": [{\"marker\": {\"colorbar\": {\"outlinewidth\": 0, \"ticks\": \"\"}}, \"type\": \"scattergl\"}], \"scattermapbox\": [{\"marker\": {\"colorbar\": {\"outlinewidth\": 0, \"ticks\": \"\"}}, \"type\": \"scattermapbox\"}], \"scatterpolar\": [{\"marker\": {\"colorbar\": {\"outlinewidth\": 0, \"ticks\": \"\"}}, \"type\": \"scatterpolar\"}], \"scatterpolargl\": [{\"marker\": {\"colorbar\": {\"outlinewidth\": 0, \"ticks\": \"\"}}, \"type\": \"scatterpolargl\"}], \"scatterternary\": [{\"marker\": {\"colorbar\": {\"outlinewidth\": 0, \"ticks\": \"\"}}, \"type\": \"scatterternary\"}], \"surface\": [{\"colorbar\": {\"outlinewidth\": 0, \"ticks\": \"\"}, \"colorscale\": [[0.0, \"#0d0887\"], [0.1111111111111111, \"#46039f\"], [0.2222222222222222, \"#7201a8\"], [0.3333333333333333, \"#9c179e\"], [0.4444444444444444, \"#bd3786\"], [0.5555555555555556, \"#d8576b\"], [0.6666666666666666, \"#ed7953\"], [0.7777777777777778, \"#fb9f3a\"], [0.8888888888888888, \"#fdca26\"], [1.0, \"#f0f921\"]], \"type\": \"surface\"}], \"table\": [{\"cells\": {\"fill\": {\"color\": \"#EBF0F8\"}, \"line\": {\"color\": \"white\"}}, \"header\": {\"fill\": {\"color\": \"#C8D4E3\"}, \"line\": {\"color\": \"white\"}}, \"type\": \"table\"}]}, \"layout\": {\"annotationdefaults\": {\"arrowcolor\": \"#2a3f5f\", \"arrowhead\": 0, \"arrowwidth\": 1}, \"coloraxis\": {\"colorbar\": {\"outlinewidth\": 0, \"ticks\": \"\"}}, \"colorscale\": {\"diverging\": [[0, \"#8e0152\"], [0.1, \"#c51b7d\"], [0.2, \"#de77ae\"], [0.3, \"#f1b6da\"], [0.4, \"#fde0ef\"], [0.5, \"#f7f7f7\"], [0.6, \"#e6f5d0\"], [0.7, \"#b8e186\"], [0.8, \"#7fbc41\"], [0.9, \"#4d9221\"], [1, \"#276419\"]], \"sequential\": [[0.0, \"#0d0887\"], [0.1111111111111111, \"#46039f\"], [0.2222222222222222, \"#7201a8\"], [0.3333333333333333, \"#9c179e\"], [0.4444444444444444, \"#bd3786\"], [0.5555555555555556, \"#d8576b\"], [0.6666666666666666, \"#ed7953\"], [0.7777777777777778, \"#fb9f3a\"], [0.8888888888888888, \"#fdca26\"], [1.0, \"#f0f921\"]], \"sequentialminus\": [[0.0, \"#0d0887\"], [0.1111111111111111, \"#46039f\"], [0.2222222222222222, \"#7201a8\"], [0.3333333333333333, \"#9c179e\"], [0.4444444444444444, \"#bd3786\"], [0.5555555555555556, \"#d8576b\"], [0.6666666666666666, \"#ed7953\"], [0.7777777777777778, \"#fb9f3a\"], [0.8888888888888888, \"#fdca26\"], [1.0, \"#f0f921\"]]}, \"colorway\": [\"#636efa\", \"#EF553B\", \"#00cc96\", \"#ab63fa\", \"#FFA15A\", \"#19d3f3\", \"#FF6692\", \"#B6E880\", \"#FF97FF\", \"#FECB52\"], \"font\": {\"color\": \"#2a3f5f\"}, \"geo\": {\"bgcolor\": \"white\", \"lakecolor\": \"white\", \"landcolor\": \"#E5ECF6\", \"showlakes\": true, \"showland\": true, \"subunitcolor\": \"white\"}, \"hoverlabel\": {\"align\": \"left\"}, \"hovermode\": \"closest\", \"mapbox\": {\"style\": \"light\"}, \"paper_bgcolor\": \"white\", \"plot_bgcolor\": \"#E5ECF6\", \"polar\": {\"angularaxis\": {\"gridcolor\": \"white\", \"linecolor\": \"white\", \"ticks\": \"\"}, \"bgcolor\": \"#E5ECF6\", \"radialaxis\": {\"gridcolor\": \"white\", \"linecolor\": \"white\", \"ticks\": \"\"}}, \"scene\": {\"xaxis\": {\"backgroundcolor\": \"#E5ECF6\", \"gridcolor\": \"white\", \"gridwidth\": 2, \"linecolor\": \"white\", \"showbackground\": true, \"ticks\": \"\", \"zerolinecolor\": \"white\"}, \"yaxis\": {\"backgroundcolor\": \"#E5ECF6\", \"gridcolor\": \"white\", \"gridwidth\": 2, \"linecolor\": \"white\", \"showbackground\": true, \"ticks\": \"\", \"zerolinecolor\": \"white\"}, \"zaxis\": {\"backgroundcolor\": \"#E5ECF6\", \"gridcolor\": \"white\", \"gridwidth\": 2, \"linecolor\": \"white\", \"showbackground\": true, \"ticks\": \"\", \"zerolinecolor\": \"white\"}}, \"shapedefaults\": {\"line\": {\"color\": \"#2a3f5f\"}}, \"ternary\": {\"aaxis\": {\"gridcolor\": \"white\", \"linecolor\": \"white\", \"ticks\": \"\"}, \"baxis\": {\"gridcolor\": \"white\", \"linecolor\": \"white\", \"ticks\": \"\"}, \"bgcolor\": \"#E5ECF6\", \"caxis\": {\"gridcolor\": \"white\", \"linecolor\": \"white\", \"ticks\": \"\"}}, \"title\": {\"x\": 0.05}, \"xaxis\": {\"automargin\": true, \"gridcolor\": \"white\", \"linecolor\": \"white\", \"ticks\": \"\", \"title\": {\"standoff\": 15}, \"zerolinecolor\": \"white\", \"zerolinewidth\": 2}, \"yaxis\": {\"automargin\": true, \"gridcolor\": \"white\", \"linecolor\": \"white\", \"ticks\": \"\", \"title\": {\"standoff\": 15}, \"zerolinecolor\": \"white\", \"zerolinewidth\": 2}}}, \"title\": {\"text\": \"Payout percentage distribution of people working the minimum number of hours\"}, \"xaxis\": {\"anchor\": \"y\", \"domain\": [0.0, 1.0], \"title\": {\"text\": \"Percentages\"}}, \"yaxis\": {\"anchor\": \"x\", \"domain\": [0, 0.5]}},\n",
              "                        {\"responsive\": true}\n",
              "                    ).then(function(){\n",
              "                            \n",
              "var gd = document.getElementById('93201412-9c85-4dd6-92e5-c9a99e90256f');\n",
              "var x = new MutationObserver(function (mutations, observer) {{\n",
              "        var display = window.getComputedStyle(gd).display;\n",
              "        if (!display || display === 'none') {{\n",
              "            console.log([gd, 'removed!']);\n",
              "            Plotly.purge(gd);\n",
              "            observer.disconnect();\n",
              "        }}\n",
              "}});\n",
              "\n",
              "// Listen for the removal of the full notebook cells\n",
              "var notebookContainer = gd.closest('#notebook-container');\n",
              "if (notebookContainer) {{\n",
              "    x.observe(notebookContainer, {childList: true});\n",
              "}}\n",
              "\n",
              "// Listen for the clearing of the current output cell\n",
              "var outputEl = gd.closest('.output');\n",
              "if (outputEl) {{\n",
              "    x.observe(outputEl, {childList: true});\n",
              "}}\n",
              "\n",
              "                        })\n",
              "                };\n",
              "                \n",
              "            </script>\n",
              "        </div>\n",
              "</body>\n",
              "</html>"
            ]
          },
          "metadata": {
            "tags": []
          }
        }
      ]
    },
    {
      "cell_type": "markdown",
      "metadata": {
        "id": "q94e6adLjfRu"
      },
      "source": [
        "## Countries and their percentage of the population earning >50K"
      ]
    },
    {
      "cell_type": "markdown",
      "metadata": {
        "id": "faGkTeOvjnt2"
      },
      "source": [
        "### What country has the highest percentage of people that earn >50K?"
      ]
    },
    {
      "cell_type": "code",
      "metadata": {
        "colab": {
          "base_uri": "https://localhost:8080/",
          "height": 37
        },
        "id": "xeiLhQ_NjqjX",
        "outputId": "84dbd4bf-8bad-41fc-ea16-d96486fea13d"
      },
      "source": [
        "highest_earning_country = (data\n",
        "    # Grouping rows by countries\n",
        "    .groupby('native-country')['salary']\n",
        "    # For each country calculate their percentage of people who earn >50K   \n",
        "    .value_counts(normalize=True)[:,'>50K']\n",
        "    # Sort values from the biggest\n",
        "    .sort_values(ascending=False)\n",
        "    # Return name of country which is first\n",
        "    .index[0])\n",
        "\n",
        "print(\"Country with highest percentage of rich:\", highest_earning_country)"
      ],
      "execution_count": 237,
      "outputs": [
        {
          "output_type": "display_data",
          "data": {
            "application/javascript": [
              "\n",
              "  for (rule of document.styleSheets[0].cssRules){\n",
              "    if (rule.selectorText=='body') {\n",
              "      rule.style.fontSize = '30px'\n",
              "      break\n",
              "    }\n",
              "  }\n",
              "  "
            ],
            "text/plain": [
              "<IPython.core.display.Javascript object>"
            ]
          },
          "metadata": {
            "tags": []
          }
        },
        {
          "output_type": "display_data",
          "data": {
            "application/javascript": [
              "\n",
              "  for (rule of document.styleSheets[0].cssRules){\n",
              "    if (rule.selectorText=='body') {\n",
              "      rule.style.fontSize = '30px'\n",
              "      break\n",
              "    }\n",
              "  }\n",
              "  "
            ],
            "text/plain": [
              "<IPython.core.display.Javascript object>"
            ]
          },
          "metadata": {
            "tags": []
          }
        },
        {
          "output_type": "display_data",
          "data": {
            "application/javascript": [
              "\n",
              "  for (rule of document.styleSheets[0].cssRules){\n",
              "    if (rule.selectorText=='body') {\n",
              "      rule.style.fontSize = '18px'\n",
              "      break\n",
              "    }\n",
              "  }\n",
              "  "
            ],
            "text/plain": [
              "<IPython.core.display.Javascript object>"
            ]
          },
          "metadata": {
            "tags": []
          }
        },
        {
          "output_type": "display_data",
          "data": {
            "application/javascript": [
              "\n",
              "  for (rule of document.styleSheets[0].cssRules){\n",
              "    if (rule.selectorText=='body') {\n",
              "      rule.style.fontSize = '16px'\n",
              "      break\n",
              "    }\n",
              "  }\n",
              "  "
            ],
            "text/plain": [
              "<IPython.core.display.Javascript object>"
            ]
          },
          "metadata": {
            "tags": []
          }
        },
        {
          "output_type": "display_data",
          "data": {
            "application/javascript": [
              "\n",
              "  for (rule of document.styleSheets[0].cssRules){\n",
              "    if (rule.selectorText=='body') {\n",
              "      rule.style.fontSize = '16px'\n",
              "      break\n",
              "    }\n",
              "  }\n",
              "  "
            ],
            "text/plain": [
              "<IPython.core.display.Javascript object>"
            ]
          },
          "metadata": {
            "tags": []
          }
        },
        {
          "output_type": "display_data",
          "data": {
            "application/javascript": [
              "\n",
              "  for (rule of document.styleSheets[0].cssRules){\n",
              "    if (rule.selectorText=='body') {\n",
              "      rule.style.fontSize = '16px'\n",
              "      break\n",
              "    }\n",
              "  }\n",
              "  "
            ],
            "text/plain": [
              "<IPython.core.display.Javascript object>"
            ]
          },
          "metadata": {
            "tags": []
          }
        },
        {
          "output_type": "stream",
          "text": [
            "Country with highest percentage of rich: Iran\n"
          ],
          "name": "stdout"
        }
      ]
    },
    {
      "cell_type": "markdown",
      "metadata": {
        "id": "ZXhItjwZjuAP"
      },
      "source": [
        "### What is the percentage of rich people in above country?"
      ]
    },
    {
      "cell_type": "code",
      "metadata": {
        "colab": {
          "base_uri": "https://localhost:8080/",
          "height": 37
        },
        "id": "1wcfQbQujxxg",
        "outputId": "d947ba4c-ff87-4e6d-f92b-7269152f9091"
      },
      "source": [
        "# The same as above\n",
        "# But return value of that country\n",
        "# Rounded to second place\n",
        "highest_earning_country_percentage = (round((data\n",
        "    .groupby('native-country')['salary']\n",
        "    .value_counts(normalize=True)[:,'>50K']\n",
        "    .sort_values(ascending=False)[0])*100,2))\n",
        "\n",
        "print(f\"Highest percentage of rich people in country: {highest_earning_country_percentage}%\")"
      ],
      "execution_count": 238,
      "outputs": [
        {
          "output_type": "display_data",
          "data": {
            "application/javascript": [
              "\n",
              "  for (rule of document.styleSheets[0].cssRules){\n",
              "    if (rule.selectorText=='body') {\n",
              "      rule.style.fontSize = '30px'\n",
              "      break\n",
              "    }\n",
              "  }\n",
              "  "
            ],
            "text/plain": [
              "<IPython.core.display.Javascript object>"
            ]
          },
          "metadata": {
            "tags": []
          }
        },
        {
          "output_type": "display_data",
          "data": {
            "application/javascript": [
              "\n",
              "  for (rule of document.styleSheets[0].cssRules){\n",
              "    if (rule.selectorText=='body') {\n",
              "      rule.style.fontSize = '30px'\n",
              "      break\n",
              "    }\n",
              "  }\n",
              "  "
            ],
            "text/plain": [
              "<IPython.core.display.Javascript object>"
            ]
          },
          "metadata": {
            "tags": []
          }
        },
        {
          "output_type": "display_data",
          "data": {
            "application/javascript": [
              "\n",
              "  for (rule of document.styleSheets[0].cssRules){\n",
              "    if (rule.selectorText=='body') {\n",
              "      rule.style.fontSize = '18px'\n",
              "      break\n",
              "    }\n",
              "  }\n",
              "  "
            ],
            "text/plain": [
              "<IPython.core.display.Javascript object>"
            ]
          },
          "metadata": {
            "tags": []
          }
        },
        {
          "output_type": "display_data",
          "data": {
            "application/javascript": [
              "\n",
              "  for (rule of document.styleSheets[0].cssRules){\n",
              "    if (rule.selectorText=='body') {\n",
              "      rule.style.fontSize = '16px'\n",
              "      break\n",
              "    }\n",
              "  }\n",
              "  "
            ],
            "text/plain": [
              "<IPython.core.display.Javascript object>"
            ]
          },
          "metadata": {
            "tags": []
          }
        },
        {
          "output_type": "display_data",
          "data": {
            "application/javascript": [
              "\n",
              "  for (rule of document.styleSheets[0].cssRules){\n",
              "    if (rule.selectorText=='body') {\n",
              "      rule.style.fontSize = '16px'\n",
              "      break\n",
              "    }\n",
              "  }\n",
              "  "
            ],
            "text/plain": [
              "<IPython.core.display.Javascript object>"
            ]
          },
          "metadata": {
            "tags": []
          }
        },
        {
          "output_type": "display_data",
          "data": {
            "application/javascript": [
              "\n",
              "  for (rule of document.styleSheets[0].cssRules){\n",
              "    if (rule.selectorText=='body') {\n",
              "      rule.style.fontSize = '16px'\n",
              "      break\n",
              "    }\n",
              "  }\n",
              "  "
            ],
            "text/plain": [
              "<IPython.core.display.Javascript object>"
            ]
          },
          "metadata": {
            "tags": []
          }
        },
        {
          "output_type": "stream",
          "text": [
            "Highest percentage of rich people in country: 41.86%\n"
          ],
          "name": "stdout"
        }
      ]
    },
    {
      "cell_type": "markdown",
      "metadata": {
        "id": "mkfeP2wWqLIX"
      },
      "source": [
        "### Visualisation"
      ]
    },
    {
      "cell_type": "code",
      "metadata": {
        "colab": {
          "base_uri": "https://localhost:8080/",
          "height": 542
        },
        "id": "ueDv9zw9qKrO",
        "outputId": "638e40c7-7134-4b10-a49e-9f5765d5fda3"
      },
      "source": [
        "# Plotly\n",
        "\n",
        "# First create dataset \n",
        "# The same as above but returns all countries\n",
        "data_visualisation = (round(data\n",
        "    .groupby('native-country')['salary']\n",
        "    .value_counts(normalize=True)[:,'>50K'] * 100,2))\n",
        "\n",
        "fig = px.scatter_geo(\n",
        "    data_visualisation, # Source of data\n",
        "    locations=data_visualisation.index,  # Locations which are interpreted\n",
        "    size=data_visualisation.values,  # Size of circle\n",
        "    hover_name=data_visualisation.index,  # Name displayed when hover circle\n",
        "    locationmode='country names', # Setting to interpreted location\n",
        "    color=data_visualisation.index, # Each country have self color\n",
        "    projection=\"natural earth\",  # Type of map\n",
        "    title='Countries and their percentage of the population earning >50K',\n",
        "    labels={\"color\":'Country', 'size':'Percentage'}\n",
        ")\n",
        "\n",
        "fig.show()"
      ],
      "execution_count": 239,
      "outputs": [
        {
          "output_type": "display_data",
          "data": {
            "application/javascript": [
              "\n",
              "  for (rule of document.styleSheets[0].cssRules){\n",
              "    if (rule.selectorText=='body') {\n",
              "      rule.style.fontSize = '30px'\n",
              "      break\n",
              "    }\n",
              "  }\n",
              "  "
            ],
            "text/plain": [
              "<IPython.core.display.Javascript object>"
            ]
          },
          "metadata": {
            "tags": []
          }
        },
        {
          "output_type": "display_data",
          "data": {
            "application/javascript": [
              "\n",
              "  for (rule of document.styleSheets[0].cssRules){\n",
              "    if (rule.selectorText=='body') {\n",
              "      rule.style.fontSize = '30px'\n",
              "      break\n",
              "    }\n",
              "  }\n",
              "  "
            ],
            "text/plain": [
              "<IPython.core.display.Javascript object>"
            ]
          },
          "metadata": {
            "tags": []
          }
        },
        {
          "output_type": "display_data",
          "data": {
            "application/javascript": [
              "\n",
              "  for (rule of document.styleSheets[0].cssRules){\n",
              "    if (rule.selectorText=='body') {\n",
              "      rule.style.fontSize = '18px'\n",
              "      break\n",
              "    }\n",
              "  }\n",
              "  "
            ],
            "text/plain": [
              "<IPython.core.display.Javascript object>"
            ]
          },
          "metadata": {
            "tags": []
          }
        },
        {
          "output_type": "display_data",
          "data": {
            "application/javascript": [
              "\n",
              "  for (rule of document.styleSheets[0].cssRules){\n",
              "    if (rule.selectorText=='body') {\n",
              "      rule.style.fontSize = '16px'\n",
              "      break\n",
              "    }\n",
              "  }\n",
              "  "
            ],
            "text/plain": [
              "<IPython.core.display.Javascript object>"
            ]
          },
          "metadata": {
            "tags": []
          }
        },
        {
          "output_type": "display_data",
          "data": {
            "application/javascript": [
              "\n",
              "  for (rule of document.styleSheets[0].cssRules){\n",
              "    if (rule.selectorText=='body') {\n",
              "      rule.style.fontSize = '16px'\n",
              "      break\n",
              "    }\n",
              "  }\n",
              "  "
            ],
            "text/plain": [
              "<IPython.core.display.Javascript object>"
            ]
          },
          "metadata": {
            "tags": []
          }
        },
        {
          "output_type": "display_data",
          "data": {
            "application/javascript": [
              "\n",
              "  for (rule of document.styleSheets[0].cssRules){\n",
              "    if (rule.selectorText=='body') {\n",
              "      rule.style.fontSize = '16px'\n",
              "      break\n",
              "    }\n",
              "  }\n",
              "  "
            ],
            "text/plain": [
              "<IPython.core.display.Javascript object>"
            ]
          },
          "metadata": {
            "tags": []
          }
        },
        {
          "output_type": "display_data",
          "data": {
            "text/html": [
              "<html>\n",
              "<head><meta charset=\"utf-8\" /></head>\n",
              "<body>\n",
              "    <div>\n",
              "            <script src=\"https://cdnjs.cloudflare.com/ajax/libs/mathjax/2.7.5/MathJax.js?config=TeX-AMS-MML_SVG\"></script><script type=\"text/javascript\">if (window.MathJax) {MathJax.Hub.Config({SVG: {font: \"STIX-Web\"}});}</script>\n",
              "                <script type=\"text/javascript\">window.PlotlyConfig = {MathJaxConfig: 'local'};</script>\n",
              "        <script src=\"https://cdn.plot.ly/plotly-latest.min.js\"></script>    \n",
              "            <div id=\"f9c5a9b7-f26b-490f-af97-8c1ae4e08340\" class=\"plotly-graph-div\" style=\"height:525px; width:100%;\"></div>\n",
              "            <script type=\"text/javascript\">\n",
              "                \n",
              "                    window.PLOTLYENV=window.PLOTLYENV || {};\n",
              "                    \n",
              "                if (document.getElementById(\"f9c5a9b7-f26b-490f-af97-8c1ae4e08340\")) {\n",
              "                    Plotly.newPlot(\n",
              "                        'f9c5a9b7-f26b-490f-af97-8c1ae4e08340',\n",
              "                        [{\"geo\": \"geo\", \"hoverlabel\": {\"namelength\": 0}, \"hovertemplate\": \"<b>%{hovertext}</b><br><br>Country=?<br>Percentage=%{marker.size}<br>locations=%{location}\", \"hovertext\": [\"?\"], \"legendgroup\": \"Country=?\", \"locationmode\": \"country names\", \"locations\": [\"?\"], \"marker\": {\"color\": \"#636efa\", \"size\": [25.04], \"sizemode\": \"area\", \"sizeref\": 0.10464999999999999}, \"name\": \"Country=?\", \"showlegend\": true, \"type\": \"scattergeo\"}, {\"geo\": \"geo\", \"hoverlabel\": {\"namelength\": 0}, \"hovertemplate\": \"<b>%{hovertext}</b><br><br>Country=Cambodia<br>Percentage=%{marker.size}<br>locations=%{location}\", \"hovertext\": [\"Cambodia\"], \"legendgroup\": \"Country=Cambodia\", \"locationmode\": \"country names\", \"locations\": [\"Cambodia\"], \"marker\": {\"color\": \"#EF553B\", \"size\": [36.84], \"sizemode\": \"area\", \"sizeref\": 0.10464999999999999}, \"name\": \"Country=Cambodia\", \"showlegend\": true, \"type\": \"scattergeo\"}, {\"geo\": \"geo\", \"hoverlabel\": {\"namelength\": 0}, \"hovertemplate\": \"<b>%{hovertext}</b><br><br>Country=Canada<br>Percentage=%{marker.size}<br>locations=%{location}\", \"hovertext\": [\"Canada\"], \"legendgroup\": \"Country=Canada\", \"locationmode\": \"country names\", \"locations\": [\"Canada\"], \"marker\": {\"color\": \"#00cc96\", \"size\": [32.23], \"sizemode\": \"area\", \"sizeref\": 0.10464999999999999}, \"name\": \"Country=Canada\", \"showlegend\": true, \"type\": \"scattergeo\"}, {\"geo\": \"geo\", \"hoverlabel\": {\"namelength\": 0}, \"hovertemplate\": \"<b>%{hovertext}</b><br><br>Country=China<br>Percentage=%{marker.size}<br>locations=%{location}\", \"hovertext\": [\"China\"], \"legendgroup\": \"Country=China\", \"locationmode\": \"country names\", \"locations\": [\"China\"], \"marker\": {\"color\": \"#ab63fa\", \"size\": [26.67], \"sizemode\": \"area\", \"sizeref\": 0.10464999999999999}, \"name\": \"Country=China\", \"showlegend\": true, \"type\": \"scattergeo\"}, {\"geo\": \"geo\", \"hoverlabel\": {\"namelength\": 0}, \"hovertemplate\": \"<b>%{hovertext}</b><br><br>Country=Columbia<br>Percentage=%{marker.size}<br>locations=%{location}\", \"hovertext\": [\"Columbia\"], \"legendgroup\": \"Country=Columbia\", \"locationmode\": \"country names\", \"locations\": [\"Columbia\"], \"marker\": {\"color\": \"#FFA15A\", \"size\": [3.39], \"sizemode\": \"area\", \"sizeref\": 0.10464999999999999}, \"name\": \"Country=Columbia\", \"showlegend\": true, \"type\": \"scattergeo\"}, {\"geo\": \"geo\", \"hoverlabel\": {\"namelength\": 0}, \"hovertemplate\": \"<b>%{hovertext}</b><br><br>Country=Cuba<br>Percentage=%{marker.size}<br>locations=%{location}\", \"hovertext\": [\"Cuba\"], \"legendgroup\": \"Country=Cuba\", \"locationmode\": \"country names\", \"locations\": [\"Cuba\"], \"marker\": {\"color\": \"#19d3f3\", \"size\": [26.32], \"sizemode\": \"area\", \"sizeref\": 0.10464999999999999}, \"name\": \"Country=Cuba\", \"showlegend\": true, \"type\": \"scattergeo\"}, {\"geo\": \"geo\", \"hoverlabel\": {\"namelength\": 0}, \"hovertemplate\": \"<b>%{hovertext}</b><br><br>Country=Dominican-Republic<br>Percentage=%{marker.size}<br>locations=%{location}\", \"hovertext\": [\"Dominican-Republic\"], \"legendgroup\": \"Country=Dominican-Republic\", \"locationmode\": \"country names\", \"locations\": [\"Dominican-Republic\"], \"marker\": {\"color\": \"#FF6692\", \"size\": [2.86], \"sizemode\": \"area\", \"sizeref\": 0.10464999999999999}, \"name\": \"Country=Dominican-Republic\", \"showlegend\": true, \"type\": \"scattergeo\"}, {\"geo\": \"geo\", \"hoverlabel\": {\"namelength\": 0}, \"hovertemplate\": \"<b>%{hovertext}</b><br><br>Country=Ecuador<br>Percentage=%{marker.size}<br>locations=%{location}\", \"hovertext\": [\"Ecuador\"], \"legendgroup\": \"Country=Ecuador\", \"locationmode\": \"country names\", \"locations\": [\"Ecuador\"], \"marker\": {\"color\": \"#B6E880\", \"size\": [14.29], \"sizemode\": \"area\", \"sizeref\": 0.10464999999999999}, \"name\": \"Country=Ecuador\", \"showlegend\": true, \"type\": \"scattergeo\"}, {\"geo\": \"geo\", \"hoverlabel\": {\"namelength\": 0}, \"hovertemplate\": \"<b>%{hovertext}</b><br><br>Country=El-Salvador<br>Percentage=%{marker.size}<br>locations=%{location}\", \"hovertext\": [\"El-Salvador\"], \"legendgroup\": \"Country=El-Salvador\", \"locationmode\": \"country names\", \"locations\": [\"El-Salvador\"], \"marker\": {\"color\": \"#FF97FF\", \"size\": [8.49], \"sizemode\": \"area\", \"sizeref\": 0.10464999999999999}, \"name\": \"Country=El-Salvador\", \"showlegend\": true, \"type\": \"scattergeo\"}, {\"geo\": \"geo\", \"hoverlabel\": {\"namelength\": 0}, \"hovertemplate\": \"<b>%{hovertext}</b><br><br>Country=England<br>Percentage=%{marker.size}<br>locations=%{location}\", \"hovertext\": [\"England\"], \"legendgroup\": \"Country=England\", \"locationmode\": \"country names\", \"locations\": [\"England\"], \"marker\": {\"color\": \"#FECB52\", \"size\": [33.33], \"sizemode\": \"area\", \"sizeref\": 0.10464999999999999}, \"name\": \"Country=England\", \"showlegend\": true, \"type\": \"scattergeo\"}, {\"geo\": \"geo\", \"hoverlabel\": {\"namelength\": 0}, \"hovertemplate\": \"<b>%{hovertext}</b><br><br>Country=France<br>Percentage=%{marker.size}<br>locations=%{location}\", \"hovertext\": [\"France\"], \"legendgroup\": \"Country=France\", \"locationmode\": \"country names\", \"locations\": [\"France\"], \"marker\": {\"color\": \"#636efa\", \"size\": [41.38], \"sizemode\": \"area\", \"sizeref\": 0.10464999999999999}, \"name\": \"Country=France\", \"showlegend\": true, \"type\": \"scattergeo\"}, {\"geo\": \"geo\", \"hoverlabel\": {\"namelength\": 0}, \"hovertemplate\": \"<b>%{hovertext}</b><br><br>Country=Germany<br>Percentage=%{marker.size}<br>locations=%{location}\", \"hovertext\": [\"Germany\"], \"legendgroup\": \"Country=Germany\", \"locationmode\": \"country names\", \"locations\": [\"Germany\"], \"marker\": {\"color\": \"#EF553B\", \"size\": [32.12], \"sizemode\": \"area\", \"sizeref\": 0.10464999999999999}, \"name\": \"Country=Germany\", \"showlegend\": true, \"type\": \"scattergeo\"}, {\"geo\": \"geo\", \"hoverlabel\": {\"namelength\": 0}, \"hovertemplate\": \"<b>%{hovertext}</b><br><br>Country=Greece<br>Percentage=%{marker.size}<br>locations=%{location}\", \"hovertext\": [\"Greece\"], \"legendgroup\": \"Country=Greece\", \"locationmode\": \"country names\", \"locations\": [\"Greece\"], \"marker\": {\"color\": \"#00cc96\", \"size\": [27.59], \"sizemode\": \"area\", \"sizeref\": 0.10464999999999999}, \"name\": \"Country=Greece\", \"showlegend\": true, \"type\": \"scattergeo\"}, {\"geo\": \"geo\", \"hoverlabel\": {\"namelength\": 0}, \"hovertemplate\": \"<b>%{hovertext}</b><br><br>Country=Guatemala<br>Percentage=%{marker.size}<br>locations=%{location}\", \"hovertext\": [\"Guatemala\"], \"legendgroup\": \"Country=Guatemala\", \"locationmode\": \"country names\", \"locations\": [\"Guatemala\"], \"marker\": {\"color\": \"#ab63fa\", \"size\": [4.69], \"sizemode\": \"area\", \"sizeref\": 0.10464999999999999}, \"name\": \"Country=Guatemala\", \"showlegend\": true, \"type\": \"scattergeo\"}, {\"geo\": \"geo\", \"hoverlabel\": {\"namelength\": 0}, \"hovertemplate\": \"<b>%{hovertext}</b><br><br>Country=Haiti<br>Percentage=%{marker.size}<br>locations=%{location}\", \"hovertext\": [\"Haiti\"], \"legendgroup\": \"Country=Haiti\", \"locationmode\": \"country names\", \"locations\": [\"Haiti\"], \"marker\": {\"color\": \"#FFA15A\", \"size\": [9.09], \"sizemode\": \"area\", \"sizeref\": 0.10464999999999999}, \"name\": \"Country=Haiti\", \"showlegend\": true, \"type\": \"scattergeo\"}, {\"geo\": \"geo\", \"hoverlabel\": {\"namelength\": 0}, \"hovertemplate\": \"<b>%{hovertext}</b><br><br>Country=Honduras<br>Percentage=%{marker.size}<br>locations=%{location}\", \"hovertext\": [\"Honduras\"], \"legendgroup\": \"Country=Honduras\", \"locationmode\": \"country names\", \"locations\": [\"Honduras\"], \"marker\": {\"color\": \"#19d3f3\", \"size\": [7.69], \"sizemode\": \"area\", \"sizeref\": 0.10464999999999999}, \"name\": \"Country=Honduras\", \"showlegend\": true, \"type\": \"scattergeo\"}, {\"geo\": \"geo\", \"hoverlabel\": {\"namelength\": 0}, \"hovertemplate\": \"<b>%{hovertext}</b><br><br>Country=Hong<br>Percentage=%{marker.size}<br>locations=%{location}\", \"hovertext\": [\"Hong\"], \"legendgroup\": \"Country=Hong\", \"locationmode\": \"country names\", \"locations\": [\"Hong\"], \"marker\": {\"color\": \"#FF6692\", \"size\": [30.0], \"sizemode\": \"area\", \"sizeref\": 0.10464999999999999}, \"name\": \"Country=Hong\", \"showlegend\": true, \"type\": \"scattergeo\"}, {\"geo\": \"geo\", \"hoverlabel\": {\"namelength\": 0}, \"hovertemplate\": \"<b>%{hovertext}</b><br><br>Country=Hungary<br>Percentage=%{marker.size}<br>locations=%{location}\", \"hovertext\": [\"Hungary\"], \"legendgroup\": \"Country=Hungary\", \"locationmode\": \"country names\", \"locations\": [\"Hungary\"], \"marker\": {\"color\": \"#B6E880\", \"size\": [23.08], \"sizemode\": \"area\", \"sizeref\": 0.10464999999999999}, \"name\": \"Country=Hungary\", \"showlegend\": true, \"type\": \"scattergeo\"}, {\"geo\": \"geo\", \"hoverlabel\": {\"namelength\": 0}, \"hovertemplate\": \"<b>%{hovertext}</b><br><br>Country=India<br>Percentage=%{marker.size}<br>locations=%{location}\", \"hovertext\": [\"India\"], \"legendgroup\": \"Country=India\", \"locationmode\": \"country names\", \"locations\": [\"India\"], \"marker\": {\"color\": \"#FF97FF\", \"size\": [40.0], \"sizemode\": \"area\", \"sizeref\": 0.10464999999999999}, \"name\": \"Country=India\", \"showlegend\": true, \"type\": \"scattergeo\"}, {\"geo\": \"geo\", \"hoverlabel\": {\"namelength\": 0}, \"hovertemplate\": \"<b>%{hovertext}</b><br><br>Country=Iran<br>Percentage=%{marker.size}<br>locations=%{location}\", \"hovertext\": [\"Iran\"], \"legendgroup\": \"Country=Iran\", \"locationmode\": \"country names\", \"locations\": [\"Iran\"], \"marker\": {\"color\": \"#FECB52\", \"size\": [41.86], \"sizemode\": \"area\", \"sizeref\": 0.10464999999999999}, \"name\": \"Country=Iran\", \"showlegend\": true, \"type\": \"scattergeo\"}, {\"geo\": \"geo\", \"hoverlabel\": {\"namelength\": 0}, \"hovertemplate\": \"<b>%{hovertext}</b><br><br>Country=Ireland<br>Percentage=%{marker.size}<br>locations=%{location}\", \"hovertext\": [\"Ireland\"], \"legendgroup\": \"Country=Ireland\", \"locationmode\": \"country names\", \"locations\": [\"Ireland\"], \"marker\": {\"color\": \"#636efa\", \"size\": [20.83], \"sizemode\": \"area\", \"sizeref\": 0.10464999999999999}, \"name\": \"Country=Ireland\", \"showlegend\": true, \"type\": \"scattergeo\"}, {\"geo\": \"geo\", \"hoverlabel\": {\"namelength\": 0}, \"hovertemplate\": \"<b>%{hovertext}</b><br><br>Country=Italy<br>Percentage=%{marker.size}<br>locations=%{location}\", \"hovertext\": [\"Italy\"], \"legendgroup\": \"Country=Italy\", \"locationmode\": \"country names\", \"locations\": [\"Italy\"], \"marker\": {\"color\": \"#EF553B\", \"size\": [34.25], \"sizemode\": \"area\", \"sizeref\": 0.10464999999999999}, \"name\": \"Country=Italy\", \"showlegend\": true, \"type\": \"scattergeo\"}, {\"geo\": \"geo\", \"hoverlabel\": {\"namelength\": 0}, \"hovertemplate\": \"<b>%{hovertext}</b><br><br>Country=Jamaica<br>Percentage=%{marker.size}<br>locations=%{location}\", \"hovertext\": [\"Jamaica\"], \"legendgroup\": \"Country=Jamaica\", \"locationmode\": \"country names\", \"locations\": [\"Jamaica\"], \"marker\": {\"color\": \"#00cc96\", \"size\": [12.35], \"sizemode\": \"area\", \"sizeref\": 0.10464999999999999}, \"name\": \"Country=Jamaica\", \"showlegend\": true, \"type\": \"scattergeo\"}, {\"geo\": \"geo\", \"hoverlabel\": {\"namelength\": 0}, \"hovertemplate\": \"<b>%{hovertext}</b><br><br>Country=Japan<br>Percentage=%{marker.size}<br>locations=%{location}\", \"hovertext\": [\"Japan\"], \"legendgroup\": \"Country=Japan\", \"locationmode\": \"country names\", \"locations\": [\"Japan\"], \"marker\": {\"color\": \"#ab63fa\", \"size\": [38.71], \"sizemode\": \"area\", \"sizeref\": 0.10464999999999999}, \"name\": \"Country=Japan\", \"showlegend\": true, \"type\": \"scattergeo\"}, {\"geo\": \"geo\", \"hoverlabel\": {\"namelength\": 0}, \"hovertemplate\": \"<b>%{hovertext}</b><br><br>Country=Laos<br>Percentage=%{marker.size}<br>locations=%{location}\", \"hovertext\": [\"Laos\"], \"legendgroup\": \"Country=Laos\", \"locationmode\": \"country names\", \"locations\": [\"Laos\"], \"marker\": {\"color\": \"#FFA15A\", \"size\": [11.11], \"sizemode\": \"area\", \"sizeref\": 0.10464999999999999}, \"name\": \"Country=Laos\", \"showlegend\": true, \"type\": \"scattergeo\"}, {\"geo\": \"geo\", \"hoverlabel\": {\"namelength\": 0}, \"hovertemplate\": \"<b>%{hovertext}</b><br><br>Country=Mexico<br>Percentage=%{marker.size}<br>locations=%{location}\", \"hovertext\": [\"Mexico\"], \"legendgroup\": \"Country=Mexico\", \"locationmode\": \"country names\", \"locations\": [\"Mexico\"], \"marker\": {\"color\": \"#19d3f3\", \"size\": [5.13], \"sizemode\": \"area\", \"sizeref\": 0.10464999999999999}, \"name\": \"Country=Mexico\", \"showlegend\": true, \"type\": \"scattergeo\"}, {\"geo\": \"geo\", \"hoverlabel\": {\"namelength\": 0}, \"hovertemplate\": \"<b>%{hovertext}</b><br><br>Country=Nicaragua<br>Percentage=%{marker.size}<br>locations=%{location}\", \"hovertext\": [\"Nicaragua\"], \"legendgroup\": \"Country=Nicaragua\", \"locationmode\": \"country names\", \"locations\": [\"Nicaragua\"], \"marker\": {\"color\": \"#FF6692\", \"size\": [5.88], \"sizemode\": \"area\", \"sizeref\": 0.10464999999999999}, \"name\": \"Country=Nicaragua\", \"showlegend\": true, \"type\": \"scattergeo\"}, {\"geo\": \"geo\", \"hoverlabel\": {\"namelength\": 0}, \"hovertemplate\": \"<b>%{hovertext}</b><br><br>Country=Peru<br>Percentage=%{marker.size}<br>locations=%{location}\", \"hovertext\": [\"Peru\"], \"legendgroup\": \"Country=Peru\", \"locationmode\": \"country names\", \"locations\": [\"Peru\"], \"marker\": {\"color\": \"#B6E880\", \"size\": [6.45], \"sizemode\": \"area\", \"sizeref\": 0.10464999999999999}, \"name\": \"Country=Peru\", \"showlegend\": true, \"type\": \"scattergeo\"}, {\"geo\": \"geo\", \"hoverlabel\": {\"namelength\": 0}, \"hovertemplate\": \"<b>%{hovertext}</b><br><br>Country=Philippines<br>Percentage=%{marker.size}<br>locations=%{location}\", \"hovertext\": [\"Philippines\"], \"legendgroup\": \"Country=Philippines\", \"locationmode\": \"country names\", \"locations\": [\"Philippines\"], \"marker\": {\"color\": \"#FF97FF\", \"size\": [30.81], \"sizemode\": \"area\", \"sizeref\": 0.10464999999999999}, \"name\": \"Country=Philippines\", \"showlegend\": true, \"type\": \"scattergeo\"}, {\"geo\": \"geo\", \"hoverlabel\": {\"namelength\": 0}, \"hovertemplate\": \"<b>%{hovertext}</b><br><br>Country=Poland<br>Percentage=%{marker.size}<br>locations=%{location}\", \"hovertext\": [\"Poland\"], \"legendgroup\": \"Country=Poland\", \"locationmode\": \"country names\", \"locations\": [\"Poland\"], \"marker\": {\"color\": \"#FECB52\", \"size\": [20.0], \"sizemode\": \"area\", \"sizeref\": 0.10464999999999999}, \"name\": \"Country=Poland\", \"showlegend\": true, \"type\": \"scattergeo\"}, {\"geo\": \"geo\", \"hoverlabel\": {\"namelength\": 0}, \"hovertemplate\": \"<b>%{hovertext}</b><br><br>Country=Portugal<br>Percentage=%{marker.size}<br>locations=%{location}\", \"hovertext\": [\"Portugal\"], \"legendgroup\": \"Country=Portugal\", \"locationmode\": \"country names\", \"locations\": [\"Portugal\"], \"marker\": {\"color\": \"#636efa\", \"size\": [10.81], \"sizemode\": \"area\", \"sizeref\": 0.10464999999999999}, \"name\": \"Country=Portugal\", \"showlegend\": true, \"type\": \"scattergeo\"}, {\"geo\": \"geo\", \"hoverlabel\": {\"namelength\": 0}, \"hovertemplate\": \"<b>%{hovertext}</b><br><br>Country=Puerto-Rico<br>Percentage=%{marker.size}<br>locations=%{location}\", \"hovertext\": [\"Puerto-Rico\"], \"legendgroup\": \"Country=Puerto-Rico\", \"locationmode\": \"country names\", \"locations\": [\"Puerto-Rico\"], \"marker\": {\"color\": \"#EF553B\", \"size\": [10.53], \"sizemode\": \"area\", \"sizeref\": 0.10464999999999999}, \"name\": \"Country=Puerto-Rico\", \"showlegend\": true, \"type\": \"scattergeo\"}, {\"geo\": \"geo\", \"hoverlabel\": {\"namelength\": 0}, \"hovertemplate\": \"<b>%{hovertext}</b><br><br>Country=Scotland<br>Percentage=%{marker.size}<br>locations=%{location}\", \"hovertext\": [\"Scotland\"], \"legendgroup\": \"Country=Scotland\", \"locationmode\": \"country names\", \"locations\": [\"Scotland\"], \"marker\": {\"color\": \"#00cc96\", \"size\": [25.0], \"sizemode\": \"area\", \"sizeref\": 0.10464999999999999}, \"name\": \"Country=Scotland\", \"showlegend\": true, \"type\": \"scattergeo\"}, {\"geo\": \"geo\", \"hoverlabel\": {\"namelength\": 0}, \"hovertemplate\": \"<b>%{hovertext}</b><br><br>Country=South<br>Percentage=%{marker.size}<br>locations=%{location}\", \"hovertext\": [\"South\"], \"legendgroup\": \"Country=South\", \"locationmode\": \"country names\", \"locations\": [\"South\"], \"marker\": {\"color\": \"#ab63fa\", \"size\": [20.0], \"sizemode\": \"area\", \"sizeref\": 0.10464999999999999}, \"name\": \"Country=South\", \"showlegend\": true, \"type\": \"scattergeo\"}, {\"geo\": \"geo\", \"hoverlabel\": {\"namelength\": 0}, \"hovertemplate\": \"<b>%{hovertext}</b><br><br>Country=Taiwan<br>Percentage=%{marker.size}<br>locations=%{location}\", \"hovertext\": [\"Taiwan\"], \"legendgroup\": \"Country=Taiwan\", \"locationmode\": \"country names\", \"locations\": [\"Taiwan\"], \"marker\": {\"color\": \"#FFA15A\", \"size\": [39.22], \"sizemode\": \"area\", \"sizeref\": 0.10464999999999999}, \"name\": \"Country=Taiwan\", \"showlegend\": true, \"type\": \"scattergeo\"}, {\"geo\": \"geo\", \"hoverlabel\": {\"namelength\": 0}, \"hovertemplate\": \"<b>%{hovertext}</b><br><br>Country=Thailand<br>Percentage=%{marker.size}<br>locations=%{location}\", \"hovertext\": [\"Thailand\"], \"legendgroup\": \"Country=Thailand\", \"locationmode\": \"country names\", \"locations\": [\"Thailand\"], \"marker\": {\"color\": \"#19d3f3\", \"size\": [16.67], \"sizemode\": \"area\", \"sizeref\": 0.10464999999999999}, \"name\": \"Country=Thailand\", \"showlegend\": true, \"type\": \"scattergeo\"}, {\"geo\": \"geo\", \"hoverlabel\": {\"namelength\": 0}, \"hovertemplate\": \"<b>%{hovertext}</b><br><br>Country=Trinadad&Tobago<br>Percentage=%{marker.size}<br>locations=%{location}\", \"hovertext\": [\"Trinadad&Tobago\"], \"legendgroup\": \"Country=Trinadad&Tobago\", \"locationmode\": \"country names\", \"locations\": [\"Trinadad&Tobago\"], \"marker\": {\"color\": \"#FF6692\", \"size\": [10.53], \"sizemode\": \"area\", \"sizeref\": 0.10464999999999999}, \"name\": \"Country=Trinadad&Tobago\", \"showlegend\": true, \"type\": \"scattergeo\"}, {\"geo\": \"geo\", \"hoverlabel\": {\"namelength\": 0}, \"hovertemplate\": \"<b>%{hovertext}</b><br><br>Country=United-States<br>Percentage=%{marker.size}<br>locations=%{location}\", \"hovertext\": [\"United-States\"], \"legendgroup\": \"Country=United-States\", \"locationmode\": \"country names\", \"locations\": [\"United-States\"], \"marker\": {\"color\": \"#B6E880\", \"size\": [24.58], \"sizemode\": \"area\", \"sizeref\": 0.10464999999999999}, \"name\": \"Country=United-States\", \"showlegend\": true, \"type\": \"scattergeo\"}, {\"geo\": \"geo\", \"hoverlabel\": {\"namelength\": 0}, \"hovertemplate\": \"<b>%{hovertext}</b><br><br>Country=Vietnam<br>Percentage=%{marker.size}<br>locations=%{location}\", \"hovertext\": [\"Vietnam\"], \"legendgroup\": \"Country=Vietnam\", \"locationmode\": \"country names\", \"locations\": [\"Vietnam\"], \"marker\": {\"color\": \"#FF97FF\", \"size\": [7.46], \"sizemode\": \"area\", \"sizeref\": 0.10464999999999999}, \"name\": \"Country=Vietnam\", \"showlegend\": true, \"type\": \"scattergeo\"}, {\"geo\": \"geo\", \"hoverlabel\": {\"namelength\": 0}, \"hovertemplate\": \"<b>%{hovertext}</b><br><br>Country=Yugoslavia<br>Percentage=%{marker.size}<br>locations=%{location}\", \"hovertext\": [\"Yugoslavia\"], \"legendgroup\": \"Country=Yugoslavia\", \"locationmode\": \"country names\", \"locations\": [\"Yugoslavia\"], \"marker\": {\"color\": \"#FECB52\", \"size\": [37.5], \"sizemode\": \"area\", \"sizeref\": 0.10464999999999999}, \"name\": \"Country=Yugoslavia\", \"showlegend\": true, \"type\": \"scattergeo\"}],\n",
              "                        {\"geo\": {\"center\": {}, \"domain\": {\"x\": [0.0, 1.0], \"y\": [0.0, 1.0]}, \"projection\": {\"type\": \"natural earth\"}}, \"legend\": {\"itemsizing\": \"constant\", \"tracegroupgap\": 0}, \"template\": {\"data\": {\"bar\": [{\"error_x\": {\"color\": \"#2a3f5f\"}, \"error_y\": {\"color\": \"#2a3f5f\"}, \"marker\": {\"line\": {\"color\": \"#E5ECF6\", \"width\": 0.5}}, \"type\": \"bar\"}], \"barpolar\": [{\"marker\": {\"line\": {\"color\": \"#E5ECF6\", \"width\": 0.5}}, \"type\": \"barpolar\"}], \"carpet\": [{\"aaxis\": {\"endlinecolor\": \"#2a3f5f\", \"gridcolor\": \"white\", \"linecolor\": \"white\", \"minorgridcolor\": \"white\", \"startlinecolor\": \"#2a3f5f\"}, \"baxis\": {\"endlinecolor\": \"#2a3f5f\", \"gridcolor\": \"white\", \"linecolor\": \"white\", \"minorgridcolor\": \"white\", \"startlinecolor\": \"#2a3f5f\"}, \"type\": \"carpet\"}], \"choropleth\": [{\"colorbar\": {\"outlinewidth\": 0, \"ticks\": \"\"}, \"type\": \"choropleth\"}], \"contour\": [{\"colorbar\": {\"outlinewidth\": 0, \"ticks\": \"\"}, \"colorscale\": [[0.0, \"#0d0887\"], [0.1111111111111111, \"#46039f\"], [0.2222222222222222, \"#7201a8\"], [0.3333333333333333, \"#9c179e\"], [0.4444444444444444, \"#bd3786\"], [0.5555555555555556, \"#d8576b\"], [0.6666666666666666, \"#ed7953\"], [0.7777777777777778, \"#fb9f3a\"], [0.8888888888888888, \"#fdca26\"], [1.0, \"#f0f921\"]], \"type\": \"contour\"}], \"contourcarpet\": [{\"colorbar\": {\"outlinewidth\": 0, \"ticks\": \"\"}, \"type\": \"contourcarpet\"}], \"heatmap\": [{\"colorbar\": {\"outlinewidth\": 0, \"ticks\": \"\"}, \"colorscale\": [[0.0, \"#0d0887\"], [0.1111111111111111, \"#46039f\"], [0.2222222222222222, \"#7201a8\"], [0.3333333333333333, \"#9c179e\"], [0.4444444444444444, \"#bd3786\"], [0.5555555555555556, \"#d8576b\"], [0.6666666666666666, \"#ed7953\"], [0.7777777777777778, \"#fb9f3a\"], [0.8888888888888888, \"#fdca26\"], [1.0, \"#f0f921\"]], \"type\": \"heatmap\"}], \"heatmapgl\": [{\"colorbar\": {\"outlinewidth\": 0, \"ticks\": \"\"}, \"colorscale\": [[0.0, \"#0d0887\"], [0.1111111111111111, \"#46039f\"], [0.2222222222222222, \"#7201a8\"], [0.3333333333333333, \"#9c179e\"], [0.4444444444444444, \"#bd3786\"], [0.5555555555555556, \"#d8576b\"], [0.6666666666666666, \"#ed7953\"], [0.7777777777777778, \"#fb9f3a\"], [0.8888888888888888, \"#fdca26\"], [1.0, \"#f0f921\"]], \"type\": \"heatmapgl\"}], \"histogram\": [{\"marker\": {\"colorbar\": {\"outlinewidth\": 0, \"ticks\": \"\"}}, \"type\": \"histogram\"}], \"histogram2d\": [{\"colorbar\": {\"outlinewidth\": 0, \"ticks\": \"\"}, \"colorscale\": [[0.0, \"#0d0887\"], [0.1111111111111111, \"#46039f\"], [0.2222222222222222, \"#7201a8\"], [0.3333333333333333, \"#9c179e\"], [0.4444444444444444, \"#bd3786\"], [0.5555555555555556, \"#d8576b\"], [0.6666666666666666, \"#ed7953\"], [0.7777777777777778, \"#fb9f3a\"], [0.8888888888888888, \"#fdca26\"], [1.0, \"#f0f921\"]], \"type\": \"histogram2d\"}], \"histogram2dcontour\": [{\"colorbar\": {\"outlinewidth\": 0, \"ticks\": \"\"}, \"colorscale\": [[0.0, \"#0d0887\"], [0.1111111111111111, \"#46039f\"], [0.2222222222222222, \"#7201a8\"], [0.3333333333333333, \"#9c179e\"], [0.4444444444444444, \"#bd3786\"], [0.5555555555555556, \"#d8576b\"], [0.6666666666666666, \"#ed7953\"], [0.7777777777777778, \"#fb9f3a\"], [0.8888888888888888, \"#fdca26\"], [1.0, \"#f0f921\"]], \"type\": \"histogram2dcontour\"}], \"mesh3d\": [{\"colorbar\": {\"outlinewidth\": 0, \"ticks\": \"\"}, \"type\": \"mesh3d\"}], \"parcoords\": [{\"line\": {\"colorbar\": {\"outlinewidth\": 0, \"ticks\": \"\"}}, \"type\": \"parcoords\"}], \"pie\": [{\"automargin\": true, \"type\": \"pie\"}], \"scatter\": [{\"marker\": {\"colorbar\": {\"outlinewidth\": 0, \"ticks\": \"\"}}, \"type\": \"scatter\"}], \"scatter3d\": [{\"line\": {\"colorbar\": {\"outlinewidth\": 0, \"ticks\": \"\"}}, \"marker\": {\"colorbar\": {\"outlinewidth\": 0, \"ticks\": \"\"}}, \"type\": \"scatter3d\"}], \"scattercarpet\": [{\"marker\": {\"colorbar\": {\"outlinewidth\": 0, \"ticks\": \"\"}}, \"type\": \"scattercarpet\"}], \"scattergeo\": [{\"marker\": {\"colorbar\": {\"outlinewidth\": 0, \"ticks\": \"\"}}, \"type\": \"scattergeo\"}], \"scattergl\": [{\"marker\": {\"colorbar\": {\"outlinewidth\": 0, \"ticks\": \"\"}}, \"type\": \"scattergl\"}], \"scattermapbox\": [{\"marker\": {\"colorbar\": {\"outlinewidth\": 0, \"ticks\": \"\"}}, \"type\": \"scattermapbox\"}], \"scatterpolar\": [{\"marker\": {\"colorbar\": {\"outlinewidth\": 0, \"ticks\": \"\"}}, \"type\": \"scatterpolar\"}], \"scatterpolargl\": [{\"marker\": {\"colorbar\": {\"outlinewidth\": 0, \"ticks\": \"\"}}, \"type\": \"scatterpolargl\"}], \"scatterternary\": [{\"marker\": {\"colorbar\": {\"outlinewidth\": 0, \"ticks\": \"\"}}, \"type\": \"scatterternary\"}], \"surface\": [{\"colorbar\": {\"outlinewidth\": 0, \"ticks\": \"\"}, \"colorscale\": [[0.0, \"#0d0887\"], [0.1111111111111111, \"#46039f\"], [0.2222222222222222, \"#7201a8\"], [0.3333333333333333, \"#9c179e\"], [0.4444444444444444, \"#bd3786\"], [0.5555555555555556, \"#d8576b\"], [0.6666666666666666, \"#ed7953\"], [0.7777777777777778, \"#fb9f3a\"], [0.8888888888888888, \"#fdca26\"], [1.0, \"#f0f921\"]], \"type\": \"surface\"}], \"table\": [{\"cells\": {\"fill\": {\"color\": \"#EBF0F8\"}, \"line\": {\"color\": \"white\"}}, \"header\": {\"fill\": {\"color\": \"#C8D4E3\"}, \"line\": {\"color\": \"white\"}}, \"type\": \"table\"}]}, \"layout\": {\"annotationdefaults\": {\"arrowcolor\": \"#2a3f5f\", \"arrowhead\": 0, \"arrowwidth\": 1}, \"coloraxis\": {\"colorbar\": {\"outlinewidth\": 0, \"ticks\": \"\"}}, \"colorscale\": {\"diverging\": [[0, \"#8e0152\"], [0.1, \"#c51b7d\"], [0.2, \"#de77ae\"], [0.3, \"#f1b6da\"], [0.4, \"#fde0ef\"], [0.5, \"#f7f7f7\"], [0.6, \"#e6f5d0\"], [0.7, \"#b8e186\"], [0.8, \"#7fbc41\"], [0.9, \"#4d9221\"], [1, \"#276419\"]], \"sequential\": [[0.0, \"#0d0887\"], [0.1111111111111111, \"#46039f\"], [0.2222222222222222, \"#7201a8\"], [0.3333333333333333, \"#9c179e\"], [0.4444444444444444, \"#bd3786\"], [0.5555555555555556, \"#d8576b\"], [0.6666666666666666, \"#ed7953\"], [0.7777777777777778, \"#fb9f3a\"], [0.8888888888888888, \"#fdca26\"], [1.0, \"#f0f921\"]], \"sequentialminus\": [[0.0, \"#0d0887\"], [0.1111111111111111, \"#46039f\"], [0.2222222222222222, \"#7201a8\"], [0.3333333333333333, \"#9c179e\"], [0.4444444444444444, \"#bd3786\"], [0.5555555555555556, \"#d8576b\"], [0.6666666666666666, \"#ed7953\"], [0.7777777777777778, \"#fb9f3a\"], [0.8888888888888888, \"#fdca26\"], [1.0, \"#f0f921\"]]}, \"colorway\": [\"#636efa\", \"#EF553B\", \"#00cc96\", \"#ab63fa\", \"#FFA15A\", \"#19d3f3\", \"#FF6692\", \"#B6E880\", \"#FF97FF\", \"#FECB52\"], \"font\": {\"color\": \"#2a3f5f\"}, \"geo\": {\"bgcolor\": \"white\", \"lakecolor\": \"white\", \"landcolor\": \"#E5ECF6\", \"showlakes\": true, \"showland\": true, \"subunitcolor\": \"white\"}, \"hoverlabel\": {\"align\": \"left\"}, \"hovermode\": \"closest\", \"mapbox\": {\"style\": \"light\"}, \"paper_bgcolor\": \"white\", \"plot_bgcolor\": \"#E5ECF6\", \"polar\": {\"angularaxis\": {\"gridcolor\": \"white\", \"linecolor\": \"white\", \"ticks\": \"\"}, \"bgcolor\": \"#E5ECF6\", \"radialaxis\": {\"gridcolor\": \"white\", \"linecolor\": \"white\", \"ticks\": \"\"}}, \"scene\": {\"xaxis\": {\"backgroundcolor\": \"#E5ECF6\", \"gridcolor\": \"white\", \"gridwidth\": 2, \"linecolor\": \"white\", \"showbackground\": true, \"ticks\": \"\", \"zerolinecolor\": \"white\"}, \"yaxis\": {\"backgroundcolor\": \"#E5ECF6\", \"gridcolor\": \"white\", \"gridwidth\": 2, \"linecolor\": \"white\", \"showbackground\": true, \"ticks\": \"\", \"zerolinecolor\": \"white\"}, \"zaxis\": {\"backgroundcolor\": \"#E5ECF6\", \"gridcolor\": \"white\", \"gridwidth\": 2, \"linecolor\": \"white\", \"showbackground\": true, \"ticks\": \"\", \"zerolinecolor\": \"white\"}}, \"shapedefaults\": {\"line\": {\"color\": \"#2a3f5f\"}}, \"ternary\": {\"aaxis\": {\"gridcolor\": \"white\", \"linecolor\": \"white\", \"ticks\": \"\"}, \"baxis\": {\"gridcolor\": \"white\", \"linecolor\": \"white\", \"ticks\": \"\"}, \"bgcolor\": \"#E5ECF6\", \"caxis\": {\"gridcolor\": \"white\", \"linecolor\": \"white\", \"ticks\": \"\"}}, \"title\": {\"x\": 0.05}, \"xaxis\": {\"automargin\": true, \"gridcolor\": \"white\", \"linecolor\": \"white\", \"ticks\": \"\", \"title\": {\"standoff\": 15}, \"zerolinecolor\": \"white\", \"zerolinewidth\": 2}, \"yaxis\": {\"automargin\": true, \"gridcolor\": \"white\", \"linecolor\": \"white\", \"ticks\": \"\", \"title\": {\"standoff\": 15}, \"zerolinecolor\": \"white\", \"zerolinewidth\": 2}}}, \"title\": {\"text\": \"Countries and their percentage of the population earning >50K\"}},\n",
              "                        {\"responsive\": true}\n",
              "                    ).then(function(){\n",
              "                            \n",
              "var gd = document.getElementById('f9c5a9b7-f26b-490f-af97-8c1ae4e08340');\n",
              "var x = new MutationObserver(function (mutations, observer) {{\n",
              "        var display = window.getComputedStyle(gd).display;\n",
              "        if (!display || display === 'none') {{\n",
              "            console.log([gd, 'removed!']);\n",
              "            Plotly.purge(gd);\n",
              "            observer.disconnect();\n",
              "        }}\n",
              "}});\n",
              "\n",
              "// Listen for the removal of the full notebook cells\n",
              "var notebookContainer = gd.closest('#notebook-container');\n",
              "if (notebookContainer) {{\n",
              "    x.observe(notebookContainer, {childList: true});\n",
              "}}\n",
              "\n",
              "// Listen for the clearing of the current output cell\n",
              "var outputEl = gd.closest('.output');\n",
              "if (outputEl) {{\n",
              "    x.observe(outputEl, {childList: true});\n",
              "}}\n",
              "\n",
              "                        })\n",
              "                };\n",
              "                \n",
              "            </script>\n",
              "        </div>\n",
              "</body>\n",
              "</html>"
            ]
          },
          "metadata": {
            "tags": []
          }
        }
      ]
    },
    {
      "cell_type": "markdown",
      "metadata": {
        "id": "_eosQMttj799"
      },
      "source": [
        "## Identify the most popular occupation for those who earn >50K in India."
      ]
    },
    {
      "cell_type": "code",
      "metadata": {
        "colab": {
          "base_uri": "https://localhost:8080/",
          "height": 37
        },
        "id": "nj-9V-ankNnB",
        "outputId": "69f87ac9-051e-44ab-94fb-297f83dd8a5f"
      },
      "source": [
        "# Create a mask to choose only rows about people from India which earns >50K\n",
        "mask = (data['salary'] == '>50K') & (data['native-country'] == 'India')\n",
        "\n",
        "# Use mask to dataset\n",
        "top_IN_occupation = (data[mask]['occupation']\n",
        "    # Count values in column 'occupation'\n",
        "    .value_counts()[:1]\n",
        "    # Return occupation with highest number\n",
        "    .index[0])\n",
        "\n",
        "print(\"Top occupations in India:\", top_IN_occupation)"
      ],
      "execution_count": 240,
      "outputs": [
        {
          "output_type": "display_data",
          "data": {
            "application/javascript": [
              "\n",
              "  for (rule of document.styleSheets[0].cssRules){\n",
              "    if (rule.selectorText=='body') {\n",
              "      rule.style.fontSize = '30px'\n",
              "      break\n",
              "    }\n",
              "  }\n",
              "  "
            ],
            "text/plain": [
              "<IPython.core.display.Javascript object>"
            ]
          },
          "metadata": {
            "tags": []
          }
        },
        {
          "output_type": "display_data",
          "data": {
            "application/javascript": [
              "\n",
              "  for (rule of document.styleSheets[0].cssRules){\n",
              "    if (rule.selectorText=='body') {\n",
              "      rule.style.fontSize = '30px'\n",
              "      break\n",
              "    }\n",
              "  }\n",
              "  "
            ],
            "text/plain": [
              "<IPython.core.display.Javascript object>"
            ]
          },
          "metadata": {
            "tags": []
          }
        },
        {
          "output_type": "display_data",
          "data": {
            "application/javascript": [
              "\n",
              "  for (rule of document.styleSheets[0].cssRules){\n",
              "    if (rule.selectorText=='body') {\n",
              "      rule.style.fontSize = '18px'\n",
              "      break\n",
              "    }\n",
              "  }\n",
              "  "
            ],
            "text/plain": [
              "<IPython.core.display.Javascript object>"
            ]
          },
          "metadata": {
            "tags": []
          }
        },
        {
          "output_type": "display_data",
          "data": {
            "application/javascript": [
              "\n",
              "  for (rule of document.styleSheets[0].cssRules){\n",
              "    if (rule.selectorText=='body') {\n",
              "      rule.style.fontSize = '16px'\n",
              "      break\n",
              "    }\n",
              "  }\n",
              "  "
            ],
            "text/plain": [
              "<IPython.core.display.Javascript object>"
            ]
          },
          "metadata": {
            "tags": []
          }
        },
        {
          "output_type": "display_data",
          "data": {
            "application/javascript": [
              "\n",
              "  for (rule of document.styleSheets[0].cssRules){\n",
              "    if (rule.selectorText=='body') {\n",
              "      rule.style.fontSize = '16px'\n",
              "      break\n",
              "    }\n",
              "  }\n",
              "  "
            ],
            "text/plain": [
              "<IPython.core.display.Javascript object>"
            ]
          },
          "metadata": {
            "tags": []
          }
        },
        {
          "output_type": "display_data",
          "data": {
            "application/javascript": [
              "\n",
              "  for (rule of document.styleSheets[0].cssRules){\n",
              "    if (rule.selectorText=='body') {\n",
              "      rule.style.fontSize = '16px'\n",
              "      break\n",
              "    }\n",
              "  }\n",
              "  "
            ],
            "text/plain": [
              "<IPython.core.display.Javascript object>"
            ]
          },
          "metadata": {
            "tags": []
          }
        },
        {
          "output_type": "stream",
          "text": [
            "Top occupations in India: Prof-specialty\n"
          ],
          "name": "stdout"
        }
      ]
    },
    {
      "cell_type": "code",
      "metadata": {
        "colab": {
          "base_uri": "https://localhost:8080/",
          "height": 417
        },
        "id": "ujd3r4Ldj-WA",
        "outputId": "63e6cd1a-0878-40a2-eb78-08c5d82b73b3"
      },
      "source": [
        "# Plotly\n",
        "\n",
        "# I used mask from previous cell to create dataset\n",
        "# Dataset includes occupations and their number\n",
        "data_visualisation = (data[mask]\n",
        "    .groupby(['occupation'], as_index=False)['age']\n",
        "    .count()\n",
        "    .rename({'age': 'count'}, axis=1))\n",
        "\n",
        "\n",
        "# Create plot\n",
        "fig = px.bar(\n",
        "    data_visualisation, \n",
        "    y=\"occupation\", \n",
        "    x=\"count\", \n",
        "    title=\"Professions of rich people in India\", \n",
        "    orientation='h', \n",
        "    height=400\n",
        ")\n",
        "\n",
        "fig.update_yaxes(title='Occupation')\n",
        "fig.update_xaxes(title='Count')\n",
        "\n",
        "fig.show()"
      ],
      "execution_count": 241,
      "outputs": [
        {
          "output_type": "display_data",
          "data": {
            "application/javascript": [
              "\n",
              "  for (rule of document.styleSheets[0].cssRules){\n",
              "    if (rule.selectorText=='body') {\n",
              "      rule.style.fontSize = '30px'\n",
              "      break\n",
              "    }\n",
              "  }\n",
              "  "
            ],
            "text/plain": [
              "<IPython.core.display.Javascript object>"
            ]
          },
          "metadata": {
            "tags": []
          }
        },
        {
          "output_type": "display_data",
          "data": {
            "application/javascript": [
              "\n",
              "  for (rule of document.styleSheets[0].cssRules){\n",
              "    if (rule.selectorText=='body') {\n",
              "      rule.style.fontSize = '30px'\n",
              "      break\n",
              "    }\n",
              "  }\n",
              "  "
            ],
            "text/plain": [
              "<IPython.core.display.Javascript object>"
            ]
          },
          "metadata": {
            "tags": []
          }
        },
        {
          "output_type": "display_data",
          "data": {
            "application/javascript": [
              "\n",
              "  for (rule of document.styleSheets[0].cssRules){\n",
              "    if (rule.selectorText=='body') {\n",
              "      rule.style.fontSize = '18px'\n",
              "      break\n",
              "    }\n",
              "  }\n",
              "  "
            ],
            "text/plain": [
              "<IPython.core.display.Javascript object>"
            ]
          },
          "metadata": {
            "tags": []
          }
        },
        {
          "output_type": "display_data",
          "data": {
            "application/javascript": [
              "\n",
              "  for (rule of document.styleSheets[0].cssRules){\n",
              "    if (rule.selectorText=='body') {\n",
              "      rule.style.fontSize = '16px'\n",
              "      break\n",
              "    }\n",
              "  }\n",
              "  "
            ],
            "text/plain": [
              "<IPython.core.display.Javascript object>"
            ]
          },
          "metadata": {
            "tags": []
          }
        },
        {
          "output_type": "display_data",
          "data": {
            "application/javascript": [
              "\n",
              "  for (rule of document.styleSheets[0].cssRules){\n",
              "    if (rule.selectorText=='body') {\n",
              "      rule.style.fontSize = '16px'\n",
              "      break\n",
              "    }\n",
              "  }\n",
              "  "
            ],
            "text/plain": [
              "<IPython.core.display.Javascript object>"
            ]
          },
          "metadata": {
            "tags": []
          }
        },
        {
          "output_type": "display_data",
          "data": {
            "application/javascript": [
              "\n",
              "  for (rule of document.styleSheets[0].cssRules){\n",
              "    if (rule.selectorText=='body') {\n",
              "      rule.style.fontSize = '16px'\n",
              "      break\n",
              "    }\n",
              "  }\n",
              "  "
            ],
            "text/plain": [
              "<IPython.core.display.Javascript object>"
            ]
          },
          "metadata": {
            "tags": []
          }
        },
        {
          "output_type": "display_data",
          "data": {
            "text/html": [
              "<html>\n",
              "<head><meta charset=\"utf-8\" /></head>\n",
              "<body>\n",
              "    <div>\n",
              "            <script src=\"https://cdnjs.cloudflare.com/ajax/libs/mathjax/2.7.5/MathJax.js?config=TeX-AMS-MML_SVG\"></script><script type=\"text/javascript\">if (window.MathJax) {MathJax.Hub.Config({SVG: {font: \"STIX-Web\"}});}</script>\n",
              "                <script type=\"text/javascript\">window.PlotlyConfig = {MathJaxConfig: 'local'};</script>\n",
              "        <script src=\"https://cdn.plot.ly/plotly-latest.min.js\"></script>    \n",
              "            <div id=\"0cf388ec-2fa1-405a-80a1-0ccb53657724\" class=\"plotly-graph-div\" style=\"height:400px; width:100%;\"></div>\n",
              "            <script type=\"text/javascript\">\n",
              "                \n",
              "                    window.PLOTLYENV=window.PLOTLYENV || {};\n",
              "                    \n",
              "                if (document.getElementById(\"0cf388ec-2fa1-405a-80a1-0ccb53657724\")) {\n",
              "                    Plotly.newPlot(\n",
              "                        '0cf388ec-2fa1-405a-80a1-0ccb53657724',\n",
              "                        [{\"alignmentgroup\": \"True\", \"hoverlabel\": {\"namelength\": 0}, \"hovertemplate\": \"count=%{x}<br>occupation=%{y}\", \"legendgroup\": \"\", \"marker\": {\"color\": \"#636efa\"}, \"name\": \"\", \"offsetgroup\": \"\", \"orientation\": \"h\", \"showlegend\": false, \"textposition\": \"auto\", \"type\": \"bar\", \"x\": [1, 8, 2, 25, 1, 2, 1], \"xaxis\": \"x\", \"y\": [\"Adm-clerical\", \"Exec-managerial\", \"Other-service\", \"Prof-specialty\", \"Sales\", \"Tech-support\", \"Transport-moving\"], \"yaxis\": \"y\"}],\n",
              "                        {\"barmode\": \"relative\", \"height\": 400, \"legend\": {\"tracegroupgap\": 0}, \"template\": {\"data\": {\"bar\": [{\"error_x\": {\"color\": \"#2a3f5f\"}, \"error_y\": {\"color\": \"#2a3f5f\"}, \"marker\": {\"line\": {\"color\": \"#E5ECF6\", \"width\": 0.5}}, \"type\": \"bar\"}], \"barpolar\": [{\"marker\": {\"line\": {\"color\": \"#E5ECF6\", \"width\": 0.5}}, \"type\": \"barpolar\"}], \"carpet\": [{\"aaxis\": {\"endlinecolor\": \"#2a3f5f\", \"gridcolor\": \"white\", \"linecolor\": \"white\", \"minorgridcolor\": \"white\", \"startlinecolor\": \"#2a3f5f\"}, \"baxis\": {\"endlinecolor\": \"#2a3f5f\", \"gridcolor\": \"white\", \"linecolor\": \"white\", \"minorgridcolor\": \"white\", \"startlinecolor\": \"#2a3f5f\"}, \"type\": \"carpet\"}], \"choropleth\": [{\"colorbar\": {\"outlinewidth\": 0, \"ticks\": \"\"}, \"type\": \"choropleth\"}], \"contour\": [{\"colorbar\": {\"outlinewidth\": 0, \"ticks\": \"\"}, \"colorscale\": [[0.0, \"#0d0887\"], [0.1111111111111111, \"#46039f\"], [0.2222222222222222, \"#7201a8\"], [0.3333333333333333, \"#9c179e\"], [0.4444444444444444, \"#bd3786\"], [0.5555555555555556, \"#d8576b\"], [0.6666666666666666, \"#ed7953\"], [0.7777777777777778, \"#fb9f3a\"], [0.8888888888888888, \"#fdca26\"], [1.0, \"#f0f921\"]], \"type\": \"contour\"}], \"contourcarpet\": [{\"colorbar\": {\"outlinewidth\": 0, \"ticks\": \"\"}, \"type\": \"contourcarpet\"}], \"heatmap\": [{\"colorbar\": {\"outlinewidth\": 0, \"ticks\": \"\"}, \"colorscale\": [[0.0, \"#0d0887\"], [0.1111111111111111, \"#46039f\"], [0.2222222222222222, \"#7201a8\"], [0.3333333333333333, \"#9c179e\"], [0.4444444444444444, \"#bd3786\"], [0.5555555555555556, \"#d8576b\"], [0.6666666666666666, \"#ed7953\"], [0.7777777777777778, \"#fb9f3a\"], [0.8888888888888888, \"#fdca26\"], [1.0, \"#f0f921\"]], \"type\": \"heatmap\"}], \"heatmapgl\": [{\"colorbar\": {\"outlinewidth\": 0, \"ticks\": \"\"}, \"colorscale\": [[0.0, \"#0d0887\"], [0.1111111111111111, \"#46039f\"], [0.2222222222222222, \"#7201a8\"], [0.3333333333333333, \"#9c179e\"], [0.4444444444444444, \"#bd3786\"], [0.5555555555555556, \"#d8576b\"], [0.6666666666666666, \"#ed7953\"], [0.7777777777777778, \"#fb9f3a\"], [0.8888888888888888, \"#fdca26\"], [1.0, \"#f0f921\"]], \"type\": \"heatmapgl\"}], \"histogram\": [{\"marker\": {\"colorbar\": {\"outlinewidth\": 0, \"ticks\": \"\"}}, \"type\": \"histogram\"}], \"histogram2d\": [{\"colorbar\": {\"outlinewidth\": 0, \"ticks\": \"\"}, \"colorscale\": [[0.0, \"#0d0887\"], [0.1111111111111111, \"#46039f\"], [0.2222222222222222, \"#7201a8\"], [0.3333333333333333, \"#9c179e\"], [0.4444444444444444, \"#bd3786\"], [0.5555555555555556, \"#d8576b\"], [0.6666666666666666, \"#ed7953\"], [0.7777777777777778, \"#fb9f3a\"], [0.8888888888888888, \"#fdca26\"], [1.0, \"#f0f921\"]], \"type\": \"histogram2d\"}], \"histogram2dcontour\": [{\"colorbar\": {\"outlinewidth\": 0, \"ticks\": \"\"}, \"colorscale\": [[0.0, \"#0d0887\"], [0.1111111111111111, \"#46039f\"], [0.2222222222222222, \"#7201a8\"], [0.3333333333333333, \"#9c179e\"], [0.4444444444444444, \"#bd3786\"], [0.5555555555555556, \"#d8576b\"], [0.6666666666666666, \"#ed7953\"], [0.7777777777777778, \"#fb9f3a\"], [0.8888888888888888, \"#fdca26\"], [1.0, \"#f0f921\"]], \"type\": \"histogram2dcontour\"}], \"mesh3d\": [{\"colorbar\": {\"outlinewidth\": 0, \"ticks\": \"\"}, \"type\": \"mesh3d\"}], \"parcoords\": [{\"line\": {\"colorbar\": {\"outlinewidth\": 0, \"ticks\": \"\"}}, \"type\": \"parcoords\"}], \"pie\": [{\"automargin\": true, \"type\": \"pie\"}], \"scatter\": [{\"marker\": {\"colorbar\": {\"outlinewidth\": 0, \"ticks\": \"\"}}, \"type\": \"scatter\"}], \"scatter3d\": [{\"line\": {\"colorbar\": {\"outlinewidth\": 0, \"ticks\": \"\"}}, \"marker\": {\"colorbar\": {\"outlinewidth\": 0, \"ticks\": \"\"}}, \"type\": \"scatter3d\"}], \"scattercarpet\": [{\"marker\": {\"colorbar\": {\"outlinewidth\": 0, \"ticks\": \"\"}}, \"type\": \"scattercarpet\"}], \"scattergeo\": [{\"marker\": {\"colorbar\": {\"outlinewidth\": 0, \"ticks\": \"\"}}, \"type\": \"scattergeo\"}], \"scattergl\": [{\"marker\": {\"colorbar\": {\"outlinewidth\": 0, \"ticks\": \"\"}}, \"type\": \"scattergl\"}], \"scattermapbox\": [{\"marker\": {\"colorbar\": {\"outlinewidth\": 0, \"ticks\": \"\"}}, \"type\": \"scattermapbox\"}], \"scatterpolar\": [{\"marker\": {\"colorbar\": {\"outlinewidth\": 0, \"ticks\": \"\"}}, \"type\": \"scatterpolar\"}], \"scatterpolargl\": [{\"marker\": {\"colorbar\": {\"outlinewidth\": 0, \"ticks\": \"\"}}, \"type\": \"scatterpolargl\"}], \"scatterternary\": [{\"marker\": {\"colorbar\": {\"outlinewidth\": 0, \"ticks\": \"\"}}, \"type\": \"scatterternary\"}], \"surface\": [{\"colorbar\": {\"outlinewidth\": 0, \"ticks\": \"\"}, \"colorscale\": [[0.0, \"#0d0887\"], [0.1111111111111111, \"#46039f\"], [0.2222222222222222, \"#7201a8\"], [0.3333333333333333, \"#9c179e\"], [0.4444444444444444, \"#bd3786\"], [0.5555555555555556, \"#d8576b\"], [0.6666666666666666, \"#ed7953\"], [0.7777777777777778, \"#fb9f3a\"], [0.8888888888888888, \"#fdca26\"], [1.0, \"#f0f921\"]], \"type\": \"surface\"}], \"table\": [{\"cells\": {\"fill\": {\"color\": \"#EBF0F8\"}, \"line\": {\"color\": \"white\"}}, \"header\": {\"fill\": {\"color\": \"#C8D4E3\"}, \"line\": {\"color\": \"white\"}}, \"type\": \"table\"}]}, \"layout\": {\"annotationdefaults\": {\"arrowcolor\": \"#2a3f5f\", \"arrowhead\": 0, \"arrowwidth\": 1}, \"coloraxis\": {\"colorbar\": {\"outlinewidth\": 0, \"ticks\": \"\"}}, \"colorscale\": {\"diverging\": [[0, \"#8e0152\"], [0.1, \"#c51b7d\"], [0.2, \"#de77ae\"], [0.3, \"#f1b6da\"], [0.4, \"#fde0ef\"], [0.5, \"#f7f7f7\"], [0.6, \"#e6f5d0\"], [0.7, \"#b8e186\"], [0.8, \"#7fbc41\"], [0.9, \"#4d9221\"], [1, \"#276419\"]], \"sequential\": [[0.0, \"#0d0887\"], [0.1111111111111111, \"#46039f\"], [0.2222222222222222, \"#7201a8\"], [0.3333333333333333, \"#9c179e\"], [0.4444444444444444, \"#bd3786\"], [0.5555555555555556, \"#d8576b\"], [0.6666666666666666, \"#ed7953\"], [0.7777777777777778, \"#fb9f3a\"], [0.8888888888888888, \"#fdca26\"], [1.0, \"#f0f921\"]], \"sequentialminus\": [[0.0, \"#0d0887\"], [0.1111111111111111, \"#46039f\"], [0.2222222222222222, \"#7201a8\"], [0.3333333333333333, \"#9c179e\"], [0.4444444444444444, \"#bd3786\"], [0.5555555555555556, \"#d8576b\"], [0.6666666666666666, \"#ed7953\"], [0.7777777777777778, \"#fb9f3a\"], [0.8888888888888888, \"#fdca26\"], [1.0, \"#f0f921\"]]}, \"colorway\": [\"#636efa\", \"#EF553B\", \"#00cc96\", \"#ab63fa\", \"#FFA15A\", \"#19d3f3\", \"#FF6692\", \"#B6E880\", \"#FF97FF\", \"#FECB52\"], \"font\": {\"color\": \"#2a3f5f\"}, \"geo\": {\"bgcolor\": \"white\", \"lakecolor\": \"white\", \"landcolor\": \"#E5ECF6\", \"showlakes\": true, \"showland\": true, \"subunitcolor\": \"white\"}, \"hoverlabel\": {\"align\": \"left\"}, \"hovermode\": \"closest\", \"mapbox\": {\"style\": \"light\"}, \"paper_bgcolor\": \"white\", \"plot_bgcolor\": \"#E5ECF6\", \"polar\": {\"angularaxis\": {\"gridcolor\": \"white\", \"linecolor\": \"white\", \"ticks\": \"\"}, \"bgcolor\": \"#E5ECF6\", \"radialaxis\": {\"gridcolor\": \"white\", \"linecolor\": \"white\", \"ticks\": \"\"}}, \"scene\": {\"xaxis\": {\"backgroundcolor\": \"#E5ECF6\", \"gridcolor\": \"white\", \"gridwidth\": 2, \"linecolor\": \"white\", \"showbackground\": true, \"ticks\": \"\", \"zerolinecolor\": \"white\"}, \"yaxis\": {\"backgroundcolor\": \"#E5ECF6\", \"gridcolor\": \"white\", \"gridwidth\": 2, \"linecolor\": \"white\", \"showbackground\": true, \"ticks\": \"\", \"zerolinecolor\": \"white\"}, \"zaxis\": {\"backgroundcolor\": \"#E5ECF6\", \"gridcolor\": \"white\", \"gridwidth\": 2, \"linecolor\": \"white\", \"showbackground\": true, \"ticks\": \"\", \"zerolinecolor\": \"white\"}}, \"shapedefaults\": {\"line\": {\"color\": \"#2a3f5f\"}}, \"ternary\": {\"aaxis\": {\"gridcolor\": \"white\", \"linecolor\": \"white\", \"ticks\": \"\"}, \"baxis\": {\"gridcolor\": \"white\", \"linecolor\": \"white\", \"ticks\": \"\"}, \"bgcolor\": \"#E5ECF6\", \"caxis\": {\"gridcolor\": \"white\", \"linecolor\": \"white\", \"ticks\": \"\"}}, \"title\": {\"x\": 0.05}, \"xaxis\": {\"automargin\": true, \"gridcolor\": \"white\", \"linecolor\": \"white\", \"ticks\": \"\", \"title\": {\"standoff\": 15}, \"zerolinecolor\": \"white\", \"zerolinewidth\": 2}, \"yaxis\": {\"automargin\": true, \"gridcolor\": \"white\", \"linecolor\": \"white\", \"ticks\": \"\", \"title\": {\"standoff\": 15}, \"zerolinecolor\": \"white\", \"zerolinewidth\": 2}}}, \"title\": {\"text\": \"Professions of rich people in India\"}, \"xaxis\": {\"anchor\": \"y\", \"domain\": [0.0, 1.0], \"title\": {\"text\": \"Count\"}}, \"yaxis\": {\"anchor\": \"x\", \"domain\": [0.0, 1.0], \"title\": {\"text\": \"Occupation\"}}},\n",
              "                        {\"responsive\": true}\n",
              "                    ).then(function(){\n",
              "                            \n",
              "var gd = document.getElementById('0cf388ec-2fa1-405a-80a1-0ccb53657724');\n",
              "var x = new MutationObserver(function (mutations, observer) {{\n",
              "        var display = window.getComputedStyle(gd).display;\n",
              "        if (!display || display === 'none') {{\n",
              "            console.log([gd, 'removed!']);\n",
              "            Plotly.purge(gd);\n",
              "            observer.disconnect();\n",
              "        }}\n",
              "}});\n",
              "\n",
              "// Listen for the removal of the full notebook cells\n",
              "var notebookContainer = gd.closest('#notebook-container');\n",
              "if (notebookContainer) {{\n",
              "    x.observe(notebookContainer, {childList: true});\n",
              "}}\n",
              "\n",
              "// Listen for the clearing of the current output cell\n",
              "var outputEl = gd.closest('.output');\n",
              "if (outputEl) {{\n",
              "    x.observe(outputEl, {childList: true});\n",
              "}}\n",
              "\n",
              "                        })\n",
              "                };\n",
              "                \n",
              "            </script>\n",
              "        </div>\n",
              "</body>\n",
              "</html>"
            ]
          },
          "metadata": {
            "tags": []
          }
        }
      ]
    }
  ]
}